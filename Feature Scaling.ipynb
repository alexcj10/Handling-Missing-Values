{
 "cells": [
  {
   "cell_type": "markdown",
   "id": "de3e3632",
   "metadata": {
    "papermill": {
     "duration": 0.009423,
     "end_time": "2025-04-08T16:26:25.374169",
     "exception": false,
     "start_time": "2025-04-08T16:26:25.364746",
     "status": "completed"
    },
    "tags": []
   },
   "source": [
    "# Feature Scaling"
   ]
  },
  {
   "cell_type": "markdown",
   "id": "2ca3e19e",
   "metadata": {
    "papermill": {
     "duration": 0.008438,
     "end_time": "2025-04-08T16:26:25.391349",
     "exception": false,
     "start_time": "2025-04-08T16:26:25.382911",
     "status": "completed"
    },
    "tags": []
   },
   "source": [
    "**to use or implement the feature scaling technique we need to install the python library called scikit-learn**"
   ]
  },
  {
   "cell_type": "code",
   "execution_count": 1,
   "id": "2f9a9014",
   "metadata": {
    "execution": {
     "iopub.execute_input": "2025-04-08T16:26:25.409643Z",
     "iopub.status.busy": "2025-04-08T16:26:25.409310Z",
     "iopub.status.idle": "2025-04-08T16:26:36.189333Z",
     "shell.execute_reply": "2025-04-08T16:26:36.188006Z"
    },
    "papermill": {
     "duration": 10.791324,
     "end_time": "2025-04-08T16:26:36.191200",
     "exception": false,
     "start_time": "2025-04-08T16:26:25.399876",
     "status": "completed"
    },
    "tags": []
   },
   "outputs": [
    {
     "name": "stdout",
     "output_type": "stream",
     "text": [
      "Requirement already satisfied: scikit-learn in /usr/local/lib/python3.10/dist-packages (1.2.2)\r\n",
      "Collecting scikit-learn\r\n",
      "  Downloading scikit_learn-1.6.1-cp310-cp310-manylinux_2_17_x86_64.manylinux2014_x86_64.whl.metadata (18 kB)\r\n",
      "Requirement already satisfied: numpy>=1.19.5 in /usr/local/lib/python3.10/dist-packages (from scikit-learn) (1.26.4)\r\n",
      "Requirement already satisfied: scipy>=1.6.0 in /usr/local/lib/python3.10/dist-packages (from scikit-learn) (1.13.1)\r\n",
      "Requirement already satisfied: joblib>=1.2.0 in /usr/local/lib/python3.10/dist-packages (from scikit-learn) (1.4.2)\r\n",
      "Requirement already satisfied: threadpoolctl>=3.1.0 in /usr/local/lib/python3.10/dist-packages (from scikit-learn) (3.5.0)\r\n",
      "Requirement already satisfied: mkl_fft in /usr/local/lib/python3.10/dist-packages (from numpy>=1.19.5->scikit-learn) (1.3.8)\r\n",
      "Requirement already satisfied: mkl_random in /usr/local/lib/python3.10/dist-packages (from numpy>=1.19.5->scikit-learn) (1.2.4)\r\n",
      "Requirement already satisfied: mkl_umath in /usr/local/lib/python3.10/dist-packages (from numpy>=1.19.5->scikit-learn) (0.1.1)\r\n",
      "Requirement already satisfied: mkl in /usr/local/lib/python3.10/dist-packages (from numpy>=1.19.5->scikit-learn) (2025.0.1)\r\n",
      "Requirement already satisfied: tbb4py in /usr/local/lib/python3.10/dist-packages (from numpy>=1.19.5->scikit-learn) (2022.0.0)\r\n",
      "Requirement already satisfied: mkl-service in /usr/local/lib/python3.10/dist-packages (from numpy>=1.19.5->scikit-learn) (2.4.1)\r\n",
      "Requirement already satisfied: intel-openmp>=2024 in /usr/local/lib/python3.10/dist-packages (from mkl->numpy>=1.19.5->scikit-learn) (2024.2.0)\r\n",
      "Requirement already satisfied: tbb==2022.* in /usr/local/lib/python3.10/dist-packages (from mkl->numpy>=1.19.5->scikit-learn) (2022.0.0)\r\n",
      "Requirement already satisfied: tcmlib==1.* in /usr/local/lib/python3.10/dist-packages (from tbb==2022.*->mkl->numpy>=1.19.5->scikit-learn) (1.2.0)\r\n",
      "Requirement already satisfied: intel-cmplr-lib-rt in /usr/local/lib/python3.10/dist-packages (from mkl_umath->numpy>=1.19.5->scikit-learn) (2024.2.0)\r\n",
      "Requirement already satisfied: intel-cmplr-lib-ur==2024.2.0 in /usr/local/lib/python3.10/dist-packages (from intel-openmp>=2024->mkl->numpy>=1.19.5->scikit-learn) (2024.2.0)\r\n",
      "Downloading scikit_learn-1.6.1-cp310-cp310-manylinux_2_17_x86_64.manylinux2014_x86_64.whl (13.5 MB)\r\n",
      "\u001b[2K   \u001b[90m━━━━━━━━━━━━━━━━━━━━━━━━━━━━━━━━━━━━━━━━\u001b[0m \u001b[32m13.5/13.5 MB\u001b[0m \u001b[31m79.8 MB/s\u001b[0m eta \u001b[36m0:00:00\u001b[0m\r\n",
      "\u001b[?25hInstalling collected packages: scikit-learn\r\n",
      "  Attempting uninstall: scikit-learn\r\n",
      "    Found existing installation: scikit-learn 1.2.2\r\n",
      "    Uninstalling scikit-learn-1.2.2:\r\n",
      "      Successfully uninstalled scikit-learn-1.2.2\r\n",
      "\u001b[31mERROR: pip's dependency resolver does not currently take into account all the packages that are installed. This behaviour is the source of the following dependency conflicts.\r\n",
      "category-encoders 2.7.0 requires scikit-learn<1.6.0,>=1.0.0, but you have scikit-learn 1.6.1 which is incompatible.\u001b[0m\u001b[31m\r\n",
      "\u001b[0mSuccessfully installed scikit-learn-1.6.1\r\n",
      "Note: you may need to restart the kernel to use updated packages.\n"
     ]
    }
   ],
   "source": [
    "pip install -U scikit-learn"
   ]
  },
  {
   "cell_type": "code",
   "execution_count": 2,
   "id": "2572b858",
   "metadata": {
    "execution": {
     "iopub.execute_input": "2025-04-08T16:26:36.212176Z",
     "iopub.status.busy": "2025-04-08T16:26:36.211736Z",
     "iopub.status.idle": "2025-04-08T16:26:39.086576Z",
     "shell.execute_reply": "2025-04-08T16:26:39.085703Z"
    },
    "papermill": {
     "duration": 2.887367,
     "end_time": "2025-04-08T16:26:39.088444",
     "exception": false,
     "start_time": "2025-04-08T16:26:36.201077",
     "status": "completed"
    },
    "tags": []
   },
   "outputs": [],
   "source": [
    "import pandas as pd\n",
    "import numpy as np\n",
    "import matplotlib.pyplot as plt\n",
    "import seaborn as sns"
   ]
  },
  {
   "cell_type": "code",
   "execution_count": 3,
   "id": "336938c5",
   "metadata": {
    "execution": {
     "iopub.execute_input": "2025-04-08T16:26:39.109201Z",
     "iopub.status.busy": "2025-04-08T16:26:39.108638Z",
     "iopub.status.idle": "2025-04-08T16:26:39.134779Z",
     "shell.execute_reply": "2025-04-08T16:26:39.133866Z"
    },
    "papermill": {
     "duration": 0.038289,
     "end_time": "2025-04-08T16:26:39.136554",
     "exception": false,
     "start_time": "2025-04-08T16:26:39.098265",
     "status": "completed"
    },
    "tags": []
   },
   "outputs": [],
   "source": [
    "df = pd.read_csv('/kaggle/input/diabetes-missing-data/Diabetes Missing Data.csv')"
   ]
  },
  {
   "cell_type": "code",
   "execution_count": 4,
   "id": "21449231",
   "metadata": {
    "execution": {
     "iopub.execute_input": "2025-04-08T16:26:39.158556Z",
     "iopub.status.busy": "2025-04-08T16:26:39.158229Z",
     "iopub.status.idle": "2025-04-08T16:26:39.190674Z",
     "shell.execute_reply": "2025-04-08T16:26:39.189454Z"
    },
    "papermill": {
     "duration": 0.04499,
     "end_time": "2025-04-08T16:26:39.192432",
     "exception": false,
     "start_time": "2025-04-08T16:26:39.147442",
     "status": "completed"
    },
    "tags": []
   },
   "outputs": [
    {
     "name": "stdout",
     "output_type": "stream",
     "text": [
      "<class 'pandas.core.frame.DataFrame'>\n",
      "RangeIndex: 768 entries, 0 to 767\n",
      "Data columns (total 9 columns):\n",
      " #   Column             Non-Null Count  Dtype  \n",
      "---  ------             --------------  -----  \n",
      " 0   Pregnant           768 non-null    int64  \n",
      " 1   Glucose            763 non-null    float64\n",
      " 2   Diastolic_BP       733 non-null    float64\n",
      " 3   Skin_Fold          541 non-null    float64\n",
      " 4   Serum_Insulin      394 non-null    float64\n",
      " 5   BMI                757 non-null    float64\n",
      " 6   Diabetes_Pedigree  768 non-null    float64\n",
      " 7   Age                768 non-null    int64  \n",
      " 8   Class              768 non-null    int64  \n",
      "dtypes: float64(6), int64(3)\n",
      "memory usage: 54.1 KB\n"
     ]
    }
   ],
   "source": [
    "df.info()"
   ]
  },
  {
   "cell_type": "code",
   "execution_count": 5,
   "id": "6cde12a8",
   "metadata": {
    "execution": {
     "iopub.execute_input": "2025-04-08T16:26:39.214116Z",
     "iopub.status.busy": "2025-04-08T16:26:39.213681Z",
     "iopub.status.idle": "2025-04-08T16:26:39.222637Z",
     "shell.execute_reply": "2025-04-08T16:26:39.221445Z"
    },
    "papermill": {
     "duration": 0.021793,
     "end_time": "2025-04-08T16:26:39.224333",
     "exception": false,
     "start_time": "2025-04-08T16:26:39.202540",
     "status": "completed"
    },
    "tags": []
   },
   "outputs": [
    {
     "data": {
      "text/plain": [
       "Pregnant               0\n",
       "Glucose                5\n",
       "Diastolic_BP          35\n",
       "Skin_Fold            227\n",
       "Serum_Insulin        374\n",
       "BMI                   11\n",
       "Diabetes_Pedigree      0\n",
       "Age                    0\n",
       "Class                  0\n",
       "dtype: int64"
      ]
     },
     "execution_count": 5,
     "metadata": {},
     "output_type": "execute_result"
    }
   ],
   "source": [
    "df.isnull().sum()"
   ]
  },
  {
   "cell_type": "markdown",
   "id": "85219cc9",
   "metadata": {
    "papermill": {
     "duration": 0.00962,
     "end_time": "2025-04-08T16:26:39.243815",
     "exception": false,
     "start_time": "2025-04-08T16:26:39.234195",
     "status": "completed"
    },
    "tags": []
   },
   "source": [
    "# Importing sklearn"
   ]
  },
  {
   "cell_type": "markdown",
   "id": "c35873d4",
   "metadata": {
    "papermill": {
     "duration": 0.009263,
     "end_time": "2025-04-08T16:26:39.262732",
     "exception": false,
     "start_time": "2025-04-08T16:26:39.253469",
     "status": "completed"
    },
    "tags": []
   },
   "source": [
    "**StandardScaler means Standardization**<br>\n",
    "**MinMaxScaler means Normalization**<br>\n",
    "\n",
    "**This are Feature Scaling Techniques used inorder to have unbiased ML Model & it is also used as a part of cleaning process**"
   ]
  },
  {
   "cell_type": "code",
   "execution_count": 6,
   "id": "f0b0f5eb",
   "metadata": {
    "execution": {
     "iopub.execute_input": "2025-04-08T16:26:39.283138Z",
     "iopub.status.busy": "2025-04-08T16:26:39.282692Z",
     "iopub.status.idle": "2025-04-08T16:26:39.394228Z",
     "shell.execute_reply": "2025-04-08T16:26:39.393190Z"
    },
    "papermill": {
     "duration": 0.124192,
     "end_time": "2025-04-08T16:26:39.396456",
     "exception": false,
     "start_time": "2025-04-08T16:26:39.272264",
     "status": "completed"
    },
    "tags": []
   },
   "outputs": [],
   "source": [
    "from sklearn.preprocessing import StandardScaler\n",
    "from sklearn.preprocessing import MinMaxScaler"
   ]
  },
  {
   "cell_type": "markdown",
   "id": "5219381e",
   "metadata": {
    "papermill": {
     "duration": 0.009665,
     "end_time": "2025-04-08T16:26:39.416670",
     "exception": false,
     "start_time": "2025-04-08T16:26:39.407005",
     "status": "completed"
    },
    "tags": []
   },
   "source": [
    "What is Normalization?<br>\n",
    "Normalization is a scaling technique in which values are shifted and rescaled so that they end up ranging between 0 and 1. It is also know as Min-Max scaling"
   ]
  },
  {
   "cell_type": "markdown",
   "id": "bb00c3f0",
   "metadata": {
    "papermill": {
     "duration": 0.009428,
     "end_time": "2025-04-08T16:26:39.435919",
     "exception": false,
     "start_time": "2025-04-08T16:26:39.426491",
     "status": "completed"
    },
    "tags": []
   },
   "source": [
    "What is Standardization?<br>\n",
    "Standardization is another scaling technique where the values are centered around the mean with a unit standard deviation. This means that the mean of the attribute becomes zero and the resultant distribution has a unit standard deviation."
   ]
  },
  {
   "cell_type": "code",
   "execution_count": 7,
   "id": "4bb07028",
   "metadata": {
    "execution": {
     "iopub.execute_input": "2025-04-08T16:26:39.457236Z",
     "iopub.status.busy": "2025-04-08T16:26:39.456660Z",
     "iopub.status.idle": "2025-04-08T16:26:39.463021Z",
     "shell.execute_reply": "2025-04-08T16:26:39.462038Z"
    },
    "papermill": {
     "duration": 0.018504,
     "end_time": "2025-04-08T16:26:39.464643",
     "exception": false,
     "start_time": "2025-04-08T16:26:39.446139",
     "status": "completed"
    },
    "tags": []
   },
   "outputs": [
    {
     "data": {
      "text/plain": [
       "155.5482233502538"
      ]
     },
     "execution_count": 7,
     "metadata": {},
     "output_type": "execute_result"
    }
   ],
   "source": [
    "df['Serum_Insulin'].mean()"
   ]
  },
  {
   "cell_type": "code",
   "execution_count": 8,
   "id": "c82eaedf",
   "metadata": {
    "execution": {
     "iopub.execute_input": "2025-04-08T16:26:39.486232Z",
     "iopub.status.busy": "2025-04-08T16:26:39.485814Z",
     "iopub.status.idle": "2025-04-08T16:26:39.515583Z",
     "shell.execute_reply": "2025-04-08T16:26:39.514384Z"
    },
    "papermill": {
     "duration": 0.042439,
     "end_time": "2025-04-08T16:26:39.517365",
     "exception": false,
     "start_time": "2025-04-08T16:26:39.474926",
     "status": "completed"
    },
    "tags": []
   },
   "outputs": [
    {
     "name": "stderr",
     "output_type": "stream",
     "text": [
      "/usr/local/lib/python3.10/dist-packages/pandas/io/formats/format.py:1458: RuntimeWarning: invalid value encountered in greater\n",
      "  has_large_values = (abs_vals > 1e6).any()\n",
      "/usr/local/lib/python3.10/dist-packages/pandas/io/formats/format.py:1459: RuntimeWarning: invalid value encountered in less\n",
      "  has_small_values = ((abs_vals < 10 ** (-self.digits)) & (abs_vals > 0)).any()\n",
      "/usr/local/lib/python3.10/dist-packages/pandas/io/formats/format.py:1459: RuntimeWarning: invalid value encountered in greater\n",
      "  has_small_values = ((abs_vals < 10 ** (-self.digits)) & (abs_vals > 0)).any()\n"
     ]
    },
    {
     "data": {
      "text/html": [
       "<div>\n",
       "<style scoped>\n",
       "    .dataframe tbody tr th:only-of-type {\n",
       "        vertical-align: middle;\n",
       "    }\n",
       "\n",
       "    .dataframe tbody tr th {\n",
       "        vertical-align: top;\n",
       "    }\n",
       "\n",
       "    .dataframe thead th {\n",
       "        text-align: right;\n",
       "    }\n",
       "</style>\n",
       "<table border=\"1\" class=\"dataframe\">\n",
       "  <thead>\n",
       "    <tr style=\"text-align: right;\">\n",
       "      <th></th>\n",
       "      <th>Pregnant</th>\n",
       "      <th>Glucose</th>\n",
       "      <th>Diastolic_BP</th>\n",
       "      <th>Skin_Fold</th>\n",
       "      <th>Serum_Insulin</th>\n",
       "      <th>BMI</th>\n",
       "      <th>Diabetes_Pedigree</th>\n",
       "      <th>Age</th>\n",
       "      <th>Class</th>\n",
       "    </tr>\n",
       "  </thead>\n",
       "  <tbody>\n",
       "    <tr>\n",
       "      <th>0</th>\n",
       "      <td>6</td>\n",
       "      <td>148.0</td>\n",
       "      <td>72.0</td>\n",
       "      <td>35.0</td>\n",
       "      <td>NaN</td>\n",
       "      <td>33.6</td>\n",
       "      <td>0.627</td>\n",
       "      <td>50</td>\n",
       "      <td>1</td>\n",
       "    </tr>\n",
       "    <tr>\n",
       "      <th>1</th>\n",
       "      <td>1</td>\n",
       "      <td>85.0</td>\n",
       "      <td>66.0</td>\n",
       "      <td>29.0</td>\n",
       "      <td>NaN</td>\n",
       "      <td>26.6</td>\n",
       "      <td>0.351</td>\n",
       "      <td>31</td>\n",
       "      <td>0</td>\n",
       "    </tr>\n",
       "    <tr>\n",
       "      <th>2</th>\n",
       "      <td>8</td>\n",
       "      <td>183.0</td>\n",
       "      <td>64.0</td>\n",
       "      <td>NaN</td>\n",
       "      <td>NaN</td>\n",
       "      <td>23.3</td>\n",
       "      <td>0.672</td>\n",
       "      <td>32</td>\n",
       "      <td>1</td>\n",
       "    </tr>\n",
       "    <tr>\n",
       "      <th>3</th>\n",
       "      <td>1</td>\n",
       "      <td>89.0</td>\n",
       "      <td>66.0</td>\n",
       "      <td>23.0</td>\n",
       "      <td>94.0</td>\n",
       "      <td>28.1</td>\n",
       "      <td>0.167</td>\n",
       "      <td>21</td>\n",
       "      <td>0</td>\n",
       "    </tr>\n",
       "    <tr>\n",
       "      <th>4</th>\n",
       "      <td>0</td>\n",
       "      <td>137.0</td>\n",
       "      <td>40.0</td>\n",
       "      <td>35.0</td>\n",
       "      <td>168.0</td>\n",
       "      <td>43.1</td>\n",
       "      <td>2.288</td>\n",
       "      <td>33</td>\n",
       "      <td>1</td>\n",
       "    </tr>\n",
       "  </tbody>\n",
       "</table>\n",
       "</div>"
      ],
      "text/plain": [
       "   Pregnant  Glucose  Diastolic_BP  Skin_Fold  Serum_Insulin   BMI  \\\n",
       "0         6    148.0          72.0       35.0            NaN  33.6   \n",
       "1         1     85.0          66.0       29.0            NaN  26.6   \n",
       "2         8    183.0          64.0        NaN            NaN  23.3   \n",
       "3         1     89.0          66.0       23.0           94.0  28.1   \n",
       "4         0    137.0          40.0       35.0          168.0  43.1   \n",
       "\n",
       "   Diabetes_Pedigree  Age  Class  \n",
       "0              0.627   50      1  \n",
       "1              0.351   31      0  \n",
       "2              0.672   32      1  \n",
       "3              0.167   21      0  \n",
       "4              2.288   33      1  "
      ]
     },
     "execution_count": 8,
     "metadata": {},
     "output_type": "execute_result"
    }
   ],
   "source": [
    "df.head()"
   ]
  },
  {
   "cell_type": "code",
   "execution_count": 9,
   "id": "46416f7e",
   "metadata": {
    "execution": {
     "iopub.execute_input": "2025-04-08T16:26:39.538995Z",
     "iopub.status.busy": "2025-04-08T16:26:39.538567Z",
     "iopub.status.idle": "2025-04-08T16:26:39.544712Z",
     "shell.execute_reply": "2025-04-08T16:26:39.543544Z"
    },
    "papermill": {
     "duration": 0.01878,
     "end_time": "2025-04-08T16:26:39.546361",
     "exception": false,
     "start_time": "2025-04-08T16:26:39.527581",
     "status": "completed"
    },
    "tags": []
   },
   "outputs": [
    {
     "data": {
      "text/plain": [
       "125.0"
      ]
     },
     "execution_count": 9,
     "metadata": {},
     "output_type": "execute_result"
    }
   ],
   "source": [
    "df['Serum_Insulin'].median()"
   ]
  },
  {
   "cell_type": "code",
   "execution_count": 10,
   "id": "034dc14e",
   "metadata": {
    "execution": {
     "iopub.execute_input": "2025-04-08T16:26:39.568048Z",
     "iopub.status.busy": "2025-04-08T16:26:39.567639Z",
     "iopub.status.idle": "2025-04-08T16:26:39.573458Z",
     "shell.execute_reply": "2025-04-08T16:26:39.572363Z"
    },
    "papermill": {
     "duration": 0.018711,
     "end_time": "2025-04-08T16:26:39.575264",
     "exception": false,
     "start_time": "2025-04-08T16:26:39.556553",
     "status": "completed"
    },
    "tags": []
   },
   "outputs": [],
   "source": [
    "df['Serum_Insulin'] = df['Serum_Insulin'].fillna(df['Serum_Insulin'].median())"
   ]
  },
  {
   "cell_type": "code",
   "execution_count": 11,
   "id": "391cf094",
   "metadata": {
    "execution": {
     "iopub.execute_input": "2025-04-08T16:26:39.598015Z",
     "iopub.status.busy": "2025-04-08T16:26:39.597583Z",
     "iopub.status.idle": "2025-04-08T16:26:39.612589Z",
     "shell.execute_reply": "2025-04-08T16:26:39.611333Z"
    },
    "papermill": {
     "duration": 0.028181,
     "end_time": "2025-04-08T16:26:39.614147",
     "exception": false,
     "start_time": "2025-04-08T16:26:39.585966",
     "status": "completed"
    },
    "tags": []
   },
   "outputs": [
    {
     "name": "stderr",
     "output_type": "stream",
     "text": [
      "/usr/local/lib/python3.10/dist-packages/pandas/io/formats/format.py:1458: RuntimeWarning: invalid value encountered in greater\n",
      "  has_large_values = (abs_vals > 1e6).any()\n",
      "/usr/local/lib/python3.10/dist-packages/pandas/io/formats/format.py:1459: RuntimeWarning: invalid value encountered in less\n",
      "  has_small_values = ((abs_vals < 10 ** (-self.digits)) & (abs_vals > 0)).any()\n",
      "/usr/local/lib/python3.10/dist-packages/pandas/io/formats/format.py:1459: RuntimeWarning: invalid value encountered in greater\n",
      "  has_small_values = ((abs_vals < 10 ** (-self.digits)) & (abs_vals > 0)).any()\n"
     ]
    },
    {
     "data": {
      "text/html": [
       "<div>\n",
       "<style scoped>\n",
       "    .dataframe tbody tr th:only-of-type {\n",
       "        vertical-align: middle;\n",
       "    }\n",
       "\n",
       "    .dataframe tbody tr th {\n",
       "        vertical-align: top;\n",
       "    }\n",
       "\n",
       "    .dataframe thead th {\n",
       "        text-align: right;\n",
       "    }\n",
       "</style>\n",
       "<table border=\"1\" class=\"dataframe\">\n",
       "  <thead>\n",
       "    <tr style=\"text-align: right;\">\n",
       "      <th></th>\n",
       "      <th>Pregnant</th>\n",
       "      <th>Glucose</th>\n",
       "      <th>Diastolic_BP</th>\n",
       "      <th>Skin_Fold</th>\n",
       "      <th>Serum_Insulin</th>\n",
       "      <th>BMI</th>\n",
       "      <th>Diabetes_Pedigree</th>\n",
       "      <th>Age</th>\n",
       "      <th>Class</th>\n",
       "    </tr>\n",
       "  </thead>\n",
       "  <tbody>\n",
       "    <tr>\n",
       "      <th>0</th>\n",
       "      <td>6</td>\n",
       "      <td>148.0</td>\n",
       "      <td>72.0</td>\n",
       "      <td>35.0</td>\n",
       "      <td>125.0</td>\n",
       "      <td>33.6</td>\n",
       "      <td>0.627</td>\n",
       "      <td>50</td>\n",
       "      <td>1</td>\n",
       "    </tr>\n",
       "    <tr>\n",
       "      <th>1</th>\n",
       "      <td>1</td>\n",
       "      <td>85.0</td>\n",
       "      <td>66.0</td>\n",
       "      <td>29.0</td>\n",
       "      <td>125.0</td>\n",
       "      <td>26.6</td>\n",
       "      <td>0.351</td>\n",
       "      <td>31</td>\n",
       "      <td>0</td>\n",
       "    </tr>\n",
       "    <tr>\n",
       "      <th>2</th>\n",
       "      <td>8</td>\n",
       "      <td>183.0</td>\n",
       "      <td>64.0</td>\n",
       "      <td>NaN</td>\n",
       "      <td>125.0</td>\n",
       "      <td>23.3</td>\n",
       "      <td>0.672</td>\n",
       "      <td>32</td>\n",
       "      <td>1</td>\n",
       "    </tr>\n",
       "    <tr>\n",
       "      <th>3</th>\n",
       "      <td>1</td>\n",
       "      <td>89.0</td>\n",
       "      <td>66.0</td>\n",
       "      <td>23.0</td>\n",
       "      <td>94.0</td>\n",
       "      <td>28.1</td>\n",
       "      <td>0.167</td>\n",
       "      <td>21</td>\n",
       "      <td>0</td>\n",
       "    </tr>\n",
       "    <tr>\n",
       "      <th>4</th>\n",
       "      <td>0</td>\n",
       "      <td>137.0</td>\n",
       "      <td>40.0</td>\n",
       "      <td>35.0</td>\n",
       "      <td>168.0</td>\n",
       "      <td>43.1</td>\n",
       "      <td>2.288</td>\n",
       "      <td>33</td>\n",
       "      <td>1</td>\n",
       "    </tr>\n",
       "  </tbody>\n",
       "</table>\n",
       "</div>"
      ],
      "text/plain": [
       "   Pregnant  Glucose  Diastolic_BP  Skin_Fold  Serum_Insulin   BMI  \\\n",
       "0         6    148.0          72.0       35.0          125.0  33.6   \n",
       "1         1     85.0          66.0       29.0          125.0  26.6   \n",
       "2         8    183.0          64.0        NaN          125.0  23.3   \n",
       "3         1     89.0          66.0       23.0           94.0  28.1   \n",
       "4         0    137.0          40.0       35.0          168.0  43.1   \n",
       "\n",
       "   Diabetes_Pedigree  Age  Class  \n",
       "0              0.627   50      1  \n",
       "1              0.351   31      0  \n",
       "2              0.672   32      1  \n",
       "3              0.167   21      0  \n",
       "4              2.288   33      1  "
      ]
     },
     "execution_count": 11,
     "metadata": {},
     "output_type": "execute_result"
    }
   ],
   "source": [
    "df.head()"
   ]
  },
  {
   "cell_type": "code",
   "execution_count": 12,
   "id": "2998280a",
   "metadata": {
    "execution": {
     "iopub.execute_input": "2025-04-08T16:26:39.636519Z",
     "iopub.status.busy": "2025-04-08T16:26:39.636178Z",
     "iopub.status.idle": "2025-04-08T16:26:39.642230Z",
     "shell.execute_reply": "2025-04-08T16:26:39.641333Z"
    },
    "papermill": {
     "duration": 0.019028,
     "end_time": "2025-04-08T16:26:39.643643",
     "exception": false,
     "start_time": "2025-04-08T16:26:39.624615",
     "status": "completed"
    },
    "tags": []
   },
   "outputs": [
    {
     "data": {
      "text/plain": [
       "29.153419593345657"
      ]
     },
     "execution_count": 12,
     "metadata": {},
     "output_type": "execute_result"
    }
   ],
   "source": [
    "df['Skin_Fold'].mean()"
   ]
  },
  {
   "cell_type": "code",
   "execution_count": 13,
   "id": "bf1fa4e0",
   "metadata": {
    "execution": {
     "iopub.execute_input": "2025-04-08T16:26:39.666495Z",
     "iopub.status.busy": "2025-04-08T16:26:39.666158Z",
     "iopub.status.idle": "2025-04-08T16:26:39.671949Z",
     "shell.execute_reply": "2025-04-08T16:26:39.670971Z"
    },
    "papermill": {
     "duration": 0.018944,
     "end_time": "2025-04-08T16:26:39.673458",
     "exception": false,
     "start_time": "2025-04-08T16:26:39.654514",
     "status": "completed"
    },
    "tags": []
   },
   "outputs": [
    {
     "data": {
      "text/plain": [
       "29.0"
      ]
     },
     "execution_count": 13,
     "metadata": {},
     "output_type": "execute_result"
    }
   ],
   "source": [
    "df['Skin_Fold'].median()"
   ]
  },
  {
   "cell_type": "code",
   "execution_count": 14,
   "id": "89e65bfd",
   "metadata": {
    "execution": {
     "iopub.execute_input": "2025-04-08T16:26:39.696230Z",
     "iopub.status.busy": "2025-04-08T16:26:39.695882Z",
     "iopub.status.idle": "2025-04-08T16:26:39.701336Z",
     "shell.execute_reply": "2025-04-08T16:26:39.700216Z"
    },
    "papermill": {
     "duration": 0.018637,
     "end_time": "2025-04-08T16:26:39.703043",
     "exception": false,
     "start_time": "2025-04-08T16:26:39.684406",
     "status": "completed"
    },
    "tags": []
   },
   "outputs": [],
   "source": [
    "df['Skin_Fold'] = df['Skin_Fold'].fillna(df['Skin_Fold'].median())"
   ]
  },
  {
   "cell_type": "code",
   "execution_count": 15,
   "id": "3fd0f31d",
   "metadata": {
    "execution": {
     "iopub.execute_input": "2025-04-08T16:26:39.725340Z",
     "iopub.status.busy": "2025-04-08T16:26:39.724993Z",
     "iopub.status.idle": "2025-04-08T16:26:39.740301Z",
     "shell.execute_reply": "2025-04-08T16:26:39.739237Z"
    },
    "papermill": {
     "duration": 0.028452,
     "end_time": "2025-04-08T16:26:39.742023",
     "exception": false,
     "start_time": "2025-04-08T16:26:39.713571",
     "status": "completed"
    },
    "tags": []
   },
   "outputs": [
    {
     "data": {
      "text/html": [
       "<div>\n",
       "<style scoped>\n",
       "    .dataframe tbody tr th:only-of-type {\n",
       "        vertical-align: middle;\n",
       "    }\n",
       "\n",
       "    .dataframe tbody tr th {\n",
       "        vertical-align: top;\n",
       "    }\n",
       "\n",
       "    .dataframe thead th {\n",
       "        text-align: right;\n",
       "    }\n",
       "</style>\n",
       "<table border=\"1\" class=\"dataframe\">\n",
       "  <thead>\n",
       "    <tr style=\"text-align: right;\">\n",
       "      <th></th>\n",
       "      <th>Pregnant</th>\n",
       "      <th>Glucose</th>\n",
       "      <th>Diastolic_BP</th>\n",
       "      <th>Skin_Fold</th>\n",
       "      <th>Serum_Insulin</th>\n",
       "      <th>BMI</th>\n",
       "      <th>Diabetes_Pedigree</th>\n",
       "      <th>Age</th>\n",
       "      <th>Class</th>\n",
       "    </tr>\n",
       "  </thead>\n",
       "  <tbody>\n",
       "    <tr>\n",
       "      <th>0</th>\n",
       "      <td>6</td>\n",
       "      <td>148.0</td>\n",
       "      <td>72.0</td>\n",
       "      <td>35.0</td>\n",
       "      <td>125.0</td>\n",
       "      <td>33.6</td>\n",
       "      <td>0.627</td>\n",
       "      <td>50</td>\n",
       "      <td>1</td>\n",
       "    </tr>\n",
       "    <tr>\n",
       "      <th>1</th>\n",
       "      <td>1</td>\n",
       "      <td>85.0</td>\n",
       "      <td>66.0</td>\n",
       "      <td>29.0</td>\n",
       "      <td>125.0</td>\n",
       "      <td>26.6</td>\n",
       "      <td>0.351</td>\n",
       "      <td>31</td>\n",
       "      <td>0</td>\n",
       "    </tr>\n",
       "    <tr>\n",
       "      <th>2</th>\n",
       "      <td>8</td>\n",
       "      <td>183.0</td>\n",
       "      <td>64.0</td>\n",
       "      <td>29.0</td>\n",
       "      <td>125.0</td>\n",
       "      <td>23.3</td>\n",
       "      <td>0.672</td>\n",
       "      <td>32</td>\n",
       "      <td>1</td>\n",
       "    </tr>\n",
       "    <tr>\n",
       "      <th>3</th>\n",
       "      <td>1</td>\n",
       "      <td>89.0</td>\n",
       "      <td>66.0</td>\n",
       "      <td>23.0</td>\n",
       "      <td>94.0</td>\n",
       "      <td>28.1</td>\n",
       "      <td>0.167</td>\n",
       "      <td>21</td>\n",
       "      <td>0</td>\n",
       "    </tr>\n",
       "    <tr>\n",
       "      <th>4</th>\n",
       "      <td>0</td>\n",
       "      <td>137.0</td>\n",
       "      <td>40.0</td>\n",
       "      <td>35.0</td>\n",
       "      <td>168.0</td>\n",
       "      <td>43.1</td>\n",
       "      <td>2.288</td>\n",
       "      <td>33</td>\n",
       "      <td>1</td>\n",
       "    </tr>\n",
       "  </tbody>\n",
       "</table>\n",
       "</div>"
      ],
      "text/plain": [
       "   Pregnant  Glucose  Diastolic_BP  Skin_Fold  Serum_Insulin   BMI  \\\n",
       "0         6    148.0          72.0       35.0          125.0  33.6   \n",
       "1         1     85.0          66.0       29.0          125.0  26.6   \n",
       "2         8    183.0          64.0       29.0          125.0  23.3   \n",
       "3         1     89.0          66.0       23.0           94.0  28.1   \n",
       "4         0    137.0          40.0       35.0          168.0  43.1   \n",
       "\n",
       "   Diabetes_Pedigree  Age  Class  \n",
       "0              0.627   50      1  \n",
       "1              0.351   31      0  \n",
       "2              0.672   32      1  \n",
       "3              0.167   21      0  \n",
       "4              2.288   33      1  "
      ]
     },
     "execution_count": 15,
     "metadata": {},
     "output_type": "execute_result"
    }
   ],
   "source": [
    "df.head()"
   ]
  },
  {
   "cell_type": "code",
   "execution_count": 16,
   "id": "f05e86bc",
   "metadata": {
    "execution": {
     "iopub.execute_input": "2025-04-08T16:26:39.765079Z",
     "iopub.status.busy": "2025-04-08T16:26:39.764673Z",
     "iopub.status.idle": "2025-04-08T16:26:39.775206Z",
     "shell.execute_reply": "2025-04-08T16:26:39.773985Z"
    },
    "papermill": {
     "duration": 0.02413,
     "end_time": "2025-04-08T16:26:39.777174",
     "exception": false,
     "start_time": "2025-04-08T16:26:39.753044",
     "status": "completed"
    },
    "tags": []
   },
   "outputs": [
    {
     "name": "stdout",
     "output_type": "stream",
     "text": [
      "<class 'pandas.core.frame.DataFrame'>\n",
      "RangeIndex: 768 entries, 0 to 767\n",
      "Data columns (total 9 columns):\n",
      " #   Column             Non-Null Count  Dtype  \n",
      "---  ------             --------------  -----  \n",
      " 0   Pregnant           768 non-null    int64  \n",
      " 1   Glucose            763 non-null    float64\n",
      " 2   Diastolic_BP       733 non-null    float64\n",
      " 3   Skin_Fold          768 non-null    float64\n",
      " 4   Serum_Insulin      768 non-null    float64\n",
      " 5   BMI                757 non-null    float64\n",
      " 6   Diabetes_Pedigree  768 non-null    float64\n",
      " 7   Age                768 non-null    int64  \n",
      " 8   Class              768 non-null    int64  \n",
      "dtypes: float64(6), int64(3)\n",
      "memory usage: 54.1 KB\n"
     ]
    }
   ],
   "source": [
    "df.info()"
   ]
  },
  {
   "cell_type": "code",
   "execution_count": 17,
   "id": "642ae888",
   "metadata": {
    "execution": {
     "iopub.execute_input": "2025-04-08T16:26:39.800424Z",
     "iopub.status.busy": "2025-04-08T16:26:39.800099Z",
     "iopub.status.idle": "2025-04-08T16:26:39.814323Z",
     "shell.execute_reply": "2025-04-08T16:26:39.813461Z"
    },
    "papermill": {
     "duration": 0.027208,
     "end_time": "2025-04-08T16:26:39.815714",
     "exception": false,
     "start_time": "2025-04-08T16:26:39.788506",
     "status": "completed"
    },
    "tags": []
   },
   "outputs": [
    {
     "data": {
      "text/html": [
       "<div>\n",
       "<style scoped>\n",
       "    .dataframe tbody tr th:only-of-type {\n",
       "        vertical-align: middle;\n",
       "    }\n",
       "\n",
       "    .dataframe tbody tr th {\n",
       "        vertical-align: top;\n",
       "    }\n",
       "\n",
       "    .dataframe thead th {\n",
       "        text-align: right;\n",
       "    }\n",
       "</style>\n",
       "<table border=\"1\" class=\"dataframe\">\n",
       "  <thead>\n",
       "    <tr style=\"text-align: right;\">\n",
       "      <th></th>\n",
       "      <th>Pregnant</th>\n",
       "      <th>Glucose</th>\n",
       "      <th>Diastolic_BP</th>\n",
       "      <th>Skin_Fold</th>\n",
       "      <th>Serum_Insulin</th>\n",
       "      <th>BMI</th>\n",
       "      <th>Diabetes_Pedigree</th>\n",
       "      <th>Age</th>\n",
       "      <th>Class</th>\n",
       "    </tr>\n",
       "  </thead>\n",
       "  <tbody>\n",
       "    <tr>\n",
       "      <th>763</th>\n",
       "      <td>10</td>\n",
       "      <td>101.0</td>\n",
       "      <td>76.0</td>\n",
       "      <td>48.0</td>\n",
       "      <td>180.0</td>\n",
       "      <td>32.9</td>\n",
       "      <td>0.171</td>\n",
       "      <td>63</td>\n",
       "      <td>0</td>\n",
       "    </tr>\n",
       "    <tr>\n",
       "      <th>764</th>\n",
       "      <td>2</td>\n",
       "      <td>122.0</td>\n",
       "      <td>70.0</td>\n",
       "      <td>27.0</td>\n",
       "      <td>125.0</td>\n",
       "      <td>36.8</td>\n",
       "      <td>0.340</td>\n",
       "      <td>27</td>\n",
       "      <td>0</td>\n",
       "    </tr>\n",
       "    <tr>\n",
       "      <th>765</th>\n",
       "      <td>5</td>\n",
       "      <td>121.0</td>\n",
       "      <td>72.0</td>\n",
       "      <td>23.0</td>\n",
       "      <td>112.0</td>\n",
       "      <td>26.2</td>\n",
       "      <td>0.245</td>\n",
       "      <td>30</td>\n",
       "      <td>0</td>\n",
       "    </tr>\n",
       "    <tr>\n",
       "      <th>766</th>\n",
       "      <td>1</td>\n",
       "      <td>126.0</td>\n",
       "      <td>60.0</td>\n",
       "      <td>29.0</td>\n",
       "      <td>125.0</td>\n",
       "      <td>30.1</td>\n",
       "      <td>0.349</td>\n",
       "      <td>47</td>\n",
       "      <td>1</td>\n",
       "    </tr>\n",
       "    <tr>\n",
       "      <th>767</th>\n",
       "      <td>1</td>\n",
       "      <td>93.0</td>\n",
       "      <td>70.0</td>\n",
       "      <td>31.0</td>\n",
       "      <td>125.0</td>\n",
       "      <td>30.4</td>\n",
       "      <td>0.315</td>\n",
       "      <td>23</td>\n",
       "      <td>0</td>\n",
       "    </tr>\n",
       "  </tbody>\n",
       "</table>\n",
       "</div>"
      ],
      "text/plain": [
       "     Pregnant  Glucose  Diastolic_BP  Skin_Fold  Serum_Insulin   BMI  \\\n",
       "763        10    101.0          76.0       48.0          180.0  32.9   \n",
       "764         2    122.0          70.0       27.0          125.0  36.8   \n",
       "765         5    121.0          72.0       23.0          112.0  26.2   \n",
       "766         1    126.0          60.0       29.0          125.0  30.1   \n",
       "767         1     93.0          70.0       31.0          125.0  30.4   \n",
       "\n",
       "     Diabetes_Pedigree  Age  Class  \n",
       "763              0.171   63      0  \n",
       "764              0.340   27      0  \n",
       "765              0.245   30      0  \n",
       "766              0.349   47      1  \n",
       "767              0.315   23      0  "
      ]
     },
     "execution_count": 17,
     "metadata": {},
     "output_type": "execute_result"
    }
   ],
   "source": [
    "df.tail()"
   ]
  },
  {
   "cell_type": "code",
   "execution_count": 18,
   "id": "d15c266c",
   "metadata": {
    "execution": {
     "iopub.execute_input": "2025-04-08T16:26:39.839467Z",
     "iopub.status.busy": "2025-04-08T16:26:39.839138Z",
     "iopub.status.idle": "2025-04-08T16:26:39.844904Z",
     "shell.execute_reply": "2025-04-08T16:26:39.843876Z"
    },
    "papermill": {
     "duration": 0.019368,
     "end_time": "2025-04-08T16:26:39.846450",
     "exception": false,
     "start_time": "2025-04-08T16:26:39.827082",
     "status": "completed"
    },
    "tags": []
   },
   "outputs": [
    {
     "data": {
      "text/plain": [
       "Index(['Pregnant', 'Glucose', 'Diastolic_BP', 'Skin_Fold', 'Serum_Insulin',\n",
       "       'BMI', 'Diabetes_Pedigree', 'Age', 'Class'],\n",
       "      dtype='object')"
      ]
     },
     "execution_count": 18,
     "metadata": {},
     "output_type": "execute_result"
    }
   ],
   "source": [
    "df.columns"
   ]
  },
  {
   "cell_type": "code",
   "execution_count": 19,
   "id": "17f07d9d",
   "metadata": {
    "execution": {
     "iopub.execute_input": "2025-04-08T16:26:39.870189Z",
     "iopub.status.busy": "2025-04-08T16:26:39.869652Z",
     "iopub.status.idle": "2025-04-08T16:26:39.877328Z",
     "shell.execute_reply": "2025-04-08T16:26:39.876124Z"
    },
    "papermill": {
     "duration": 0.021236,
     "end_time": "2025-04-08T16:26:39.878941",
     "exception": false,
     "start_time": "2025-04-08T16:26:39.857705",
     "status": "completed"
    },
    "tags": []
   },
   "outputs": [
    {
     "data": {
      "text/plain": [
       "121.6867627785059"
      ]
     },
     "execution_count": 19,
     "metadata": {},
     "output_type": "execute_result"
    }
   ],
   "source": [
    "df['Glucose'].mean()"
   ]
  },
  {
   "cell_type": "code",
   "execution_count": 20,
   "id": "567dc4be",
   "metadata": {
    "execution": {
     "iopub.execute_input": "2025-04-08T16:26:39.903616Z",
     "iopub.status.busy": "2025-04-08T16:26:39.903239Z",
     "iopub.status.idle": "2025-04-08T16:26:39.909917Z",
     "shell.execute_reply": "2025-04-08T16:26:39.908903Z"
    },
    "papermill": {
     "duration": 0.020729,
     "end_time": "2025-04-08T16:26:39.911628",
     "exception": false,
     "start_time": "2025-04-08T16:26:39.890899",
     "status": "completed"
    },
    "tags": []
   },
   "outputs": [
    {
     "data": {
      "text/plain": [
       "117.0"
      ]
     },
     "execution_count": 20,
     "metadata": {},
     "output_type": "execute_result"
    }
   ],
   "source": [
    "df['Glucose'].median()"
   ]
  },
  {
   "cell_type": "code",
   "execution_count": 21,
   "id": "79864c8b",
   "metadata": {
    "execution": {
     "iopub.execute_input": "2025-04-08T16:26:39.936381Z",
     "iopub.status.busy": "2025-04-08T16:26:39.935996Z",
     "iopub.status.idle": "2025-04-08T16:26:39.950114Z",
     "shell.execute_reply": "2025-04-08T16:26:39.948975Z"
    },
    "papermill": {
     "duration": 0.028071,
     "end_time": "2025-04-08T16:26:39.951964",
     "exception": false,
     "start_time": "2025-04-08T16:26:39.923893",
     "status": "completed"
    },
    "tags": []
   },
   "outputs": [
    {
     "data": {
      "text/html": [
       "<div>\n",
       "<style scoped>\n",
       "    .dataframe tbody tr th:only-of-type {\n",
       "        vertical-align: middle;\n",
       "    }\n",
       "\n",
       "    .dataframe tbody tr th {\n",
       "        vertical-align: top;\n",
       "    }\n",
       "\n",
       "    .dataframe thead th {\n",
       "        text-align: right;\n",
       "    }\n",
       "</style>\n",
       "<table border=\"1\" class=\"dataframe\">\n",
       "  <thead>\n",
       "    <tr style=\"text-align: right;\">\n",
       "      <th></th>\n",
       "      <th>Pregnant</th>\n",
       "      <th>Glucose</th>\n",
       "      <th>Diastolic_BP</th>\n",
       "      <th>Skin_Fold</th>\n",
       "      <th>Serum_Insulin</th>\n",
       "      <th>BMI</th>\n",
       "      <th>Diabetes_Pedigree</th>\n",
       "      <th>Age</th>\n",
       "      <th>Class</th>\n",
       "    </tr>\n",
       "  </thead>\n",
       "  <tbody>\n",
       "    <tr>\n",
       "      <th>0</th>\n",
       "      <td>6</td>\n",
       "      <td>148.0</td>\n",
       "      <td>72.0</td>\n",
       "      <td>35.0</td>\n",
       "      <td>125.0</td>\n",
       "      <td>33.6</td>\n",
       "      <td>0.627</td>\n",
       "      <td>50</td>\n",
       "      <td>1</td>\n",
       "    </tr>\n",
       "    <tr>\n",
       "      <th>1</th>\n",
       "      <td>1</td>\n",
       "      <td>85.0</td>\n",
       "      <td>66.0</td>\n",
       "      <td>29.0</td>\n",
       "      <td>125.0</td>\n",
       "      <td>26.6</td>\n",
       "      <td>0.351</td>\n",
       "      <td>31</td>\n",
       "      <td>0</td>\n",
       "    </tr>\n",
       "    <tr>\n",
       "      <th>2</th>\n",
       "      <td>8</td>\n",
       "      <td>183.0</td>\n",
       "      <td>64.0</td>\n",
       "      <td>29.0</td>\n",
       "      <td>125.0</td>\n",
       "      <td>23.3</td>\n",
       "      <td>0.672</td>\n",
       "      <td>32</td>\n",
       "      <td>1</td>\n",
       "    </tr>\n",
       "    <tr>\n",
       "      <th>3</th>\n",
       "      <td>1</td>\n",
       "      <td>89.0</td>\n",
       "      <td>66.0</td>\n",
       "      <td>23.0</td>\n",
       "      <td>94.0</td>\n",
       "      <td>28.1</td>\n",
       "      <td>0.167</td>\n",
       "      <td>21</td>\n",
       "      <td>0</td>\n",
       "    </tr>\n",
       "    <tr>\n",
       "      <th>4</th>\n",
       "      <td>0</td>\n",
       "      <td>137.0</td>\n",
       "      <td>40.0</td>\n",
       "      <td>35.0</td>\n",
       "      <td>168.0</td>\n",
       "      <td>43.1</td>\n",
       "      <td>2.288</td>\n",
       "      <td>33</td>\n",
       "      <td>1</td>\n",
       "    </tr>\n",
       "  </tbody>\n",
       "</table>\n",
       "</div>"
      ],
      "text/plain": [
       "   Pregnant  Glucose  Diastolic_BP  Skin_Fold  Serum_Insulin   BMI  \\\n",
       "0         6    148.0          72.0       35.0          125.0  33.6   \n",
       "1         1     85.0          66.0       29.0          125.0  26.6   \n",
       "2         8    183.0          64.0       29.0          125.0  23.3   \n",
       "3         1     89.0          66.0       23.0           94.0  28.1   \n",
       "4         0    137.0          40.0       35.0          168.0  43.1   \n",
       "\n",
       "   Diabetes_Pedigree  Age  Class  \n",
       "0              0.627   50      1  \n",
       "1              0.351   31      0  \n",
       "2              0.672   32      1  \n",
       "3              0.167   21      0  \n",
       "4              2.288   33      1  "
      ]
     },
     "execution_count": 21,
     "metadata": {},
     "output_type": "execute_result"
    }
   ],
   "source": [
    "df.head()"
   ]
  },
  {
   "cell_type": "code",
   "execution_count": 22,
   "id": "dca4ccf5",
   "metadata": {
    "execution": {
     "iopub.execute_input": "2025-04-08T16:26:39.977652Z",
     "iopub.status.busy": "2025-04-08T16:26:39.977278Z",
     "iopub.status.idle": "2025-04-08T16:26:39.991325Z",
     "shell.execute_reply": "2025-04-08T16:26:39.990250Z"
    },
    "papermill": {
     "duration": 0.028934,
     "end_time": "2025-04-08T16:26:39.992993",
     "exception": false,
     "start_time": "2025-04-08T16:26:39.964059",
     "status": "completed"
    },
    "tags": []
   },
   "outputs": [
    {
     "data": {
      "text/html": [
       "<div>\n",
       "<style scoped>\n",
       "    .dataframe tbody tr th:only-of-type {\n",
       "        vertical-align: middle;\n",
       "    }\n",
       "\n",
       "    .dataframe tbody tr th {\n",
       "        vertical-align: top;\n",
       "    }\n",
       "\n",
       "    .dataframe thead th {\n",
       "        text-align: right;\n",
       "    }\n",
       "</style>\n",
       "<table border=\"1\" class=\"dataframe\">\n",
       "  <thead>\n",
       "    <tr style=\"text-align: right;\">\n",
       "      <th></th>\n",
       "      <th>Pregnant</th>\n",
       "      <th>Glucose</th>\n",
       "      <th>Diastolic_BP</th>\n",
       "      <th>Skin_Fold</th>\n",
       "      <th>Serum_Insulin</th>\n",
       "      <th>BMI</th>\n",
       "      <th>Diabetes_Pedigree</th>\n",
       "      <th>Age</th>\n",
       "      <th>Class</th>\n",
       "    </tr>\n",
       "  </thead>\n",
       "  <tbody>\n",
       "    <tr>\n",
       "      <th>763</th>\n",
       "      <td>10</td>\n",
       "      <td>101.0</td>\n",
       "      <td>76.0</td>\n",
       "      <td>48.0</td>\n",
       "      <td>180.0</td>\n",
       "      <td>32.9</td>\n",
       "      <td>0.171</td>\n",
       "      <td>63</td>\n",
       "      <td>0</td>\n",
       "    </tr>\n",
       "    <tr>\n",
       "      <th>764</th>\n",
       "      <td>2</td>\n",
       "      <td>122.0</td>\n",
       "      <td>70.0</td>\n",
       "      <td>27.0</td>\n",
       "      <td>125.0</td>\n",
       "      <td>36.8</td>\n",
       "      <td>0.340</td>\n",
       "      <td>27</td>\n",
       "      <td>0</td>\n",
       "    </tr>\n",
       "    <tr>\n",
       "      <th>765</th>\n",
       "      <td>5</td>\n",
       "      <td>121.0</td>\n",
       "      <td>72.0</td>\n",
       "      <td>23.0</td>\n",
       "      <td>112.0</td>\n",
       "      <td>26.2</td>\n",
       "      <td>0.245</td>\n",
       "      <td>30</td>\n",
       "      <td>0</td>\n",
       "    </tr>\n",
       "    <tr>\n",
       "      <th>766</th>\n",
       "      <td>1</td>\n",
       "      <td>126.0</td>\n",
       "      <td>60.0</td>\n",
       "      <td>29.0</td>\n",
       "      <td>125.0</td>\n",
       "      <td>30.1</td>\n",
       "      <td>0.349</td>\n",
       "      <td>47</td>\n",
       "      <td>1</td>\n",
       "    </tr>\n",
       "    <tr>\n",
       "      <th>767</th>\n",
       "      <td>1</td>\n",
       "      <td>93.0</td>\n",
       "      <td>70.0</td>\n",
       "      <td>31.0</td>\n",
       "      <td>125.0</td>\n",
       "      <td>30.4</td>\n",
       "      <td>0.315</td>\n",
       "      <td>23</td>\n",
       "      <td>0</td>\n",
       "    </tr>\n",
       "  </tbody>\n",
       "</table>\n",
       "</div>"
      ],
      "text/plain": [
       "     Pregnant  Glucose  Diastolic_BP  Skin_Fold  Serum_Insulin   BMI  \\\n",
       "763        10    101.0          76.0       48.0          180.0  32.9   \n",
       "764         2    122.0          70.0       27.0          125.0  36.8   \n",
       "765         5    121.0          72.0       23.0          112.0  26.2   \n",
       "766         1    126.0          60.0       29.0          125.0  30.1   \n",
       "767         1     93.0          70.0       31.0          125.0  30.4   \n",
       "\n",
       "     Diabetes_Pedigree  Age  Class  \n",
       "763              0.171   63      0  \n",
       "764              0.340   27      0  \n",
       "765              0.245   30      0  \n",
       "766              0.349   47      1  \n",
       "767              0.315   23      0  "
      ]
     },
     "execution_count": 22,
     "metadata": {},
     "output_type": "execute_result"
    }
   ],
   "source": [
    "df.tail()"
   ]
  },
  {
   "cell_type": "code",
   "execution_count": 23,
   "id": "39d2a7f5",
   "metadata": {
    "execution": {
     "iopub.execute_input": "2025-04-08T16:26:40.018025Z",
     "iopub.status.busy": "2025-04-08T16:26:40.017580Z",
     "iopub.status.idle": "2025-04-08T16:26:40.029809Z",
     "shell.execute_reply": "2025-04-08T16:26:40.028646Z"
    },
    "papermill": {
     "duration": 0.02667,
     "end_time": "2025-04-08T16:26:40.031584",
     "exception": false,
     "start_time": "2025-04-08T16:26:40.004914",
     "status": "completed"
    },
    "tags": []
   },
   "outputs": [
    {
     "data": {
      "text/plain": [
       "0      148.0\n",
       "1       85.0\n",
       "2      183.0\n",
       "3       89.0\n",
       "4      137.0\n",
       "       ...  \n",
       "763    101.0\n",
       "764    122.0\n",
       "765    121.0\n",
       "766    126.0\n",
       "767     93.0\n",
       "Name: Glucose, Length: 768, dtype: float64"
      ]
     },
     "execution_count": 23,
     "metadata": {},
     "output_type": "execute_result"
    }
   ],
   "source": [
    "df['Glucose'].ffill()"
   ]
  },
  {
   "cell_type": "code",
   "execution_count": 24,
   "id": "0fd8af1d",
   "metadata": {
    "execution": {
     "iopub.execute_input": "2025-04-08T16:26:40.056353Z",
     "iopub.status.busy": "2025-04-08T16:26:40.055988Z",
     "iopub.status.idle": "2025-04-08T16:26:40.060714Z",
     "shell.execute_reply": "2025-04-08T16:26:40.059902Z"
    },
    "papermill": {
     "duration": 0.018776,
     "end_time": "2025-04-08T16:26:40.062327",
     "exception": false,
     "start_time": "2025-04-08T16:26:40.043551",
     "status": "completed"
    },
    "tags": []
   },
   "outputs": [],
   "source": [
    "df['Glucose'] = df['Glucose'].ffill()"
   ]
  },
  {
   "cell_type": "code",
   "execution_count": 25,
   "id": "f0803f9a",
   "metadata": {
    "execution": {
     "iopub.execute_input": "2025-04-08T16:26:40.087210Z",
     "iopub.status.busy": "2025-04-08T16:26:40.086858Z",
     "iopub.status.idle": "2025-04-08T16:26:40.094208Z",
     "shell.execute_reply": "2025-04-08T16:26:40.093187Z"
    },
    "papermill": {
     "duration": 0.021568,
     "end_time": "2025-04-08T16:26:40.095847",
     "exception": false,
     "start_time": "2025-04-08T16:26:40.074279",
     "status": "completed"
    },
    "tags": []
   },
   "outputs": [
    {
     "data": {
      "text/plain": [
       "Pregnant              0\n",
       "Glucose               0\n",
       "Diastolic_BP         35\n",
       "Skin_Fold             0\n",
       "Serum_Insulin         0\n",
       "BMI                  11\n",
       "Diabetes_Pedigree     0\n",
       "Age                   0\n",
       "Class                 0\n",
       "dtype: int64"
      ]
     },
     "execution_count": 25,
     "metadata": {},
     "output_type": "execute_result"
    }
   ],
   "source": [
    "df.isnull().sum()"
   ]
  },
  {
   "cell_type": "code",
   "execution_count": 26,
   "id": "59dcd734",
   "metadata": {
    "execution": {
     "iopub.execute_input": "2025-04-08T16:26:40.120632Z",
     "iopub.status.busy": "2025-04-08T16:26:40.120296Z",
     "iopub.status.idle": "2025-04-08T16:26:40.133380Z",
     "shell.execute_reply": "2025-04-08T16:26:40.132420Z"
    },
    "papermill": {
     "duration": 0.027305,
     "end_time": "2025-04-08T16:26:40.134921",
     "exception": false,
     "start_time": "2025-04-08T16:26:40.107616",
     "status": "completed"
    },
    "tags": []
   },
   "outputs": [
    {
     "data": {
      "text/html": [
       "<div>\n",
       "<style scoped>\n",
       "    .dataframe tbody tr th:only-of-type {\n",
       "        vertical-align: middle;\n",
       "    }\n",
       "\n",
       "    .dataframe tbody tr th {\n",
       "        vertical-align: top;\n",
       "    }\n",
       "\n",
       "    .dataframe thead th {\n",
       "        text-align: right;\n",
       "    }\n",
       "</style>\n",
       "<table border=\"1\" class=\"dataframe\">\n",
       "  <thead>\n",
       "    <tr style=\"text-align: right;\">\n",
       "      <th></th>\n",
       "      <th>Pregnant</th>\n",
       "      <th>Glucose</th>\n",
       "      <th>Diastolic_BP</th>\n",
       "      <th>Skin_Fold</th>\n",
       "      <th>Serum_Insulin</th>\n",
       "      <th>BMI</th>\n",
       "      <th>Diabetes_Pedigree</th>\n",
       "      <th>Age</th>\n",
       "      <th>Class</th>\n",
       "    </tr>\n",
       "  </thead>\n",
       "  <tbody>\n",
       "    <tr>\n",
       "      <th>0</th>\n",
       "      <td>6</td>\n",
       "      <td>148.0</td>\n",
       "      <td>72.0</td>\n",
       "      <td>35.0</td>\n",
       "      <td>125.0</td>\n",
       "      <td>33.6</td>\n",
       "      <td>0.627</td>\n",
       "      <td>50</td>\n",
       "      <td>1</td>\n",
       "    </tr>\n",
       "    <tr>\n",
       "      <th>1</th>\n",
       "      <td>1</td>\n",
       "      <td>85.0</td>\n",
       "      <td>66.0</td>\n",
       "      <td>29.0</td>\n",
       "      <td>125.0</td>\n",
       "      <td>26.6</td>\n",
       "      <td>0.351</td>\n",
       "      <td>31</td>\n",
       "      <td>0</td>\n",
       "    </tr>\n",
       "    <tr>\n",
       "      <th>2</th>\n",
       "      <td>8</td>\n",
       "      <td>183.0</td>\n",
       "      <td>64.0</td>\n",
       "      <td>29.0</td>\n",
       "      <td>125.0</td>\n",
       "      <td>23.3</td>\n",
       "      <td>0.672</td>\n",
       "      <td>32</td>\n",
       "      <td>1</td>\n",
       "    </tr>\n",
       "    <tr>\n",
       "      <th>3</th>\n",
       "      <td>1</td>\n",
       "      <td>89.0</td>\n",
       "      <td>66.0</td>\n",
       "      <td>23.0</td>\n",
       "      <td>94.0</td>\n",
       "      <td>28.1</td>\n",
       "      <td>0.167</td>\n",
       "      <td>21</td>\n",
       "      <td>0</td>\n",
       "    </tr>\n",
       "    <tr>\n",
       "      <th>4</th>\n",
       "      <td>0</td>\n",
       "      <td>137.0</td>\n",
       "      <td>40.0</td>\n",
       "      <td>35.0</td>\n",
       "      <td>168.0</td>\n",
       "      <td>43.1</td>\n",
       "      <td>2.288</td>\n",
       "      <td>33</td>\n",
       "      <td>1</td>\n",
       "    </tr>\n",
       "  </tbody>\n",
       "</table>\n",
       "</div>"
      ],
      "text/plain": [
       "   Pregnant  Glucose  Diastolic_BP  Skin_Fold  Serum_Insulin   BMI  \\\n",
       "0         6    148.0          72.0       35.0          125.0  33.6   \n",
       "1         1     85.0          66.0       29.0          125.0  26.6   \n",
       "2         8    183.0          64.0       29.0          125.0  23.3   \n",
       "3         1     89.0          66.0       23.0           94.0  28.1   \n",
       "4         0    137.0          40.0       35.0          168.0  43.1   \n",
       "\n",
       "   Diabetes_Pedigree  Age  Class  \n",
       "0              0.627   50      1  \n",
       "1              0.351   31      0  \n",
       "2              0.672   32      1  \n",
       "3              0.167   21      0  \n",
       "4              2.288   33      1  "
      ]
     },
     "execution_count": 26,
     "metadata": {},
     "output_type": "execute_result"
    }
   ],
   "source": [
    "df.head()"
   ]
  },
  {
   "cell_type": "code",
   "execution_count": 27,
   "id": "5485e13e",
   "metadata": {
    "execution": {
     "iopub.execute_input": "2025-04-08T16:26:40.161754Z",
     "iopub.status.busy": "2025-04-08T16:26:40.161383Z",
     "iopub.status.idle": "2025-04-08T16:26:40.175981Z",
     "shell.execute_reply": "2025-04-08T16:26:40.174892Z"
    },
    "papermill": {
     "duration": 0.02977,
     "end_time": "2025-04-08T16:26:40.177704",
     "exception": false,
     "start_time": "2025-04-08T16:26:40.147934",
     "status": "completed"
    },
    "tags": []
   },
   "outputs": [
    {
     "data": {
      "text/html": [
       "<div>\n",
       "<style scoped>\n",
       "    .dataframe tbody tr th:only-of-type {\n",
       "        vertical-align: middle;\n",
       "    }\n",
       "\n",
       "    .dataframe tbody tr th {\n",
       "        vertical-align: top;\n",
       "    }\n",
       "\n",
       "    .dataframe thead th {\n",
       "        text-align: right;\n",
       "    }\n",
       "</style>\n",
       "<table border=\"1\" class=\"dataframe\">\n",
       "  <thead>\n",
       "    <tr style=\"text-align: right;\">\n",
       "      <th></th>\n",
       "      <th>Pregnant</th>\n",
       "      <th>Glucose</th>\n",
       "      <th>Diastolic_BP</th>\n",
       "      <th>Skin_Fold</th>\n",
       "      <th>Serum_Insulin</th>\n",
       "      <th>BMI</th>\n",
       "      <th>Diabetes_Pedigree</th>\n",
       "      <th>Age</th>\n",
       "      <th>Class</th>\n",
       "    </tr>\n",
       "  </thead>\n",
       "  <tbody>\n",
       "    <tr>\n",
       "      <th>763</th>\n",
       "      <td>10</td>\n",
       "      <td>101.0</td>\n",
       "      <td>76.0</td>\n",
       "      <td>48.0</td>\n",
       "      <td>180.0</td>\n",
       "      <td>32.9</td>\n",
       "      <td>0.171</td>\n",
       "      <td>63</td>\n",
       "      <td>0</td>\n",
       "    </tr>\n",
       "    <tr>\n",
       "      <th>764</th>\n",
       "      <td>2</td>\n",
       "      <td>122.0</td>\n",
       "      <td>70.0</td>\n",
       "      <td>27.0</td>\n",
       "      <td>125.0</td>\n",
       "      <td>36.8</td>\n",
       "      <td>0.340</td>\n",
       "      <td>27</td>\n",
       "      <td>0</td>\n",
       "    </tr>\n",
       "    <tr>\n",
       "      <th>765</th>\n",
       "      <td>5</td>\n",
       "      <td>121.0</td>\n",
       "      <td>72.0</td>\n",
       "      <td>23.0</td>\n",
       "      <td>112.0</td>\n",
       "      <td>26.2</td>\n",
       "      <td>0.245</td>\n",
       "      <td>30</td>\n",
       "      <td>0</td>\n",
       "    </tr>\n",
       "    <tr>\n",
       "      <th>766</th>\n",
       "      <td>1</td>\n",
       "      <td>126.0</td>\n",
       "      <td>60.0</td>\n",
       "      <td>29.0</td>\n",
       "      <td>125.0</td>\n",
       "      <td>30.1</td>\n",
       "      <td>0.349</td>\n",
       "      <td>47</td>\n",
       "      <td>1</td>\n",
       "    </tr>\n",
       "    <tr>\n",
       "      <th>767</th>\n",
       "      <td>1</td>\n",
       "      <td>93.0</td>\n",
       "      <td>70.0</td>\n",
       "      <td>31.0</td>\n",
       "      <td>125.0</td>\n",
       "      <td>30.4</td>\n",
       "      <td>0.315</td>\n",
       "      <td>23</td>\n",
       "      <td>0</td>\n",
       "    </tr>\n",
       "  </tbody>\n",
       "</table>\n",
       "</div>"
      ],
      "text/plain": [
       "     Pregnant  Glucose  Diastolic_BP  Skin_Fold  Serum_Insulin   BMI  \\\n",
       "763        10    101.0          76.0       48.0          180.0  32.9   \n",
       "764         2    122.0          70.0       27.0          125.0  36.8   \n",
       "765         5    121.0          72.0       23.0          112.0  26.2   \n",
       "766         1    126.0          60.0       29.0          125.0  30.1   \n",
       "767         1     93.0          70.0       31.0          125.0  30.4   \n",
       "\n",
       "     Diabetes_Pedigree  Age  Class  \n",
       "763              0.171   63      0  \n",
       "764              0.340   27      0  \n",
       "765              0.245   30      0  \n",
       "766              0.349   47      1  \n",
       "767              0.315   23      0  "
      ]
     },
     "execution_count": 27,
     "metadata": {},
     "output_type": "execute_result"
    }
   ],
   "source": [
    "df.tail()"
   ]
  },
  {
   "cell_type": "code",
   "execution_count": 28,
   "id": "d103bb91",
   "metadata": {
    "execution": {
     "iopub.execute_input": "2025-04-08T16:26:40.203486Z",
     "iopub.status.busy": "2025-04-08T16:26:40.203105Z",
     "iopub.status.idle": "2025-04-08T16:26:40.210255Z",
     "shell.execute_reply": "2025-04-08T16:26:40.209167Z"
    },
    "papermill": {
     "duration": 0.021801,
     "end_time": "2025-04-08T16:26:40.211844",
     "exception": false,
     "start_time": "2025-04-08T16:26:40.190043",
     "status": "completed"
    },
    "tags": []
   },
   "outputs": [
    {
     "data": {
      "text/plain": [
       "72.40518417462484"
      ]
     },
     "execution_count": 28,
     "metadata": {},
     "output_type": "execute_result"
    }
   ],
   "source": [
    "df['Diastolic_BP'].mean()"
   ]
  },
  {
   "cell_type": "code",
   "execution_count": 29,
   "id": "7db1f8bd",
   "metadata": {
    "execution": {
     "iopub.execute_input": "2025-04-08T16:26:40.237453Z",
     "iopub.status.busy": "2025-04-08T16:26:40.237090Z",
     "iopub.status.idle": "2025-04-08T16:26:40.243209Z",
     "shell.execute_reply": "2025-04-08T16:26:40.241929Z"
    },
    "papermill": {
     "duration": 0.020741,
     "end_time": "2025-04-08T16:26:40.244932",
     "exception": false,
     "start_time": "2025-04-08T16:26:40.224191",
     "status": "completed"
    },
    "tags": []
   },
   "outputs": [
    {
     "data": {
      "text/plain": [
       "72.0"
      ]
     },
     "execution_count": 29,
     "metadata": {},
     "output_type": "execute_result"
    }
   ],
   "source": [
    "df['Diastolic_BP'].median()"
   ]
  },
  {
   "cell_type": "code",
   "execution_count": 30,
   "id": "6b049114",
   "metadata": {
    "execution": {
     "iopub.execute_input": "2025-04-08T16:26:40.270942Z",
     "iopub.status.busy": "2025-04-08T16:26:40.270517Z",
     "iopub.status.idle": "2025-04-08T16:26:40.275901Z",
     "shell.execute_reply": "2025-04-08T16:26:40.274867Z"
    },
    "papermill": {
     "duration": 0.020321,
     "end_time": "2025-04-08T16:26:40.277541",
     "exception": false,
     "start_time": "2025-04-08T16:26:40.257220",
     "status": "completed"
    },
    "tags": []
   },
   "outputs": [],
   "source": [
    "df['Diastolic_BP'] = df['Diastolic_BP'].fillna(df['Diastolic_BP'].median())"
   ]
  },
  {
   "cell_type": "code",
   "execution_count": 31,
   "id": "0d75e8d0",
   "metadata": {
    "execution": {
     "iopub.execute_input": "2025-04-08T16:26:40.304063Z",
     "iopub.status.busy": "2025-04-08T16:26:40.303646Z",
     "iopub.status.idle": "2025-04-08T16:26:40.311137Z",
     "shell.execute_reply": "2025-04-08T16:26:40.310118Z"
    },
    "papermill": {
     "duration": 0.022166,
     "end_time": "2025-04-08T16:26:40.312648",
     "exception": false,
     "start_time": "2025-04-08T16:26:40.290482",
     "status": "completed"
    },
    "tags": []
   },
   "outputs": [
    {
     "data": {
      "text/plain": [
       "Pregnant              0\n",
       "Glucose               0\n",
       "Diastolic_BP          0\n",
       "Skin_Fold             0\n",
       "Serum_Insulin         0\n",
       "BMI                  11\n",
       "Diabetes_Pedigree     0\n",
       "Age                   0\n",
       "Class                 0\n",
       "dtype: int64"
      ]
     },
     "execution_count": 31,
     "metadata": {},
     "output_type": "execute_result"
    }
   ],
   "source": [
    "df.isnull().sum()"
   ]
  },
  {
   "cell_type": "code",
   "execution_count": 32,
   "id": "39e7a050",
   "metadata": {
    "execution": {
     "iopub.execute_input": "2025-04-08T16:26:40.340196Z",
     "iopub.status.busy": "2025-04-08T16:26:40.339832Z",
     "iopub.status.idle": "2025-04-08T16:26:40.353636Z",
     "shell.execute_reply": "2025-04-08T16:26:40.352567Z"
    },
    "papermill": {
     "duration": 0.029532,
     "end_time": "2025-04-08T16:26:40.355208",
     "exception": false,
     "start_time": "2025-04-08T16:26:40.325676",
     "status": "completed"
    },
    "tags": []
   },
   "outputs": [
    {
     "data": {
      "text/html": [
       "<div>\n",
       "<style scoped>\n",
       "    .dataframe tbody tr th:only-of-type {\n",
       "        vertical-align: middle;\n",
       "    }\n",
       "\n",
       "    .dataframe tbody tr th {\n",
       "        vertical-align: top;\n",
       "    }\n",
       "\n",
       "    .dataframe thead th {\n",
       "        text-align: right;\n",
       "    }\n",
       "</style>\n",
       "<table border=\"1\" class=\"dataframe\">\n",
       "  <thead>\n",
       "    <tr style=\"text-align: right;\">\n",
       "      <th></th>\n",
       "      <th>Pregnant</th>\n",
       "      <th>Glucose</th>\n",
       "      <th>Diastolic_BP</th>\n",
       "      <th>Skin_Fold</th>\n",
       "      <th>Serum_Insulin</th>\n",
       "      <th>BMI</th>\n",
       "      <th>Diabetes_Pedigree</th>\n",
       "      <th>Age</th>\n",
       "      <th>Class</th>\n",
       "    </tr>\n",
       "  </thead>\n",
       "  <tbody>\n",
       "    <tr>\n",
       "      <th>0</th>\n",
       "      <td>6</td>\n",
       "      <td>148.0</td>\n",
       "      <td>72.0</td>\n",
       "      <td>35.0</td>\n",
       "      <td>125.0</td>\n",
       "      <td>33.6</td>\n",
       "      <td>0.627</td>\n",
       "      <td>50</td>\n",
       "      <td>1</td>\n",
       "    </tr>\n",
       "    <tr>\n",
       "      <th>1</th>\n",
       "      <td>1</td>\n",
       "      <td>85.0</td>\n",
       "      <td>66.0</td>\n",
       "      <td>29.0</td>\n",
       "      <td>125.0</td>\n",
       "      <td>26.6</td>\n",
       "      <td>0.351</td>\n",
       "      <td>31</td>\n",
       "      <td>0</td>\n",
       "    </tr>\n",
       "    <tr>\n",
       "      <th>2</th>\n",
       "      <td>8</td>\n",
       "      <td>183.0</td>\n",
       "      <td>64.0</td>\n",
       "      <td>29.0</td>\n",
       "      <td>125.0</td>\n",
       "      <td>23.3</td>\n",
       "      <td>0.672</td>\n",
       "      <td>32</td>\n",
       "      <td>1</td>\n",
       "    </tr>\n",
       "    <tr>\n",
       "      <th>3</th>\n",
       "      <td>1</td>\n",
       "      <td>89.0</td>\n",
       "      <td>66.0</td>\n",
       "      <td>23.0</td>\n",
       "      <td>94.0</td>\n",
       "      <td>28.1</td>\n",
       "      <td>0.167</td>\n",
       "      <td>21</td>\n",
       "      <td>0</td>\n",
       "    </tr>\n",
       "    <tr>\n",
       "      <th>4</th>\n",
       "      <td>0</td>\n",
       "      <td>137.0</td>\n",
       "      <td>40.0</td>\n",
       "      <td>35.0</td>\n",
       "      <td>168.0</td>\n",
       "      <td>43.1</td>\n",
       "      <td>2.288</td>\n",
       "      <td>33</td>\n",
       "      <td>1</td>\n",
       "    </tr>\n",
       "  </tbody>\n",
       "</table>\n",
       "</div>"
      ],
      "text/plain": [
       "   Pregnant  Glucose  Diastolic_BP  Skin_Fold  Serum_Insulin   BMI  \\\n",
       "0         6    148.0          72.0       35.0          125.0  33.6   \n",
       "1         1     85.0          66.0       29.0          125.0  26.6   \n",
       "2         8    183.0          64.0       29.0          125.0  23.3   \n",
       "3         1     89.0          66.0       23.0           94.0  28.1   \n",
       "4         0    137.0          40.0       35.0          168.0  43.1   \n",
       "\n",
       "   Diabetes_Pedigree  Age  Class  \n",
       "0              0.627   50      1  \n",
       "1              0.351   31      0  \n",
       "2              0.672   32      1  \n",
       "3              0.167   21      0  \n",
       "4              2.288   33      1  "
      ]
     },
     "execution_count": 32,
     "metadata": {},
     "output_type": "execute_result"
    }
   ],
   "source": [
    "df.head()"
   ]
  },
  {
   "cell_type": "code",
   "execution_count": 33,
   "id": "1232c4a5",
   "metadata": {
    "execution": {
     "iopub.execute_input": "2025-04-08T16:26:40.382193Z",
     "iopub.status.busy": "2025-04-08T16:26:40.381839Z",
     "iopub.status.idle": "2025-04-08T16:26:40.395608Z",
     "shell.execute_reply": "2025-04-08T16:26:40.394585Z"
    },
    "papermill": {
     "duration": 0.02905,
     "end_time": "2025-04-08T16:26:40.397323",
     "exception": false,
     "start_time": "2025-04-08T16:26:40.368273",
     "status": "completed"
    },
    "tags": []
   },
   "outputs": [
    {
     "data": {
      "text/html": [
       "<div>\n",
       "<style scoped>\n",
       "    .dataframe tbody tr th:only-of-type {\n",
       "        vertical-align: middle;\n",
       "    }\n",
       "\n",
       "    .dataframe tbody tr th {\n",
       "        vertical-align: top;\n",
       "    }\n",
       "\n",
       "    .dataframe thead th {\n",
       "        text-align: right;\n",
       "    }\n",
       "</style>\n",
       "<table border=\"1\" class=\"dataframe\">\n",
       "  <thead>\n",
       "    <tr style=\"text-align: right;\">\n",
       "      <th></th>\n",
       "      <th>Pregnant</th>\n",
       "      <th>Glucose</th>\n",
       "      <th>Diastolic_BP</th>\n",
       "      <th>Skin_Fold</th>\n",
       "      <th>Serum_Insulin</th>\n",
       "      <th>BMI</th>\n",
       "      <th>Diabetes_Pedigree</th>\n",
       "      <th>Age</th>\n",
       "      <th>Class</th>\n",
       "    </tr>\n",
       "  </thead>\n",
       "  <tbody>\n",
       "    <tr>\n",
       "      <th>763</th>\n",
       "      <td>10</td>\n",
       "      <td>101.0</td>\n",
       "      <td>76.0</td>\n",
       "      <td>48.0</td>\n",
       "      <td>180.0</td>\n",
       "      <td>32.9</td>\n",
       "      <td>0.171</td>\n",
       "      <td>63</td>\n",
       "      <td>0</td>\n",
       "    </tr>\n",
       "    <tr>\n",
       "      <th>764</th>\n",
       "      <td>2</td>\n",
       "      <td>122.0</td>\n",
       "      <td>70.0</td>\n",
       "      <td>27.0</td>\n",
       "      <td>125.0</td>\n",
       "      <td>36.8</td>\n",
       "      <td>0.340</td>\n",
       "      <td>27</td>\n",
       "      <td>0</td>\n",
       "    </tr>\n",
       "    <tr>\n",
       "      <th>765</th>\n",
       "      <td>5</td>\n",
       "      <td>121.0</td>\n",
       "      <td>72.0</td>\n",
       "      <td>23.0</td>\n",
       "      <td>112.0</td>\n",
       "      <td>26.2</td>\n",
       "      <td>0.245</td>\n",
       "      <td>30</td>\n",
       "      <td>0</td>\n",
       "    </tr>\n",
       "    <tr>\n",
       "      <th>766</th>\n",
       "      <td>1</td>\n",
       "      <td>126.0</td>\n",
       "      <td>60.0</td>\n",
       "      <td>29.0</td>\n",
       "      <td>125.0</td>\n",
       "      <td>30.1</td>\n",
       "      <td>0.349</td>\n",
       "      <td>47</td>\n",
       "      <td>1</td>\n",
       "    </tr>\n",
       "    <tr>\n",
       "      <th>767</th>\n",
       "      <td>1</td>\n",
       "      <td>93.0</td>\n",
       "      <td>70.0</td>\n",
       "      <td>31.0</td>\n",
       "      <td>125.0</td>\n",
       "      <td>30.4</td>\n",
       "      <td>0.315</td>\n",
       "      <td>23</td>\n",
       "      <td>0</td>\n",
       "    </tr>\n",
       "  </tbody>\n",
       "</table>\n",
       "</div>"
      ],
      "text/plain": [
       "     Pregnant  Glucose  Diastolic_BP  Skin_Fold  Serum_Insulin   BMI  \\\n",
       "763        10    101.0          76.0       48.0          180.0  32.9   \n",
       "764         2    122.0          70.0       27.0          125.0  36.8   \n",
       "765         5    121.0          72.0       23.0          112.0  26.2   \n",
       "766         1    126.0          60.0       29.0          125.0  30.1   \n",
       "767         1     93.0          70.0       31.0          125.0  30.4   \n",
       "\n",
       "     Diabetes_Pedigree  Age  Class  \n",
       "763              0.171   63      0  \n",
       "764              0.340   27      0  \n",
       "765              0.245   30      0  \n",
       "766              0.349   47      1  \n",
       "767              0.315   23      0  "
      ]
     },
     "execution_count": 33,
     "metadata": {},
     "output_type": "execute_result"
    }
   ],
   "source": [
    "df.tail()"
   ]
  },
  {
   "cell_type": "code",
   "execution_count": 34,
   "id": "dfd45a6a",
   "metadata": {
    "execution": {
     "iopub.execute_input": "2025-04-08T16:26:40.424830Z",
     "iopub.status.busy": "2025-04-08T16:26:40.424445Z",
     "iopub.status.idle": "2025-04-08T16:26:40.431151Z",
     "shell.execute_reply": "2025-04-08T16:26:40.430140Z"
    },
    "papermill": {
     "duration": 0.022113,
     "end_time": "2025-04-08T16:26:40.432709",
     "exception": false,
     "start_time": "2025-04-08T16:26:40.410596",
     "status": "completed"
    },
    "tags": []
   },
   "outputs": [
    {
     "data": {
      "text/plain": [
       "32.457463672391015"
      ]
     },
     "execution_count": 34,
     "metadata": {},
     "output_type": "execute_result"
    }
   ],
   "source": [
    "df['BMI'].mean()"
   ]
  },
  {
   "cell_type": "code",
   "execution_count": 35,
   "id": "81bf176a",
   "metadata": {
    "execution": {
     "iopub.execute_input": "2025-04-08T16:26:40.460113Z",
     "iopub.status.busy": "2025-04-08T16:26:40.459674Z",
     "iopub.status.idle": "2025-04-08T16:26:40.465852Z",
     "shell.execute_reply": "2025-04-08T16:26:40.464869Z"
    },
    "papermill": {
     "duration": 0.021719,
     "end_time": "2025-04-08T16:26:40.467537",
     "exception": false,
     "start_time": "2025-04-08T16:26:40.445818",
     "status": "completed"
    },
    "tags": []
   },
   "outputs": [
    {
     "data": {
      "text/plain": [
       "32.3"
      ]
     },
     "execution_count": 35,
     "metadata": {},
     "output_type": "execute_result"
    }
   ],
   "source": [
    "df['BMI'].median()"
   ]
  },
  {
   "cell_type": "code",
   "execution_count": 36,
   "id": "7fbca375",
   "metadata": {
    "execution": {
     "iopub.execute_input": "2025-04-08T16:26:40.496481Z",
     "iopub.status.busy": "2025-04-08T16:26:40.496155Z",
     "iopub.status.idle": "2025-04-08T16:26:40.500987Z",
     "shell.execute_reply": "2025-04-08T16:26:40.500154Z"
    },
    "papermill": {
     "duration": 0.020044,
     "end_time": "2025-04-08T16:26:40.502403",
     "exception": false,
     "start_time": "2025-04-08T16:26:40.482359",
     "status": "completed"
    },
    "tags": []
   },
   "outputs": [],
   "source": [
    "df['BMI'] = df['BMI'].fillna(df['BMI'].median())"
   ]
  },
  {
   "cell_type": "code",
   "execution_count": 37,
   "id": "e5508b48",
   "metadata": {
    "execution": {
     "iopub.execute_input": "2025-04-08T16:26:40.529713Z",
     "iopub.status.busy": "2025-04-08T16:26:40.529382Z",
     "iopub.status.idle": "2025-04-08T16:26:40.536587Z",
     "shell.execute_reply": "2025-04-08T16:26:40.535812Z"
    },
    "papermill": {
     "duration": 0.022505,
     "end_time": "2025-04-08T16:26:40.538066",
     "exception": false,
     "start_time": "2025-04-08T16:26:40.515561",
     "status": "completed"
    },
    "tags": []
   },
   "outputs": [
    {
     "data": {
      "text/plain": [
       "Pregnant             0\n",
       "Glucose              0\n",
       "Diastolic_BP         0\n",
       "Skin_Fold            0\n",
       "Serum_Insulin        0\n",
       "BMI                  0\n",
       "Diabetes_Pedigree    0\n",
       "Age                  0\n",
       "Class                0\n",
       "dtype: int64"
      ]
     },
     "execution_count": 37,
     "metadata": {},
     "output_type": "execute_result"
    }
   ],
   "source": [
    "df.isnull().sum()"
   ]
  },
  {
   "cell_type": "code",
   "execution_count": 38,
   "id": "3f179f2d",
   "metadata": {
    "execution": {
     "iopub.execute_input": "2025-04-08T16:26:40.565537Z",
     "iopub.status.busy": "2025-04-08T16:26:40.565204Z",
     "iopub.status.idle": "2025-04-08T16:26:40.581631Z",
     "shell.execute_reply": "2025-04-08T16:26:40.580649Z"
    },
    "papermill": {
     "duration": 0.031919,
     "end_time": "2025-04-08T16:26:40.583235",
     "exception": false,
     "start_time": "2025-04-08T16:26:40.551316",
     "status": "completed"
    },
    "tags": []
   },
   "outputs": [
    {
     "data": {
      "text/html": [
       "<div>\n",
       "<style scoped>\n",
       "    .dataframe tbody tr th:only-of-type {\n",
       "        vertical-align: middle;\n",
       "    }\n",
       "\n",
       "    .dataframe tbody tr th {\n",
       "        vertical-align: top;\n",
       "    }\n",
       "\n",
       "    .dataframe thead th {\n",
       "        text-align: right;\n",
       "    }\n",
       "</style>\n",
       "<table border=\"1\" class=\"dataframe\">\n",
       "  <thead>\n",
       "    <tr style=\"text-align: right;\">\n",
       "      <th></th>\n",
       "      <th>Pregnant</th>\n",
       "      <th>Glucose</th>\n",
       "      <th>Diastolic_BP</th>\n",
       "      <th>Skin_Fold</th>\n",
       "      <th>Serum_Insulin</th>\n",
       "      <th>BMI</th>\n",
       "      <th>Diabetes_Pedigree</th>\n",
       "      <th>Age</th>\n",
       "      <th>Class</th>\n",
       "    </tr>\n",
       "  </thead>\n",
       "  <tbody>\n",
       "    <tr>\n",
       "      <th>0</th>\n",
       "      <td>False</td>\n",
       "      <td>False</td>\n",
       "      <td>False</td>\n",
       "      <td>False</td>\n",
       "      <td>False</td>\n",
       "      <td>False</td>\n",
       "      <td>False</td>\n",
       "      <td>False</td>\n",
       "      <td>False</td>\n",
       "    </tr>\n",
       "    <tr>\n",
       "      <th>1</th>\n",
       "      <td>False</td>\n",
       "      <td>False</td>\n",
       "      <td>False</td>\n",
       "      <td>False</td>\n",
       "      <td>False</td>\n",
       "      <td>False</td>\n",
       "      <td>False</td>\n",
       "      <td>False</td>\n",
       "      <td>False</td>\n",
       "    </tr>\n",
       "    <tr>\n",
       "      <th>2</th>\n",
       "      <td>False</td>\n",
       "      <td>False</td>\n",
       "      <td>False</td>\n",
       "      <td>False</td>\n",
       "      <td>False</td>\n",
       "      <td>False</td>\n",
       "      <td>False</td>\n",
       "      <td>False</td>\n",
       "      <td>False</td>\n",
       "    </tr>\n",
       "    <tr>\n",
       "      <th>3</th>\n",
       "      <td>False</td>\n",
       "      <td>False</td>\n",
       "      <td>False</td>\n",
       "      <td>False</td>\n",
       "      <td>False</td>\n",
       "      <td>False</td>\n",
       "      <td>False</td>\n",
       "      <td>False</td>\n",
       "      <td>False</td>\n",
       "    </tr>\n",
       "    <tr>\n",
       "      <th>4</th>\n",
       "      <td>False</td>\n",
       "      <td>False</td>\n",
       "      <td>False</td>\n",
       "      <td>False</td>\n",
       "      <td>False</td>\n",
       "      <td>False</td>\n",
       "      <td>False</td>\n",
       "      <td>False</td>\n",
       "      <td>False</td>\n",
       "    </tr>\n",
       "    <tr>\n",
       "      <th>...</th>\n",
       "      <td>...</td>\n",
       "      <td>...</td>\n",
       "      <td>...</td>\n",
       "      <td>...</td>\n",
       "      <td>...</td>\n",
       "      <td>...</td>\n",
       "      <td>...</td>\n",
       "      <td>...</td>\n",
       "      <td>...</td>\n",
       "    </tr>\n",
       "    <tr>\n",
       "      <th>763</th>\n",
       "      <td>False</td>\n",
       "      <td>False</td>\n",
       "      <td>False</td>\n",
       "      <td>False</td>\n",
       "      <td>False</td>\n",
       "      <td>False</td>\n",
       "      <td>False</td>\n",
       "      <td>False</td>\n",
       "      <td>False</td>\n",
       "    </tr>\n",
       "    <tr>\n",
       "      <th>764</th>\n",
       "      <td>False</td>\n",
       "      <td>False</td>\n",
       "      <td>False</td>\n",
       "      <td>False</td>\n",
       "      <td>False</td>\n",
       "      <td>False</td>\n",
       "      <td>False</td>\n",
       "      <td>False</td>\n",
       "      <td>False</td>\n",
       "    </tr>\n",
       "    <tr>\n",
       "      <th>765</th>\n",
       "      <td>False</td>\n",
       "      <td>False</td>\n",
       "      <td>False</td>\n",
       "      <td>False</td>\n",
       "      <td>False</td>\n",
       "      <td>False</td>\n",
       "      <td>False</td>\n",
       "      <td>False</td>\n",
       "      <td>False</td>\n",
       "    </tr>\n",
       "    <tr>\n",
       "      <th>766</th>\n",
       "      <td>False</td>\n",
       "      <td>False</td>\n",
       "      <td>False</td>\n",
       "      <td>False</td>\n",
       "      <td>False</td>\n",
       "      <td>False</td>\n",
       "      <td>False</td>\n",
       "      <td>False</td>\n",
       "      <td>False</td>\n",
       "    </tr>\n",
       "    <tr>\n",
       "      <th>767</th>\n",
       "      <td>False</td>\n",
       "      <td>False</td>\n",
       "      <td>False</td>\n",
       "      <td>False</td>\n",
       "      <td>False</td>\n",
       "      <td>False</td>\n",
       "      <td>False</td>\n",
       "      <td>False</td>\n",
       "      <td>False</td>\n",
       "    </tr>\n",
       "  </tbody>\n",
       "</table>\n",
       "<p>768 rows × 9 columns</p>\n",
       "</div>"
      ],
      "text/plain": [
       "     Pregnant  Glucose  Diastolic_BP  Skin_Fold  Serum_Insulin    BMI  \\\n",
       "0       False    False         False      False          False  False   \n",
       "1       False    False         False      False          False  False   \n",
       "2       False    False         False      False          False  False   \n",
       "3       False    False         False      False          False  False   \n",
       "4       False    False         False      False          False  False   \n",
       "..        ...      ...           ...        ...            ...    ...   \n",
       "763     False    False         False      False          False  False   \n",
       "764     False    False         False      False          False  False   \n",
       "765     False    False         False      False          False  False   \n",
       "766     False    False         False      False          False  False   \n",
       "767     False    False         False      False          False  False   \n",
       "\n",
       "     Diabetes_Pedigree    Age  Class  \n",
       "0                False  False  False  \n",
       "1                False  False  False  \n",
       "2                False  False  False  \n",
       "3                False  False  False  \n",
       "4                False  False  False  \n",
       "..                 ...    ...    ...  \n",
       "763              False  False  False  \n",
       "764              False  False  False  \n",
       "765              False  False  False  \n",
       "766              False  False  False  \n",
       "767              False  False  False  \n",
       "\n",
       "[768 rows x 9 columns]"
      ]
     },
     "execution_count": 38,
     "metadata": {},
     "output_type": "execute_result"
    }
   ],
   "source": [
    "df.isnull()"
   ]
  },
  {
   "cell_type": "code",
   "execution_count": 39,
   "id": "79d6d5ba",
   "metadata": {
    "execution": {
     "iopub.execute_input": "2025-04-08T16:26:40.612826Z",
     "iopub.status.busy": "2025-04-08T16:26:40.612438Z",
     "iopub.status.idle": "2025-04-08T16:26:40.623865Z",
     "shell.execute_reply": "2025-04-08T16:26:40.622624Z"
    },
    "papermill": {
     "duration": 0.02793,
     "end_time": "2025-04-08T16:26:40.625682",
     "exception": false,
     "start_time": "2025-04-08T16:26:40.597752",
     "status": "completed"
    },
    "tags": []
   },
   "outputs": [
    {
     "name": "stdout",
     "output_type": "stream",
     "text": [
      "<class 'pandas.core.frame.DataFrame'>\n",
      "RangeIndex: 768 entries, 0 to 767\n",
      "Data columns (total 9 columns):\n",
      " #   Column             Non-Null Count  Dtype  \n",
      "---  ------             --------------  -----  \n",
      " 0   Pregnant           768 non-null    int64  \n",
      " 1   Glucose            768 non-null    float64\n",
      " 2   Diastolic_BP       768 non-null    float64\n",
      " 3   Skin_Fold          768 non-null    float64\n",
      " 4   Serum_Insulin      768 non-null    float64\n",
      " 5   BMI                768 non-null    float64\n",
      " 6   Diabetes_Pedigree  768 non-null    float64\n",
      " 7   Age                768 non-null    int64  \n",
      " 8   Class              768 non-null    int64  \n",
      "dtypes: float64(6), int64(3)\n",
      "memory usage: 54.1 KB\n"
     ]
    }
   ],
   "source": [
    "df.info()"
   ]
  },
  {
   "cell_type": "code",
   "execution_count": 40,
   "id": "3377dfa8",
   "metadata": {
    "execution": {
     "iopub.execute_input": "2025-04-08T16:26:40.655924Z",
     "iopub.status.busy": "2025-04-08T16:26:40.655433Z",
     "iopub.status.idle": "2025-04-08T16:26:40.689344Z",
     "shell.execute_reply": "2025-04-08T16:26:40.688233Z"
    },
    "papermill": {
     "duration": 0.050867,
     "end_time": "2025-04-08T16:26:40.691139",
     "exception": false,
     "start_time": "2025-04-08T16:26:40.640272",
     "status": "completed"
    },
    "tags": []
   },
   "outputs": [
    {
     "data": {
      "text/html": [
       "<div>\n",
       "<style scoped>\n",
       "    .dataframe tbody tr th:only-of-type {\n",
       "        vertical-align: middle;\n",
       "    }\n",
       "\n",
       "    .dataframe tbody tr th {\n",
       "        vertical-align: top;\n",
       "    }\n",
       "\n",
       "    .dataframe thead th {\n",
       "        text-align: right;\n",
       "    }\n",
       "</style>\n",
       "<table border=\"1\" class=\"dataframe\">\n",
       "  <thead>\n",
       "    <tr style=\"text-align: right;\">\n",
       "      <th></th>\n",
       "      <th>Pregnant</th>\n",
       "      <th>Glucose</th>\n",
       "      <th>Diastolic_BP</th>\n",
       "      <th>Skin_Fold</th>\n",
       "      <th>Serum_Insulin</th>\n",
       "      <th>BMI</th>\n",
       "      <th>Diabetes_Pedigree</th>\n",
       "      <th>Age</th>\n",
       "      <th>Class</th>\n",
       "    </tr>\n",
       "  </thead>\n",
       "  <tbody>\n",
       "    <tr>\n",
       "      <th>count</th>\n",
       "      <td>768.000000</td>\n",
       "      <td>768.000000</td>\n",
       "      <td>768.000000</td>\n",
       "      <td>768.000000</td>\n",
       "      <td>768.000000</td>\n",
       "      <td>768.000000</td>\n",
       "      <td>768.000000</td>\n",
       "      <td>768.000000</td>\n",
       "      <td>768.000000</td>\n",
       "    </tr>\n",
       "    <tr>\n",
       "      <th>mean</th>\n",
       "      <td>3.845052</td>\n",
       "      <td>121.514323</td>\n",
       "      <td>72.386719</td>\n",
       "      <td>29.108073</td>\n",
       "      <td>140.671875</td>\n",
       "      <td>32.455208</td>\n",
       "      <td>0.471876</td>\n",
       "      <td>33.240885</td>\n",
       "      <td>0.348958</td>\n",
       "    </tr>\n",
       "    <tr>\n",
       "      <th>std</th>\n",
       "      <td>3.369578</td>\n",
       "      <td>30.531191</td>\n",
       "      <td>12.096642</td>\n",
       "      <td>8.791221</td>\n",
       "      <td>86.383060</td>\n",
       "      <td>6.875177</td>\n",
       "      <td>0.331329</td>\n",
       "      <td>11.760232</td>\n",
       "      <td>0.476951</td>\n",
       "    </tr>\n",
       "    <tr>\n",
       "      <th>min</th>\n",
       "      <td>0.000000</td>\n",
       "      <td>44.000000</td>\n",
       "      <td>24.000000</td>\n",
       "      <td>7.000000</td>\n",
       "      <td>14.000000</td>\n",
       "      <td>18.200000</td>\n",
       "      <td>0.078000</td>\n",
       "      <td>21.000000</td>\n",
       "      <td>0.000000</td>\n",
       "    </tr>\n",
       "    <tr>\n",
       "      <th>25%</th>\n",
       "      <td>1.000000</td>\n",
       "      <td>99.000000</td>\n",
       "      <td>64.000000</td>\n",
       "      <td>25.000000</td>\n",
       "      <td>121.500000</td>\n",
       "      <td>27.500000</td>\n",
       "      <td>0.243750</td>\n",
       "      <td>24.000000</td>\n",
       "      <td>0.000000</td>\n",
       "    </tr>\n",
       "    <tr>\n",
       "      <th>50%</th>\n",
       "      <td>3.000000</td>\n",
       "      <td>117.000000</td>\n",
       "      <td>72.000000</td>\n",
       "      <td>29.000000</td>\n",
       "      <td>125.000000</td>\n",
       "      <td>32.300000</td>\n",
       "      <td>0.372500</td>\n",
       "      <td>29.000000</td>\n",
       "      <td>0.000000</td>\n",
       "    </tr>\n",
       "    <tr>\n",
       "      <th>75%</th>\n",
       "      <td>6.000000</td>\n",
       "      <td>140.250000</td>\n",
       "      <td>80.000000</td>\n",
       "      <td>32.000000</td>\n",
       "      <td>127.250000</td>\n",
       "      <td>36.600000</td>\n",
       "      <td>0.626250</td>\n",
       "      <td>41.000000</td>\n",
       "      <td>1.000000</td>\n",
       "    </tr>\n",
       "    <tr>\n",
       "      <th>max</th>\n",
       "      <td>17.000000</td>\n",
       "      <td>199.000000</td>\n",
       "      <td>122.000000</td>\n",
       "      <td>99.000000</td>\n",
       "      <td>846.000000</td>\n",
       "      <td>67.100000</td>\n",
       "      <td>2.420000</td>\n",
       "      <td>81.000000</td>\n",
       "      <td>1.000000</td>\n",
       "    </tr>\n",
       "  </tbody>\n",
       "</table>\n",
       "</div>"
      ],
      "text/plain": [
       "         Pregnant     Glucose  Diastolic_BP   Skin_Fold  Serum_Insulin  \\\n",
       "count  768.000000  768.000000    768.000000  768.000000     768.000000   \n",
       "mean     3.845052  121.514323     72.386719   29.108073     140.671875   \n",
       "std      3.369578   30.531191     12.096642    8.791221      86.383060   \n",
       "min      0.000000   44.000000     24.000000    7.000000      14.000000   \n",
       "25%      1.000000   99.000000     64.000000   25.000000     121.500000   \n",
       "50%      3.000000  117.000000     72.000000   29.000000     125.000000   \n",
       "75%      6.000000  140.250000     80.000000   32.000000     127.250000   \n",
       "max     17.000000  199.000000    122.000000   99.000000     846.000000   \n",
       "\n",
       "              BMI  Diabetes_Pedigree         Age       Class  \n",
       "count  768.000000         768.000000  768.000000  768.000000  \n",
       "mean    32.455208           0.471876   33.240885    0.348958  \n",
       "std      6.875177           0.331329   11.760232    0.476951  \n",
       "min     18.200000           0.078000   21.000000    0.000000  \n",
       "25%     27.500000           0.243750   24.000000    0.000000  \n",
       "50%     32.300000           0.372500   29.000000    0.000000  \n",
       "75%     36.600000           0.626250   41.000000    1.000000  \n",
       "max     67.100000           2.420000   81.000000    1.000000  "
      ]
     },
     "execution_count": 40,
     "metadata": {},
     "output_type": "execute_result"
    }
   ],
   "source": [
    "df.describe()"
   ]
  },
  {
   "cell_type": "markdown",
   "id": "71a17122",
   "metadata": {
    "papermill": {
     "duration": 0.013494,
     "end_time": "2025-04-08T16:26:40.718825",
     "exception": false,
     "start_time": "2025-04-08T16:26:40.705331",
     "status": "completed"
    },
    "tags": []
   },
   "source": [
    "# Task1 Normalization"
   ]
  },
  {
   "cell_type": "code",
   "execution_count": 41,
   "id": "ae330091",
   "metadata": {
    "execution": {
     "iopub.execute_input": "2025-04-08T16:26:40.749865Z",
     "iopub.status.busy": "2025-04-08T16:26:40.749464Z",
     "iopub.status.idle": "2025-04-08T16:26:40.756697Z",
     "shell.execute_reply": "2025-04-08T16:26:40.755728Z"
    },
    "papermill": {
     "duration": 0.025607,
     "end_time": "2025-04-08T16:26:40.758545",
     "exception": false,
     "start_time": "2025-04-08T16:26:40.732938",
     "status": "completed"
    },
    "tags": []
   },
   "outputs": [],
   "source": [
    "new_df = pd.DataFrame(df, columns = ['Age', 'BMI'])"
   ]
  },
  {
   "cell_type": "code",
   "execution_count": 42,
   "id": "1d3421ab",
   "metadata": {
    "execution": {
     "iopub.execute_input": "2025-04-08T16:26:40.788107Z",
     "iopub.status.busy": "2025-04-08T16:26:40.787667Z",
     "iopub.status.idle": "2025-04-08T16:26:40.796180Z",
     "shell.execute_reply": "2025-04-08T16:26:40.795251Z"
    },
    "papermill": {
     "duration": 0.024675,
     "end_time": "2025-04-08T16:26:40.797735",
     "exception": false,
     "start_time": "2025-04-08T16:26:40.773060",
     "status": "completed"
    },
    "tags": []
   },
   "outputs": [
    {
     "data": {
      "text/html": [
       "<div>\n",
       "<style scoped>\n",
       "    .dataframe tbody tr th:only-of-type {\n",
       "        vertical-align: middle;\n",
       "    }\n",
       "\n",
       "    .dataframe tbody tr th {\n",
       "        vertical-align: top;\n",
       "    }\n",
       "\n",
       "    .dataframe thead th {\n",
       "        text-align: right;\n",
       "    }\n",
       "</style>\n",
       "<table border=\"1\" class=\"dataframe\">\n",
       "  <thead>\n",
       "    <tr style=\"text-align: right;\">\n",
       "      <th></th>\n",
       "      <th>Age</th>\n",
       "      <th>BMI</th>\n",
       "    </tr>\n",
       "  </thead>\n",
       "  <tbody>\n",
       "    <tr>\n",
       "      <th>0</th>\n",
       "      <td>50</td>\n",
       "      <td>33.6</td>\n",
       "    </tr>\n",
       "    <tr>\n",
       "      <th>1</th>\n",
       "      <td>31</td>\n",
       "      <td>26.6</td>\n",
       "    </tr>\n",
       "    <tr>\n",
       "      <th>2</th>\n",
       "      <td>32</td>\n",
       "      <td>23.3</td>\n",
       "    </tr>\n",
       "    <tr>\n",
       "      <th>3</th>\n",
       "      <td>21</td>\n",
       "      <td>28.1</td>\n",
       "    </tr>\n",
       "    <tr>\n",
       "      <th>4</th>\n",
       "      <td>33</td>\n",
       "      <td>43.1</td>\n",
       "    </tr>\n",
       "  </tbody>\n",
       "</table>\n",
       "</div>"
      ],
      "text/plain": [
       "   Age   BMI\n",
       "0   50  33.6\n",
       "1   31  26.6\n",
       "2   32  23.3\n",
       "3   21  28.1\n",
       "4   33  43.1"
      ]
     },
     "execution_count": 42,
     "metadata": {},
     "output_type": "execute_result"
    }
   ],
   "source": [
    "new_df.head()"
   ]
  },
  {
   "cell_type": "code",
   "execution_count": 43,
   "id": "c701abb3",
   "metadata": {
    "execution": {
     "iopub.execute_input": "2025-04-08T16:26:40.827432Z",
     "iopub.status.busy": "2025-04-08T16:26:40.827090Z",
     "iopub.status.idle": "2025-04-08T16:26:40.836568Z",
     "shell.execute_reply": "2025-04-08T16:26:40.835313Z"
    },
    "papermill": {
     "duration": 0.026433,
     "end_time": "2025-04-08T16:26:40.838409",
     "exception": false,
     "start_time": "2025-04-08T16:26:40.811976",
     "status": "completed"
    },
    "tags": []
   },
   "outputs": [
    {
     "name": "stdout",
     "output_type": "stream",
     "text": [
      "<class 'pandas.core.frame.DataFrame'>\n",
      "RangeIndex: 768 entries, 0 to 767\n",
      "Data columns (total 2 columns):\n",
      " #   Column  Non-Null Count  Dtype  \n",
      "---  ------  --------------  -----  \n",
      " 0   Age     768 non-null    int64  \n",
      " 1   BMI     768 non-null    float64\n",
      "dtypes: float64(1), int64(1)\n",
      "memory usage: 12.1 KB\n"
     ]
    }
   ],
   "source": [
    "new_df.info()"
   ]
  },
  {
   "cell_type": "code",
   "execution_count": 44,
   "id": "3ca38581",
   "metadata": {
    "execution": {
     "iopub.execute_input": "2025-04-08T16:26:40.867917Z",
     "iopub.status.busy": "2025-04-08T16:26:40.867543Z",
     "iopub.status.idle": "2025-04-08T16:26:40.876919Z",
     "shell.execute_reply": "2025-04-08T16:26:40.875682Z"
    },
    "papermill": {
     "duration": 0.026227,
     "end_time": "2025-04-08T16:26:40.878568",
     "exception": false,
     "start_time": "2025-04-08T16:26:40.852341",
     "status": "completed"
    },
    "tags": []
   },
   "outputs": [
    {
     "name": "stdout",
     "output_type": "stream",
     "text": [
      "[[0.48333333 0.31492843]\n",
      " [0.16666667 0.17177914]\n",
      " [0.18333333 0.10429448]\n",
      " ...\n",
      " [0.15       0.16359918]\n",
      " [0.43333333 0.24335378]\n",
      " [0.03333333 0.24948875]]\n"
     ]
    }
   ],
   "source": [
    "scaler = MinMaxScaler() # Instantiating the MinMaxScaler() function\n",
    "normalized_df = scaler.fit_transform(new_df)\n",
    "print(normalized_df)"
   ]
  }
 ],
 "metadata": {
  "kaggle": {
   "accelerator": "none",
   "dataSources": [
    {
     "datasetId": 230350,
     "sourceId": 3284663,
     "sourceType": "datasetVersion"
    },
    {
     "datasetId": 2437124,
     "sourceId": 4123716,
     "sourceType": "datasetVersion"
    },
    {
     "datasetId": 3051697,
     "sourceId": 5244696,
     "sourceType": "datasetVersion"
    },
    {
     "datasetId": 7008896,
     "sourceId": 11222734,
     "sourceType": "datasetVersion"
    },
    {
     "datasetId": 7086307,
     "sourceId": 11328374,
     "sourceType": "datasetVersion"
    }
   ],
   "dockerImageVersionId": 30918,
   "isGpuEnabled": false,
   "isInternetEnabled": true,
   "language": "python",
   "sourceType": "notebook"
  },
  "kernelspec": {
   "display_name": "Python 3",
   "language": "python",
   "name": "python3"
  },
  "language_info": {
   "codemirror_mode": {
    "name": "ipython",
    "version": 3
   },
   "file_extension": ".py",
   "mimetype": "text/x-python",
   "name": "python",
   "nbconvert_exporter": "python",
   "pygments_lexer": "ipython3",
   "version": "3.10.12"
  },
  "papermill": {
   "default_parameters": {},
   "duration": 19.625441,
   "end_time": "2025-04-08T16:26:41.615259",
   "environment_variables": {},
   "exception": null,
   "input_path": "__notebook__.ipynb",
   "output_path": "__notebook__.ipynb",
   "parameters": {},
   "start_time": "2025-04-08T16:26:21.989818",
   "version": "2.6.0"
  }
 },
 "nbformat": 4,
 "nbformat_minor": 5
}
