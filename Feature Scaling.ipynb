{
 "cells": [
  {
   "cell_type": "markdown",
   "id": "bb323f06",
   "metadata": {
    "papermill": {
     "duration": 0.010176,
     "end_time": "2025-04-08T17:01:30.250372",
     "exception": false,
     "start_time": "2025-04-08T17:01:30.240196",
     "status": "completed"
    },
    "tags": []
   },
   "source": [
    "# Feature Scaling"
   ]
  },
  {
   "cell_type": "markdown",
   "id": "4e3d06f9",
   "metadata": {
    "papermill": {
     "duration": 0.009149,
     "end_time": "2025-04-08T17:01:30.269217",
     "exception": false,
     "start_time": "2025-04-08T17:01:30.260068",
     "status": "completed"
    },
    "tags": []
   },
   "source": [
    "**to use or implement the feature scaling technique we need to install the python library called scikit-learn**"
   ]
  },
  {
   "cell_type": "code",
   "execution_count": 1,
   "id": "b2235c3c",
   "metadata": {
    "execution": {
     "iopub.execute_input": "2025-04-08T17:01:30.289445Z",
     "iopub.status.busy": "2025-04-08T17:01:30.289093Z",
     "iopub.status.idle": "2025-04-08T17:01:39.997448Z",
     "shell.execute_reply": "2025-04-08T17:01:39.996110Z"
    },
    "papermill": {
     "duration": 9.720718,
     "end_time": "2025-04-08T17:01:39.999368",
     "exception": false,
     "start_time": "2025-04-08T17:01:30.278650",
     "status": "completed"
    },
    "tags": []
   },
   "outputs": [
    {
     "name": "stdout",
     "output_type": "stream",
     "text": [
      "Requirement already satisfied: scikit-learn in /usr/local/lib/python3.10/dist-packages (1.2.2)\r\n",
      "Collecting scikit-learn\r\n",
      "  Downloading scikit_learn-1.6.1-cp310-cp310-manylinux_2_17_x86_64.manylinux2014_x86_64.whl.metadata (18 kB)\r\n",
      "Requirement already satisfied: numpy>=1.19.5 in /usr/local/lib/python3.10/dist-packages (from scikit-learn) (1.26.4)\r\n",
      "Requirement already satisfied: scipy>=1.6.0 in /usr/local/lib/python3.10/dist-packages (from scikit-learn) (1.13.1)\r\n",
      "Requirement already satisfied: joblib>=1.2.0 in /usr/local/lib/python3.10/dist-packages (from scikit-learn) (1.4.2)\r\n",
      "Requirement already satisfied: threadpoolctl>=3.1.0 in /usr/local/lib/python3.10/dist-packages (from scikit-learn) (3.5.0)\r\n",
      "Requirement already satisfied: mkl_fft in /usr/local/lib/python3.10/dist-packages (from numpy>=1.19.5->scikit-learn) (1.3.8)\r\n",
      "Requirement already satisfied: mkl_random in /usr/local/lib/python3.10/dist-packages (from numpy>=1.19.5->scikit-learn) (1.2.4)\r\n",
      "Requirement already satisfied: mkl_umath in /usr/local/lib/python3.10/dist-packages (from numpy>=1.19.5->scikit-learn) (0.1.1)\r\n",
      "Requirement already satisfied: mkl in /usr/local/lib/python3.10/dist-packages (from numpy>=1.19.5->scikit-learn) (2025.0.1)\r\n",
      "Requirement already satisfied: tbb4py in /usr/local/lib/python3.10/dist-packages (from numpy>=1.19.5->scikit-learn) (2022.0.0)\r\n",
      "Requirement already satisfied: mkl-service in /usr/local/lib/python3.10/dist-packages (from numpy>=1.19.5->scikit-learn) (2.4.1)\r\n",
      "Requirement already satisfied: intel-openmp>=2024 in /usr/local/lib/python3.10/dist-packages (from mkl->numpy>=1.19.5->scikit-learn) (2024.2.0)\r\n",
      "Requirement already satisfied: tbb==2022.* in /usr/local/lib/python3.10/dist-packages (from mkl->numpy>=1.19.5->scikit-learn) (2022.0.0)\r\n",
      "Requirement already satisfied: tcmlib==1.* in /usr/local/lib/python3.10/dist-packages (from tbb==2022.*->mkl->numpy>=1.19.5->scikit-learn) (1.2.0)\r\n",
      "Requirement already satisfied: intel-cmplr-lib-rt in /usr/local/lib/python3.10/dist-packages (from mkl_umath->numpy>=1.19.5->scikit-learn) (2024.2.0)\r\n",
      "Requirement already satisfied: intel-cmplr-lib-ur==2024.2.0 in /usr/local/lib/python3.10/dist-packages (from intel-openmp>=2024->mkl->numpy>=1.19.5->scikit-learn) (2024.2.0)\r\n",
      "Downloading scikit_learn-1.6.1-cp310-cp310-manylinux_2_17_x86_64.manylinux2014_x86_64.whl (13.5 MB)\r\n",
      "\u001b[2K   \u001b[90m━━━━━━━━━━━━━━━━━━━━━━━━━━━━━━━━━━━━━━━━\u001b[0m \u001b[32m13.5/13.5 MB\u001b[0m \u001b[31m81.4 MB/s\u001b[0m eta \u001b[36m0:00:00\u001b[0m\r\n",
      "\u001b[?25hInstalling collected packages: scikit-learn\r\n",
      "  Attempting uninstall: scikit-learn\r\n",
      "    Found existing installation: scikit-learn 1.2.2\r\n",
      "    Uninstalling scikit-learn-1.2.2:\r\n",
      "      Successfully uninstalled scikit-learn-1.2.2\r\n",
      "\u001b[31mERROR: pip's dependency resolver does not currently take into account all the packages that are installed. This behaviour is the source of the following dependency conflicts.\r\n",
      "category-encoders 2.7.0 requires scikit-learn<1.6.0,>=1.0.0, but you have scikit-learn 1.6.1 which is incompatible.\u001b[0m\u001b[31m\r\n",
      "\u001b[0mSuccessfully installed scikit-learn-1.6.1\r\n",
      "Note: you may need to restart the kernel to use updated packages.\n"
     ]
    }
   ],
   "source": [
    "pip install -U scikit-learn"
   ]
  },
  {
   "cell_type": "code",
   "execution_count": 2,
   "id": "4f3fee3b",
   "metadata": {
    "execution": {
     "iopub.execute_input": "2025-04-08T17:01:40.022923Z",
     "iopub.status.busy": "2025-04-08T17:01:40.022534Z",
     "iopub.status.idle": "2025-04-08T17:01:42.530457Z",
     "shell.execute_reply": "2025-04-08T17:01:42.529341Z"
    },
    "papermill": {
     "duration": 2.521863,
     "end_time": "2025-04-08T17:01:42.532330",
     "exception": false,
     "start_time": "2025-04-08T17:01:40.010467",
     "status": "completed"
    },
    "tags": []
   },
   "outputs": [],
   "source": [
    "import pandas as pd\n",
    "import numpy as np\n",
    "import matplotlib.pyplot as plt\n",
    "import seaborn as sns"
   ]
  },
  {
   "cell_type": "code",
   "execution_count": 3,
   "id": "e2f4a90b",
   "metadata": {
    "execution": {
     "iopub.execute_input": "2025-04-08T17:01:42.555192Z",
     "iopub.status.busy": "2025-04-08T17:01:42.554573Z",
     "iopub.status.idle": "2025-04-08T17:01:42.573962Z",
     "shell.execute_reply": "2025-04-08T17:01:42.572931Z"
    },
    "papermill": {
     "duration": 0.032751,
     "end_time": "2025-04-08T17:01:42.575860",
     "exception": false,
     "start_time": "2025-04-08T17:01:42.543109",
     "status": "completed"
    },
    "tags": []
   },
   "outputs": [],
   "source": [
    "df = pd.read_csv('/kaggle/input/diabetes-missing-data/Diabetes Missing Data.csv')"
   ]
  },
  {
   "cell_type": "code",
   "execution_count": 4,
   "id": "ea2e63dd",
   "metadata": {
    "execution": {
     "iopub.execute_input": "2025-04-08T17:01:42.598947Z",
     "iopub.status.busy": "2025-04-08T17:01:42.598525Z",
     "iopub.status.idle": "2025-04-08T17:01:42.628531Z",
     "shell.execute_reply": "2025-04-08T17:01:42.627394Z"
    },
    "papermill": {
     "duration": 0.043488,
     "end_time": "2025-04-08T17:01:42.630396",
     "exception": false,
     "start_time": "2025-04-08T17:01:42.586908",
     "status": "completed"
    },
    "tags": []
   },
   "outputs": [
    {
     "name": "stdout",
     "output_type": "stream",
     "text": [
      "<class 'pandas.core.frame.DataFrame'>\n",
      "RangeIndex: 768 entries, 0 to 767\n",
      "Data columns (total 9 columns):\n",
      " #   Column             Non-Null Count  Dtype  \n",
      "---  ------             --------------  -----  \n",
      " 0   Pregnant           768 non-null    int64  \n",
      " 1   Glucose            763 non-null    float64\n",
      " 2   Diastolic_BP       733 non-null    float64\n",
      " 3   Skin_Fold          541 non-null    float64\n",
      " 4   Serum_Insulin      394 non-null    float64\n",
      " 5   BMI                757 non-null    float64\n",
      " 6   Diabetes_Pedigree  768 non-null    float64\n",
      " 7   Age                768 non-null    int64  \n",
      " 8   Class              768 non-null    int64  \n",
      "dtypes: float64(6), int64(3)\n",
      "memory usage: 54.1 KB\n"
     ]
    }
   ],
   "source": [
    "df.info()"
   ]
  },
  {
   "cell_type": "code",
   "execution_count": 5,
   "id": "c46a7ab6",
   "metadata": {
    "execution": {
     "iopub.execute_input": "2025-04-08T17:01:42.653230Z",
     "iopub.status.busy": "2025-04-08T17:01:42.652874Z",
     "iopub.status.idle": "2025-04-08T17:01:42.661184Z",
     "shell.execute_reply": "2025-04-08T17:01:42.660191Z"
    },
    "papermill": {
     "duration": 0.021562,
     "end_time": "2025-04-08T17:01:42.662813",
     "exception": false,
     "start_time": "2025-04-08T17:01:42.641251",
     "status": "completed"
    },
    "tags": []
   },
   "outputs": [
    {
     "data": {
      "text/plain": [
       "Pregnant               0\n",
       "Glucose                5\n",
       "Diastolic_BP          35\n",
       "Skin_Fold            227\n",
       "Serum_Insulin        374\n",
       "BMI                   11\n",
       "Diabetes_Pedigree      0\n",
       "Age                    0\n",
       "Class                  0\n",
       "dtype: int64"
      ]
     },
     "execution_count": 5,
     "metadata": {},
     "output_type": "execute_result"
    }
   ],
   "source": [
    "df.isnull().sum()"
   ]
  },
  {
   "cell_type": "markdown",
   "id": "90dbde48",
   "metadata": {
    "papermill": {
     "duration": 0.010469,
     "end_time": "2025-04-08T17:01:42.684161",
     "exception": false,
     "start_time": "2025-04-08T17:01:42.673692",
     "status": "completed"
    },
    "tags": []
   },
   "source": [
    "# Importing sklearn"
   ]
  },
  {
   "cell_type": "markdown",
   "id": "355f6324",
   "metadata": {
    "papermill": {
     "duration": 0.010319,
     "end_time": "2025-04-08T17:01:42.705251",
     "exception": false,
     "start_time": "2025-04-08T17:01:42.694932",
     "status": "completed"
    },
    "tags": []
   },
   "source": [
    "**StandardScaler means Standardization**<br>\n",
    "**MinMaxScaler means Normalization**<br>\n",
    "\n",
    "**This are Feature Scaling Techniques used inorder to have unbiased ML Model & it is also used as a part of cleaning process**"
   ]
  },
  {
   "cell_type": "code",
   "execution_count": 6,
   "id": "aee5779f",
   "metadata": {
    "execution": {
     "iopub.execute_input": "2025-04-08T17:01:42.727706Z",
     "iopub.status.busy": "2025-04-08T17:01:42.727364Z",
     "iopub.status.idle": "2025-04-08T17:01:42.830885Z",
     "shell.execute_reply": "2025-04-08T17:01:42.829805Z"
    },
    "papermill": {
     "duration": 0.117281,
     "end_time": "2025-04-08T17:01:42.833129",
     "exception": false,
     "start_time": "2025-04-08T17:01:42.715848",
     "status": "completed"
    },
    "tags": []
   },
   "outputs": [],
   "source": [
    "from sklearn.preprocessing import StandardScaler\n",
    "from sklearn.preprocessing import MinMaxScaler"
   ]
  },
  {
   "cell_type": "markdown",
   "id": "27852201",
   "metadata": {
    "papermill": {
     "duration": 0.010716,
     "end_time": "2025-04-08T17:01:42.855089",
     "exception": false,
     "start_time": "2025-04-08T17:01:42.844373",
     "status": "completed"
    },
    "tags": []
   },
   "source": [
    "What is Normalization?<br>\n",
    "Normalization is a scaling technique in which values are shifted and rescaled so that they end up ranging between 0 and 1. It is also know as Min-Max scaling"
   ]
  },
  {
   "cell_type": "markdown",
   "id": "b2193061",
   "metadata": {
    "papermill": {
     "duration": 0.010427,
     "end_time": "2025-04-08T17:01:42.876280",
     "exception": false,
     "start_time": "2025-04-08T17:01:42.865853",
     "status": "completed"
    },
    "tags": []
   },
   "source": [
    "What is Standardization?<br>\n",
    "Standardization is another scaling technique where the values are centered around the mean with a unit standard deviation. This means that the mean of the attribute becomes zero and the resultant distribution has a unit standard deviation."
   ]
  },
  {
   "cell_type": "code",
   "execution_count": 7,
   "id": "dc058e66",
   "metadata": {
    "execution": {
     "iopub.execute_input": "2025-04-08T17:01:42.899369Z",
     "iopub.status.busy": "2025-04-08T17:01:42.898844Z",
     "iopub.status.idle": "2025-04-08T17:01:42.905061Z",
     "shell.execute_reply": "2025-04-08T17:01:42.904116Z"
    },
    "papermill": {
     "duration": 0.019844,
     "end_time": "2025-04-08T17:01:42.906873",
     "exception": false,
     "start_time": "2025-04-08T17:01:42.887029",
     "status": "completed"
    },
    "tags": []
   },
   "outputs": [
    {
     "data": {
      "text/plain": [
       "155.5482233502538"
      ]
     },
     "execution_count": 7,
     "metadata": {},
     "output_type": "execute_result"
    }
   ],
   "source": [
    "df['Serum_Insulin'].mean()"
   ]
  },
  {
   "cell_type": "code",
   "execution_count": 8,
   "id": "668d8be2",
   "metadata": {
    "execution": {
     "iopub.execute_input": "2025-04-08T17:01:42.930128Z",
     "iopub.status.busy": "2025-04-08T17:01:42.929707Z",
     "iopub.status.idle": "2025-04-08T17:01:42.957514Z",
     "shell.execute_reply": "2025-04-08T17:01:42.956262Z"
    },
    "papermill": {
     "duration": 0.041387,
     "end_time": "2025-04-08T17:01:42.959496",
     "exception": false,
     "start_time": "2025-04-08T17:01:42.918109",
     "status": "completed"
    },
    "tags": []
   },
   "outputs": [
    {
     "name": "stderr",
     "output_type": "stream",
     "text": [
      "/usr/local/lib/python3.10/dist-packages/pandas/io/formats/format.py:1458: RuntimeWarning: invalid value encountered in greater\n",
      "  has_large_values = (abs_vals > 1e6).any()\n",
      "/usr/local/lib/python3.10/dist-packages/pandas/io/formats/format.py:1459: RuntimeWarning: invalid value encountered in less\n",
      "  has_small_values = ((abs_vals < 10 ** (-self.digits)) & (abs_vals > 0)).any()\n",
      "/usr/local/lib/python3.10/dist-packages/pandas/io/formats/format.py:1459: RuntimeWarning: invalid value encountered in greater\n",
      "  has_small_values = ((abs_vals < 10 ** (-self.digits)) & (abs_vals > 0)).any()\n"
     ]
    },
    {
     "data": {
      "text/html": [
       "<div>\n",
       "<style scoped>\n",
       "    .dataframe tbody tr th:only-of-type {\n",
       "        vertical-align: middle;\n",
       "    }\n",
       "\n",
       "    .dataframe tbody tr th {\n",
       "        vertical-align: top;\n",
       "    }\n",
       "\n",
       "    .dataframe thead th {\n",
       "        text-align: right;\n",
       "    }\n",
       "</style>\n",
       "<table border=\"1\" class=\"dataframe\">\n",
       "  <thead>\n",
       "    <tr style=\"text-align: right;\">\n",
       "      <th></th>\n",
       "      <th>Pregnant</th>\n",
       "      <th>Glucose</th>\n",
       "      <th>Diastolic_BP</th>\n",
       "      <th>Skin_Fold</th>\n",
       "      <th>Serum_Insulin</th>\n",
       "      <th>BMI</th>\n",
       "      <th>Diabetes_Pedigree</th>\n",
       "      <th>Age</th>\n",
       "      <th>Class</th>\n",
       "    </tr>\n",
       "  </thead>\n",
       "  <tbody>\n",
       "    <tr>\n",
       "      <th>0</th>\n",
       "      <td>6</td>\n",
       "      <td>148.0</td>\n",
       "      <td>72.0</td>\n",
       "      <td>35.0</td>\n",
       "      <td>NaN</td>\n",
       "      <td>33.6</td>\n",
       "      <td>0.627</td>\n",
       "      <td>50</td>\n",
       "      <td>1</td>\n",
       "    </tr>\n",
       "    <tr>\n",
       "      <th>1</th>\n",
       "      <td>1</td>\n",
       "      <td>85.0</td>\n",
       "      <td>66.0</td>\n",
       "      <td>29.0</td>\n",
       "      <td>NaN</td>\n",
       "      <td>26.6</td>\n",
       "      <td>0.351</td>\n",
       "      <td>31</td>\n",
       "      <td>0</td>\n",
       "    </tr>\n",
       "    <tr>\n",
       "      <th>2</th>\n",
       "      <td>8</td>\n",
       "      <td>183.0</td>\n",
       "      <td>64.0</td>\n",
       "      <td>NaN</td>\n",
       "      <td>NaN</td>\n",
       "      <td>23.3</td>\n",
       "      <td>0.672</td>\n",
       "      <td>32</td>\n",
       "      <td>1</td>\n",
       "    </tr>\n",
       "    <tr>\n",
       "      <th>3</th>\n",
       "      <td>1</td>\n",
       "      <td>89.0</td>\n",
       "      <td>66.0</td>\n",
       "      <td>23.0</td>\n",
       "      <td>94.0</td>\n",
       "      <td>28.1</td>\n",
       "      <td>0.167</td>\n",
       "      <td>21</td>\n",
       "      <td>0</td>\n",
       "    </tr>\n",
       "    <tr>\n",
       "      <th>4</th>\n",
       "      <td>0</td>\n",
       "      <td>137.0</td>\n",
       "      <td>40.0</td>\n",
       "      <td>35.0</td>\n",
       "      <td>168.0</td>\n",
       "      <td>43.1</td>\n",
       "      <td>2.288</td>\n",
       "      <td>33</td>\n",
       "      <td>1</td>\n",
       "    </tr>\n",
       "  </tbody>\n",
       "</table>\n",
       "</div>"
      ],
      "text/plain": [
       "   Pregnant  Glucose  Diastolic_BP  Skin_Fold  Serum_Insulin   BMI  \\\n",
       "0         6    148.0          72.0       35.0            NaN  33.6   \n",
       "1         1     85.0          66.0       29.0            NaN  26.6   \n",
       "2         8    183.0          64.0        NaN            NaN  23.3   \n",
       "3         1     89.0          66.0       23.0           94.0  28.1   \n",
       "4         0    137.0          40.0       35.0          168.0  43.1   \n",
       "\n",
       "   Diabetes_Pedigree  Age  Class  \n",
       "0              0.627   50      1  \n",
       "1              0.351   31      0  \n",
       "2              0.672   32      1  \n",
       "3              0.167   21      0  \n",
       "4              2.288   33      1  "
      ]
     },
     "execution_count": 8,
     "metadata": {},
     "output_type": "execute_result"
    }
   ],
   "source": [
    "df.head()"
   ]
  },
  {
   "cell_type": "code",
   "execution_count": 9,
   "id": "f5364b89",
   "metadata": {
    "execution": {
     "iopub.execute_input": "2025-04-08T17:01:42.983243Z",
     "iopub.status.busy": "2025-04-08T17:01:42.982887Z",
     "iopub.status.idle": "2025-04-08T17:01:42.988842Z",
     "shell.execute_reply": "2025-04-08T17:01:42.987834Z"
    },
    "papermill": {
     "duration": 0.019537,
     "end_time": "2025-04-08T17:01:42.990480",
     "exception": false,
     "start_time": "2025-04-08T17:01:42.970943",
     "status": "completed"
    },
    "tags": []
   },
   "outputs": [
    {
     "data": {
      "text/plain": [
       "125.0"
      ]
     },
     "execution_count": 9,
     "metadata": {},
     "output_type": "execute_result"
    }
   ],
   "source": [
    "df['Serum_Insulin'].median()"
   ]
  },
  {
   "cell_type": "code",
   "execution_count": 10,
   "id": "2df4cb08",
   "metadata": {
    "execution": {
     "iopub.execute_input": "2025-04-08T17:01:43.014392Z",
     "iopub.status.busy": "2025-04-08T17:01:43.014020Z",
     "iopub.status.idle": "2025-04-08T17:01:43.019683Z",
     "shell.execute_reply": "2025-04-08T17:01:43.018607Z"
    },
    "papermill": {
     "duration": 0.019505,
     "end_time": "2025-04-08T17:01:43.021437",
     "exception": false,
     "start_time": "2025-04-08T17:01:43.001932",
     "status": "completed"
    },
    "tags": []
   },
   "outputs": [],
   "source": [
    "df['Serum_Insulin'] = df['Serum_Insulin'].fillna(df['Serum_Insulin'].median())"
   ]
  },
  {
   "cell_type": "code",
   "execution_count": 11,
   "id": "982ac32c",
   "metadata": {
    "execution": {
     "iopub.execute_input": "2025-04-08T17:01:43.045516Z",
     "iopub.status.busy": "2025-04-08T17:01:43.045143Z",
     "iopub.status.idle": "2025-04-08T17:01:43.059986Z",
     "shell.execute_reply": "2025-04-08T17:01:43.058836Z"
    },
    "papermill": {
     "duration": 0.028618,
     "end_time": "2025-04-08T17:01:43.061605",
     "exception": false,
     "start_time": "2025-04-08T17:01:43.032987",
     "status": "completed"
    },
    "tags": []
   },
   "outputs": [
    {
     "name": "stderr",
     "output_type": "stream",
     "text": [
      "/usr/local/lib/python3.10/dist-packages/pandas/io/formats/format.py:1458: RuntimeWarning: invalid value encountered in greater\n",
      "  has_large_values = (abs_vals > 1e6).any()\n",
      "/usr/local/lib/python3.10/dist-packages/pandas/io/formats/format.py:1459: RuntimeWarning: invalid value encountered in less\n",
      "  has_small_values = ((abs_vals < 10 ** (-self.digits)) & (abs_vals > 0)).any()\n",
      "/usr/local/lib/python3.10/dist-packages/pandas/io/formats/format.py:1459: RuntimeWarning: invalid value encountered in greater\n",
      "  has_small_values = ((abs_vals < 10 ** (-self.digits)) & (abs_vals > 0)).any()\n"
     ]
    },
    {
     "data": {
      "text/html": [
       "<div>\n",
       "<style scoped>\n",
       "    .dataframe tbody tr th:only-of-type {\n",
       "        vertical-align: middle;\n",
       "    }\n",
       "\n",
       "    .dataframe tbody tr th {\n",
       "        vertical-align: top;\n",
       "    }\n",
       "\n",
       "    .dataframe thead th {\n",
       "        text-align: right;\n",
       "    }\n",
       "</style>\n",
       "<table border=\"1\" class=\"dataframe\">\n",
       "  <thead>\n",
       "    <tr style=\"text-align: right;\">\n",
       "      <th></th>\n",
       "      <th>Pregnant</th>\n",
       "      <th>Glucose</th>\n",
       "      <th>Diastolic_BP</th>\n",
       "      <th>Skin_Fold</th>\n",
       "      <th>Serum_Insulin</th>\n",
       "      <th>BMI</th>\n",
       "      <th>Diabetes_Pedigree</th>\n",
       "      <th>Age</th>\n",
       "      <th>Class</th>\n",
       "    </tr>\n",
       "  </thead>\n",
       "  <tbody>\n",
       "    <tr>\n",
       "      <th>0</th>\n",
       "      <td>6</td>\n",
       "      <td>148.0</td>\n",
       "      <td>72.0</td>\n",
       "      <td>35.0</td>\n",
       "      <td>125.0</td>\n",
       "      <td>33.6</td>\n",
       "      <td>0.627</td>\n",
       "      <td>50</td>\n",
       "      <td>1</td>\n",
       "    </tr>\n",
       "    <tr>\n",
       "      <th>1</th>\n",
       "      <td>1</td>\n",
       "      <td>85.0</td>\n",
       "      <td>66.0</td>\n",
       "      <td>29.0</td>\n",
       "      <td>125.0</td>\n",
       "      <td>26.6</td>\n",
       "      <td>0.351</td>\n",
       "      <td>31</td>\n",
       "      <td>0</td>\n",
       "    </tr>\n",
       "    <tr>\n",
       "      <th>2</th>\n",
       "      <td>8</td>\n",
       "      <td>183.0</td>\n",
       "      <td>64.0</td>\n",
       "      <td>NaN</td>\n",
       "      <td>125.0</td>\n",
       "      <td>23.3</td>\n",
       "      <td>0.672</td>\n",
       "      <td>32</td>\n",
       "      <td>1</td>\n",
       "    </tr>\n",
       "    <tr>\n",
       "      <th>3</th>\n",
       "      <td>1</td>\n",
       "      <td>89.0</td>\n",
       "      <td>66.0</td>\n",
       "      <td>23.0</td>\n",
       "      <td>94.0</td>\n",
       "      <td>28.1</td>\n",
       "      <td>0.167</td>\n",
       "      <td>21</td>\n",
       "      <td>0</td>\n",
       "    </tr>\n",
       "    <tr>\n",
       "      <th>4</th>\n",
       "      <td>0</td>\n",
       "      <td>137.0</td>\n",
       "      <td>40.0</td>\n",
       "      <td>35.0</td>\n",
       "      <td>168.0</td>\n",
       "      <td>43.1</td>\n",
       "      <td>2.288</td>\n",
       "      <td>33</td>\n",
       "      <td>1</td>\n",
       "    </tr>\n",
       "  </tbody>\n",
       "</table>\n",
       "</div>"
      ],
      "text/plain": [
       "   Pregnant  Glucose  Diastolic_BP  Skin_Fold  Serum_Insulin   BMI  \\\n",
       "0         6    148.0          72.0       35.0          125.0  33.6   \n",
       "1         1     85.0          66.0       29.0          125.0  26.6   \n",
       "2         8    183.0          64.0        NaN          125.0  23.3   \n",
       "3         1     89.0          66.0       23.0           94.0  28.1   \n",
       "4         0    137.0          40.0       35.0          168.0  43.1   \n",
       "\n",
       "   Diabetes_Pedigree  Age  Class  \n",
       "0              0.627   50      1  \n",
       "1              0.351   31      0  \n",
       "2              0.672   32      1  \n",
       "3              0.167   21      0  \n",
       "4              2.288   33      1  "
      ]
     },
     "execution_count": 11,
     "metadata": {},
     "output_type": "execute_result"
    }
   ],
   "source": [
    "df.head()"
   ]
  },
  {
   "cell_type": "code",
   "execution_count": 12,
   "id": "3f371405",
   "metadata": {
    "execution": {
     "iopub.execute_input": "2025-04-08T17:01:43.086138Z",
     "iopub.status.busy": "2025-04-08T17:01:43.085679Z",
     "iopub.status.idle": "2025-04-08T17:01:43.092231Z",
     "shell.execute_reply": "2025-04-08T17:01:43.091218Z"
    },
    "papermill": {
     "duration": 0.020594,
     "end_time": "2025-04-08T17:01:43.093963",
     "exception": false,
     "start_time": "2025-04-08T17:01:43.073369",
     "status": "completed"
    },
    "tags": []
   },
   "outputs": [
    {
     "data": {
      "text/plain": [
       "29.153419593345657"
      ]
     },
     "execution_count": 12,
     "metadata": {},
     "output_type": "execute_result"
    }
   ],
   "source": [
    "df['Skin_Fold'].mean()"
   ]
  },
  {
   "cell_type": "code",
   "execution_count": 13,
   "id": "2d701e83",
   "metadata": {
    "execution": {
     "iopub.execute_input": "2025-04-08T17:01:43.118524Z",
     "iopub.status.busy": "2025-04-08T17:01:43.118142Z",
     "iopub.status.idle": "2025-04-08T17:01:43.124077Z",
     "shell.execute_reply": "2025-04-08T17:01:43.123043Z"
    },
    "papermill": {
     "duration": 0.020151,
     "end_time": "2025-04-08T17:01:43.125765",
     "exception": false,
     "start_time": "2025-04-08T17:01:43.105614",
     "status": "completed"
    },
    "tags": []
   },
   "outputs": [
    {
     "data": {
      "text/plain": [
       "29.0"
      ]
     },
     "execution_count": 13,
     "metadata": {},
     "output_type": "execute_result"
    }
   ],
   "source": [
    "df['Skin_Fold'].median()"
   ]
  },
  {
   "cell_type": "code",
   "execution_count": 14,
   "id": "a09ba2ca",
   "metadata": {
    "execution": {
     "iopub.execute_input": "2025-04-08T17:01:43.150870Z",
     "iopub.status.busy": "2025-04-08T17:01:43.150441Z",
     "iopub.status.idle": "2025-04-08T17:01:43.155763Z",
     "shell.execute_reply": "2025-04-08T17:01:43.154867Z"
    },
    "papermill": {
     "duration": 0.019846,
     "end_time": "2025-04-08T17:01:43.157427",
     "exception": false,
     "start_time": "2025-04-08T17:01:43.137581",
     "status": "completed"
    },
    "tags": []
   },
   "outputs": [],
   "source": [
    "df['Skin_Fold'] = df['Skin_Fold'].fillna(df['Skin_Fold'].median())"
   ]
  },
  {
   "cell_type": "code",
   "execution_count": 15,
   "id": "c520f102",
   "metadata": {
    "execution": {
     "iopub.execute_input": "2025-04-08T17:01:43.182427Z",
     "iopub.status.busy": "2025-04-08T17:01:43.182066Z",
     "iopub.status.idle": "2025-04-08T17:01:43.195502Z",
     "shell.execute_reply": "2025-04-08T17:01:43.194477Z"
    },
    "papermill": {
     "duration": 0.027853,
     "end_time": "2025-04-08T17:01:43.197124",
     "exception": false,
     "start_time": "2025-04-08T17:01:43.169271",
     "status": "completed"
    },
    "tags": []
   },
   "outputs": [
    {
     "data": {
      "text/html": [
       "<div>\n",
       "<style scoped>\n",
       "    .dataframe tbody tr th:only-of-type {\n",
       "        vertical-align: middle;\n",
       "    }\n",
       "\n",
       "    .dataframe tbody tr th {\n",
       "        vertical-align: top;\n",
       "    }\n",
       "\n",
       "    .dataframe thead th {\n",
       "        text-align: right;\n",
       "    }\n",
       "</style>\n",
       "<table border=\"1\" class=\"dataframe\">\n",
       "  <thead>\n",
       "    <tr style=\"text-align: right;\">\n",
       "      <th></th>\n",
       "      <th>Pregnant</th>\n",
       "      <th>Glucose</th>\n",
       "      <th>Diastolic_BP</th>\n",
       "      <th>Skin_Fold</th>\n",
       "      <th>Serum_Insulin</th>\n",
       "      <th>BMI</th>\n",
       "      <th>Diabetes_Pedigree</th>\n",
       "      <th>Age</th>\n",
       "      <th>Class</th>\n",
       "    </tr>\n",
       "  </thead>\n",
       "  <tbody>\n",
       "    <tr>\n",
       "      <th>0</th>\n",
       "      <td>6</td>\n",
       "      <td>148.0</td>\n",
       "      <td>72.0</td>\n",
       "      <td>35.0</td>\n",
       "      <td>125.0</td>\n",
       "      <td>33.6</td>\n",
       "      <td>0.627</td>\n",
       "      <td>50</td>\n",
       "      <td>1</td>\n",
       "    </tr>\n",
       "    <tr>\n",
       "      <th>1</th>\n",
       "      <td>1</td>\n",
       "      <td>85.0</td>\n",
       "      <td>66.0</td>\n",
       "      <td>29.0</td>\n",
       "      <td>125.0</td>\n",
       "      <td>26.6</td>\n",
       "      <td>0.351</td>\n",
       "      <td>31</td>\n",
       "      <td>0</td>\n",
       "    </tr>\n",
       "    <tr>\n",
       "      <th>2</th>\n",
       "      <td>8</td>\n",
       "      <td>183.0</td>\n",
       "      <td>64.0</td>\n",
       "      <td>29.0</td>\n",
       "      <td>125.0</td>\n",
       "      <td>23.3</td>\n",
       "      <td>0.672</td>\n",
       "      <td>32</td>\n",
       "      <td>1</td>\n",
       "    </tr>\n",
       "    <tr>\n",
       "      <th>3</th>\n",
       "      <td>1</td>\n",
       "      <td>89.0</td>\n",
       "      <td>66.0</td>\n",
       "      <td>23.0</td>\n",
       "      <td>94.0</td>\n",
       "      <td>28.1</td>\n",
       "      <td>0.167</td>\n",
       "      <td>21</td>\n",
       "      <td>0</td>\n",
       "    </tr>\n",
       "    <tr>\n",
       "      <th>4</th>\n",
       "      <td>0</td>\n",
       "      <td>137.0</td>\n",
       "      <td>40.0</td>\n",
       "      <td>35.0</td>\n",
       "      <td>168.0</td>\n",
       "      <td>43.1</td>\n",
       "      <td>2.288</td>\n",
       "      <td>33</td>\n",
       "      <td>1</td>\n",
       "    </tr>\n",
       "  </tbody>\n",
       "</table>\n",
       "</div>"
      ],
      "text/plain": [
       "   Pregnant  Glucose  Diastolic_BP  Skin_Fold  Serum_Insulin   BMI  \\\n",
       "0         6    148.0          72.0       35.0          125.0  33.6   \n",
       "1         1     85.0          66.0       29.0          125.0  26.6   \n",
       "2         8    183.0          64.0       29.0          125.0  23.3   \n",
       "3         1     89.0          66.0       23.0           94.0  28.1   \n",
       "4         0    137.0          40.0       35.0          168.0  43.1   \n",
       "\n",
       "   Diabetes_Pedigree  Age  Class  \n",
       "0              0.627   50      1  \n",
       "1              0.351   31      0  \n",
       "2              0.672   32      1  \n",
       "3              0.167   21      0  \n",
       "4              2.288   33      1  "
      ]
     },
     "execution_count": 15,
     "metadata": {},
     "output_type": "execute_result"
    }
   ],
   "source": [
    "df.head()"
   ]
  },
  {
   "cell_type": "code",
   "execution_count": 16,
   "id": "67a702f3",
   "metadata": {
    "execution": {
     "iopub.execute_input": "2025-04-08T17:01:43.222286Z",
     "iopub.status.busy": "2025-04-08T17:01:43.221932Z",
     "iopub.status.idle": "2025-04-08T17:01:43.233010Z",
     "shell.execute_reply": "2025-04-08T17:01:43.231817Z"
    },
    "papermill": {
     "duration": 0.025597,
     "end_time": "2025-04-08T17:01:43.234740",
     "exception": false,
     "start_time": "2025-04-08T17:01:43.209143",
     "status": "completed"
    },
    "tags": []
   },
   "outputs": [
    {
     "name": "stdout",
     "output_type": "stream",
     "text": [
      "<class 'pandas.core.frame.DataFrame'>\n",
      "RangeIndex: 768 entries, 0 to 767\n",
      "Data columns (total 9 columns):\n",
      " #   Column             Non-Null Count  Dtype  \n",
      "---  ------             --------------  -----  \n",
      " 0   Pregnant           768 non-null    int64  \n",
      " 1   Glucose            763 non-null    float64\n",
      " 2   Diastolic_BP       733 non-null    float64\n",
      " 3   Skin_Fold          768 non-null    float64\n",
      " 4   Serum_Insulin      768 non-null    float64\n",
      " 5   BMI                757 non-null    float64\n",
      " 6   Diabetes_Pedigree  768 non-null    float64\n",
      " 7   Age                768 non-null    int64  \n",
      " 8   Class              768 non-null    int64  \n",
      "dtypes: float64(6), int64(3)\n",
      "memory usage: 54.1 KB\n"
     ]
    }
   ],
   "source": [
    "df.info()"
   ]
  },
  {
   "cell_type": "code",
   "execution_count": 17,
   "id": "7b4bb9f7",
   "metadata": {
    "execution": {
     "iopub.execute_input": "2025-04-08T17:01:43.259823Z",
     "iopub.status.busy": "2025-04-08T17:01:43.259429Z",
     "iopub.status.idle": "2025-04-08T17:01:43.273028Z",
     "shell.execute_reply": "2025-04-08T17:01:43.272129Z"
    },
    "papermill": {
     "duration": 0.027874,
     "end_time": "2025-04-08T17:01:43.274644",
     "exception": false,
     "start_time": "2025-04-08T17:01:43.246770",
     "status": "completed"
    },
    "tags": []
   },
   "outputs": [
    {
     "data": {
      "text/html": [
       "<div>\n",
       "<style scoped>\n",
       "    .dataframe tbody tr th:only-of-type {\n",
       "        vertical-align: middle;\n",
       "    }\n",
       "\n",
       "    .dataframe tbody tr th {\n",
       "        vertical-align: top;\n",
       "    }\n",
       "\n",
       "    .dataframe thead th {\n",
       "        text-align: right;\n",
       "    }\n",
       "</style>\n",
       "<table border=\"1\" class=\"dataframe\">\n",
       "  <thead>\n",
       "    <tr style=\"text-align: right;\">\n",
       "      <th></th>\n",
       "      <th>Pregnant</th>\n",
       "      <th>Glucose</th>\n",
       "      <th>Diastolic_BP</th>\n",
       "      <th>Skin_Fold</th>\n",
       "      <th>Serum_Insulin</th>\n",
       "      <th>BMI</th>\n",
       "      <th>Diabetes_Pedigree</th>\n",
       "      <th>Age</th>\n",
       "      <th>Class</th>\n",
       "    </tr>\n",
       "  </thead>\n",
       "  <tbody>\n",
       "    <tr>\n",
       "      <th>763</th>\n",
       "      <td>10</td>\n",
       "      <td>101.0</td>\n",
       "      <td>76.0</td>\n",
       "      <td>48.0</td>\n",
       "      <td>180.0</td>\n",
       "      <td>32.9</td>\n",
       "      <td>0.171</td>\n",
       "      <td>63</td>\n",
       "      <td>0</td>\n",
       "    </tr>\n",
       "    <tr>\n",
       "      <th>764</th>\n",
       "      <td>2</td>\n",
       "      <td>122.0</td>\n",
       "      <td>70.0</td>\n",
       "      <td>27.0</td>\n",
       "      <td>125.0</td>\n",
       "      <td>36.8</td>\n",
       "      <td>0.340</td>\n",
       "      <td>27</td>\n",
       "      <td>0</td>\n",
       "    </tr>\n",
       "    <tr>\n",
       "      <th>765</th>\n",
       "      <td>5</td>\n",
       "      <td>121.0</td>\n",
       "      <td>72.0</td>\n",
       "      <td>23.0</td>\n",
       "      <td>112.0</td>\n",
       "      <td>26.2</td>\n",
       "      <td>0.245</td>\n",
       "      <td>30</td>\n",
       "      <td>0</td>\n",
       "    </tr>\n",
       "    <tr>\n",
       "      <th>766</th>\n",
       "      <td>1</td>\n",
       "      <td>126.0</td>\n",
       "      <td>60.0</td>\n",
       "      <td>29.0</td>\n",
       "      <td>125.0</td>\n",
       "      <td>30.1</td>\n",
       "      <td>0.349</td>\n",
       "      <td>47</td>\n",
       "      <td>1</td>\n",
       "    </tr>\n",
       "    <tr>\n",
       "      <th>767</th>\n",
       "      <td>1</td>\n",
       "      <td>93.0</td>\n",
       "      <td>70.0</td>\n",
       "      <td>31.0</td>\n",
       "      <td>125.0</td>\n",
       "      <td>30.4</td>\n",
       "      <td>0.315</td>\n",
       "      <td>23</td>\n",
       "      <td>0</td>\n",
       "    </tr>\n",
       "  </tbody>\n",
       "</table>\n",
       "</div>"
      ],
      "text/plain": [
       "     Pregnant  Glucose  Diastolic_BP  Skin_Fold  Serum_Insulin   BMI  \\\n",
       "763        10    101.0          76.0       48.0          180.0  32.9   \n",
       "764         2    122.0          70.0       27.0          125.0  36.8   \n",
       "765         5    121.0          72.0       23.0          112.0  26.2   \n",
       "766         1    126.0          60.0       29.0          125.0  30.1   \n",
       "767         1     93.0          70.0       31.0          125.0  30.4   \n",
       "\n",
       "     Diabetes_Pedigree  Age  Class  \n",
       "763              0.171   63      0  \n",
       "764              0.340   27      0  \n",
       "765              0.245   30      0  \n",
       "766              0.349   47      1  \n",
       "767              0.315   23      0  "
      ]
     },
     "execution_count": 17,
     "metadata": {},
     "output_type": "execute_result"
    }
   ],
   "source": [
    "df.tail()"
   ]
  },
  {
   "cell_type": "code",
   "execution_count": 18,
   "id": "4fde3fce",
   "metadata": {
    "execution": {
     "iopub.execute_input": "2025-04-08T17:01:43.300841Z",
     "iopub.status.busy": "2025-04-08T17:01:43.300458Z",
     "iopub.status.idle": "2025-04-08T17:01:43.306121Z",
     "shell.execute_reply": "2025-04-08T17:01:43.305254Z"
    },
    "papermill": {
     "duration": 0.020286,
     "end_time": "2025-04-08T17:01:43.307585",
     "exception": false,
     "start_time": "2025-04-08T17:01:43.287299",
     "status": "completed"
    },
    "tags": []
   },
   "outputs": [
    {
     "data": {
      "text/plain": [
       "Index(['Pregnant', 'Glucose', 'Diastolic_BP', 'Skin_Fold', 'Serum_Insulin',\n",
       "       'BMI', 'Diabetes_Pedigree', 'Age', 'Class'],\n",
       "      dtype='object')"
      ]
     },
     "execution_count": 18,
     "metadata": {},
     "output_type": "execute_result"
    }
   ],
   "source": [
    "df.columns"
   ]
  },
  {
   "cell_type": "code",
   "execution_count": 19,
   "id": "b3fc5a0c",
   "metadata": {
    "execution": {
     "iopub.execute_input": "2025-04-08T17:01:43.333819Z",
     "iopub.status.busy": "2025-04-08T17:01:43.333444Z",
     "iopub.status.idle": "2025-04-08T17:01:43.339312Z",
     "shell.execute_reply": "2025-04-08T17:01:43.338337Z"
    },
    "papermill": {
     "duration": 0.020613,
     "end_time": "2025-04-08T17:01:43.341006",
     "exception": false,
     "start_time": "2025-04-08T17:01:43.320393",
     "status": "completed"
    },
    "tags": []
   },
   "outputs": [
    {
     "data": {
      "text/plain": [
       "121.6867627785059"
      ]
     },
     "execution_count": 19,
     "metadata": {},
     "output_type": "execute_result"
    }
   ],
   "source": [
    "df['Glucose'].mean()"
   ]
  },
  {
   "cell_type": "code",
   "execution_count": 20,
   "id": "1af56b7d",
   "metadata": {
    "execution": {
     "iopub.execute_input": "2025-04-08T17:01:43.367288Z",
     "iopub.status.busy": "2025-04-08T17:01:43.366699Z",
     "iopub.status.idle": "2025-04-08T17:01:43.372832Z",
     "shell.execute_reply": "2025-04-08T17:01:43.371808Z"
    },
    "papermill": {
     "duration": 0.020949,
     "end_time": "2025-04-08T17:01:43.374419",
     "exception": false,
     "start_time": "2025-04-08T17:01:43.353470",
     "status": "completed"
    },
    "tags": []
   },
   "outputs": [
    {
     "data": {
      "text/plain": [
       "117.0"
      ]
     },
     "execution_count": 20,
     "metadata": {},
     "output_type": "execute_result"
    }
   ],
   "source": [
    "df['Glucose'].median()"
   ]
  },
  {
   "cell_type": "code",
   "execution_count": 21,
   "id": "54570d8d",
   "metadata": {
    "execution": {
     "iopub.execute_input": "2025-04-08T17:01:43.400698Z",
     "iopub.status.busy": "2025-04-08T17:01:43.400376Z",
     "iopub.status.idle": "2025-04-08T17:01:43.413476Z",
     "shell.execute_reply": "2025-04-08T17:01:43.412603Z"
    },
    "papermill": {
     "duration": 0.027766,
     "end_time": "2025-04-08T17:01:43.414940",
     "exception": false,
     "start_time": "2025-04-08T17:01:43.387174",
     "status": "completed"
    },
    "tags": []
   },
   "outputs": [
    {
     "data": {
      "text/html": [
       "<div>\n",
       "<style scoped>\n",
       "    .dataframe tbody tr th:only-of-type {\n",
       "        vertical-align: middle;\n",
       "    }\n",
       "\n",
       "    .dataframe tbody tr th {\n",
       "        vertical-align: top;\n",
       "    }\n",
       "\n",
       "    .dataframe thead th {\n",
       "        text-align: right;\n",
       "    }\n",
       "</style>\n",
       "<table border=\"1\" class=\"dataframe\">\n",
       "  <thead>\n",
       "    <tr style=\"text-align: right;\">\n",
       "      <th></th>\n",
       "      <th>Pregnant</th>\n",
       "      <th>Glucose</th>\n",
       "      <th>Diastolic_BP</th>\n",
       "      <th>Skin_Fold</th>\n",
       "      <th>Serum_Insulin</th>\n",
       "      <th>BMI</th>\n",
       "      <th>Diabetes_Pedigree</th>\n",
       "      <th>Age</th>\n",
       "      <th>Class</th>\n",
       "    </tr>\n",
       "  </thead>\n",
       "  <tbody>\n",
       "    <tr>\n",
       "      <th>0</th>\n",
       "      <td>6</td>\n",
       "      <td>148.0</td>\n",
       "      <td>72.0</td>\n",
       "      <td>35.0</td>\n",
       "      <td>125.0</td>\n",
       "      <td>33.6</td>\n",
       "      <td>0.627</td>\n",
       "      <td>50</td>\n",
       "      <td>1</td>\n",
       "    </tr>\n",
       "    <tr>\n",
       "      <th>1</th>\n",
       "      <td>1</td>\n",
       "      <td>85.0</td>\n",
       "      <td>66.0</td>\n",
       "      <td>29.0</td>\n",
       "      <td>125.0</td>\n",
       "      <td>26.6</td>\n",
       "      <td>0.351</td>\n",
       "      <td>31</td>\n",
       "      <td>0</td>\n",
       "    </tr>\n",
       "    <tr>\n",
       "      <th>2</th>\n",
       "      <td>8</td>\n",
       "      <td>183.0</td>\n",
       "      <td>64.0</td>\n",
       "      <td>29.0</td>\n",
       "      <td>125.0</td>\n",
       "      <td>23.3</td>\n",
       "      <td>0.672</td>\n",
       "      <td>32</td>\n",
       "      <td>1</td>\n",
       "    </tr>\n",
       "    <tr>\n",
       "      <th>3</th>\n",
       "      <td>1</td>\n",
       "      <td>89.0</td>\n",
       "      <td>66.0</td>\n",
       "      <td>23.0</td>\n",
       "      <td>94.0</td>\n",
       "      <td>28.1</td>\n",
       "      <td>0.167</td>\n",
       "      <td>21</td>\n",
       "      <td>0</td>\n",
       "    </tr>\n",
       "    <tr>\n",
       "      <th>4</th>\n",
       "      <td>0</td>\n",
       "      <td>137.0</td>\n",
       "      <td>40.0</td>\n",
       "      <td>35.0</td>\n",
       "      <td>168.0</td>\n",
       "      <td>43.1</td>\n",
       "      <td>2.288</td>\n",
       "      <td>33</td>\n",
       "      <td>1</td>\n",
       "    </tr>\n",
       "  </tbody>\n",
       "</table>\n",
       "</div>"
      ],
      "text/plain": [
       "   Pregnant  Glucose  Diastolic_BP  Skin_Fold  Serum_Insulin   BMI  \\\n",
       "0         6    148.0          72.0       35.0          125.0  33.6   \n",
       "1         1     85.0          66.0       29.0          125.0  26.6   \n",
       "2         8    183.0          64.0       29.0          125.0  23.3   \n",
       "3         1     89.0          66.0       23.0           94.0  28.1   \n",
       "4         0    137.0          40.0       35.0          168.0  43.1   \n",
       "\n",
       "   Diabetes_Pedigree  Age  Class  \n",
       "0              0.627   50      1  \n",
       "1              0.351   31      0  \n",
       "2              0.672   32      1  \n",
       "3              0.167   21      0  \n",
       "4              2.288   33      1  "
      ]
     },
     "execution_count": 21,
     "metadata": {},
     "output_type": "execute_result"
    }
   ],
   "source": [
    "df.head()"
   ]
  },
  {
   "cell_type": "code",
   "execution_count": 22,
   "id": "572f5358",
   "metadata": {
    "execution": {
     "iopub.execute_input": "2025-04-08T17:01:43.441615Z",
     "iopub.status.busy": "2025-04-08T17:01:43.441276Z",
     "iopub.status.idle": "2025-04-08T17:01:43.454732Z",
     "shell.execute_reply": "2025-04-08T17:01:43.453888Z"
    },
    "papermill": {
     "duration": 0.028534,
     "end_time": "2025-04-08T17:01:43.456304",
     "exception": false,
     "start_time": "2025-04-08T17:01:43.427770",
     "status": "completed"
    },
    "tags": []
   },
   "outputs": [
    {
     "data": {
      "text/html": [
       "<div>\n",
       "<style scoped>\n",
       "    .dataframe tbody tr th:only-of-type {\n",
       "        vertical-align: middle;\n",
       "    }\n",
       "\n",
       "    .dataframe tbody tr th {\n",
       "        vertical-align: top;\n",
       "    }\n",
       "\n",
       "    .dataframe thead th {\n",
       "        text-align: right;\n",
       "    }\n",
       "</style>\n",
       "<table border=\"1\" class=\"dataframe\">\n",
       "  <thead>\n",
       "    <tr style=\"text-align: right;\">\n",
       "      <th></th>\n",
       "      <th>Pregnant</th>\n",
       "      <th>Glucose</th>\n",
       "      <th>Diastolic_BP</th>\n",
       "      <th>Skin_Fold</th>\n",
       "      <th>Serum_Insulin</th>\n",
       "      <th>BMI</th>\n",
       "      <th>Diabetes_Pedigree</th>\n",
       "      <th>Age</th>\n",
       "      <th>Class</th>\n",
       "    </tr>\n",
       "  </thead>\n",
       "  <tbody>\n",
       "    <tr>\n",
       "      <th>763</th>\n",
       "      <td>10</td>\n",
       "      <td>101.0</td>\n",
       "      <td>76.0</td>\n",
       "      <td>48.0</td>\n",
       "      <td>180.0</td>\n",
       "      <td>32.9</td>\n",
       "      <td>0.171</td>\n",
       "      <td>63</td>\n",
       "      <td>0</td>\n",
       "    </tr>\n",
       "    <tr>\n",
       "      <th>764</th>\n",
       "      <td>2</td>\n",
       "      <td>122.0</td>\n",
       "      <td>70.0</td>\n",
       "      <td>27.0</td>\n",
       "      <td>125.0</td>\n",
       "      <td>36.8</td>\n",
       "      <td>0.340</td>\n",
       "      <td>27</td>\n",
       "      <td>0</td>\n",
       "    </tr>\n",
       "    <tr>\n",
       "      <th>765</th>\n",
       "      <td>5</td>\n",
       "      <td>121.0</td>\n",
       "      <td>72.0</td>\n",
       "      <td>23.0</td>\n",
       "      <td>112.0</td>\n",
       "      <td>26.2</td>\n",
       "      <td>0.245</td>\n",
       "      <td>30</td>\n",
       "      <td>0</td>\n",
       "    </tr>\n",
       "    <tr>\n",
       "      <th>766</th>\n",
       "      <td>1</td>\n",
       "      <td>126.0</td>\n",
       "      <td>60.0</td>\n",
       "      <td>29.0</td>\n",
       "      <td>125.0</td>\n",
       "      <td>30.1</td>\n",
       "      <td>0.349</td>\n",
       "      <td>47</td>\n",
       "      <td>1</td>\n",
       "    </tr>\n",
       "    <tr>\n",
       "      <th>767</th>\n",
       "      <td>1</td>\n",
       "      <td>93.0</td>\n",
       "      <td>70.0</td>\n",
       "      <td>31.0</td>\n",
       "      <td>125.0</td>\n",
       "      <td>30.4</td>\n",
       "      <td>0.315</td>\n",
       "      <td>23</td>\n",
       "      <td>0</td>\n",
       "    </tr>\n",
       "  </tbody>\n",
       "</table>\n",
       "</div>"
      ],
      "text/plain": [
       "     Pregnant  Glucose  Diastolic_BP  Skin_Fold  Serum_Insulin   BMI  \\\n",
       "763        10    101.0          76.0       48.0          180.0  32.9   \n",
       "764         2    122.0          70.0       27.0          125.0  36.8   \n",
       "765         5    121.0          72.0       23.0          112.0  26.2   \n",
       "766         1    126.0          60.0       29.0          125.0  30.1   \n",
       "767         1     93.0          70.0       31.0          125.0  30.4   \n",
       "\n",
       "     Diabetes_Pedigree  Age  Class  \n",
       "763              0.171   63      0  \n",
       "764              0.340   27      0  \n",
       "765              0.245   30      0  \n",
       "766              0.349   47      1  \n",
       "767              0.315   23      0  "
      ]
     },
     "execution_count": 22,
     "metadata": {},
     "output_type": "execute_result"
    }
   ],
   "source": [
    "df.tail()"
   ]
  },
  {
   "cell_type": "code",
   "execution_count": 23,
   "id": "b70232ee",
   "metadata": {
    "execution": {
     "iopub.execute_input": "2025-04-08T17:01:43.483030Z",
     "iopub.status.busy": "2025-04-08T17:01:43.482661Z",
     "iopub.status.idle": "2025-04-08T17:01:43.493142Z",
     "shell.execute_reply": "2025-04-08T17:01:43.492184Z"
    },
    "papermill": {
     "duration": 0.025385,
     "end_time": "2025-04-08T17:01:43.494650",
     "exception": false,
     "start_time": "2025-04-08T17:01:43.469265",
     "status": "completed"
    },
    "tags": []
   },
   "outputs": [
    {
     "data": {
      "text/plain": [
       "0      148.0\n",
       "1       85.0\n",
       "2      183.0\n",
       "3       89.0\n",
       "4      137.0\n",
       "       ...  \n",
       "763    101.0\n",
       "764    122.0\n",
       "765    121.0\n",
       "766    126.0\n",
       "767     93.0\n",
       "Name: Glucose, Length: 768, dtype: float64"
      ]
     },
     "execution_count": 23,
     "metadata": {},
     "output_type": "execute_result"
    }
   ],
   "source": [
    "df['Glucose'].ffill()"
   ]
  },
  {
   "cell_type": "code",
   "execution_count": 24,
   "id": "f93d14e8",
   "metadata": {
    "execution": {
     "iopub.execute_input": "2025-04-08T17:01:43.522017Z",
     "iopub.status.busy": "2025-04-08T17:01:43.521611Z",
     "iopub.status.idle": "2025-04-08T17:01:43.526933Z",
     "shell.execute_reply": "2025-04-08T17:01:43.525906Z"
    },
    "papermill": {
     "duration": 0.020751,
     "end_time": "2025-04-08T17:01:43.528656",
     "exception": false,
     "start_time": "2025-04-08T17:01:43.507905",
     "status": "completed"
    },
    "tags": []
   },
   "outputs": [],
   "source": [
    "df['Glucose'] = df['Glucose'].ffill()"
   ]
  },
  {
   "cell_type": "code",
   "execution_count": 25,
   "id": "99c1e883",
   "metadata": {
    "execution": {
     "iopub.execute_input": "2025-04-08T17:01:43.555550Z",
     "iopub.status.busy": "2025-04-08T17:01:43.555226Z",
     "iopub.status.idle": "2025-04-08T17:01:43.562563Z",
     "shell.execute_reply": "2025-04-08T17:01:43.561750Z"
    },
    "papermill": {
     "duration": 0.022405,
     "end_time": "2025-04-08T17:01:43.564002",
     "exception": false,
     "start_time": "2025-04-08T17:01:43.541597",
     "status": "completed"
    },
    "tags": []
   },
   "outputs": [
    {
     "data": {
      "text/plain": [
       "Pregnant              0\n",
       "Glucose               0\n",
       "Diastolic_BP         35\n",
       "Skin_Fold             0\n",
       "Serum_Insulin         0\n",
       "BMI                  11\n",
       "Diabetes_Pedigree     0\n",
       "Age                   0\n",
       "Class                 0\n",
       "dtype: int64"
      ]
     },
     "execution_count": 25,
     "metadata": {},
     "output_type": "execute_result"
    }
   ],
   "source": [
    "df.isnull().sum()"
   ]
  },
  {
   "cell_type": "code",
   "execution_count": 26,
   "id": "3f42bc13",
   "metadata": {
    "execution": {
     "iopub.execute_input": "2025-04-08T17:01:43.591169Z",
     "iopub.status.busy": "2025-04-08T17:01:43.590791Z",
     "iopub.status.idle": "2025-04-08T17:01:43.604325Z",
     "shell.execute_reply": "2025-04-08T17:01:43.603438Z"
    },
    "papermill": {
     "duration": 0.028762,
     "end_time": "2025-04-08T17:01:43.605823",
     "exception": false,
     "start_time": "2025-04-08T17:01:43.577061",
     "status": "completed"
    },
    "tags": []
   },
   "outputs": [
    {
     "data": {
      "text/html": [
       "<div>\n",
       "<style scoped>\n",
       "    .dataframe tbody tr th:only-of-type {\n",
       "        vertical-align: middle;\n",
       "    }\n",
       "\n",
       "    .dataframe tbody tr th {\n",
       "        vertical-align: top;\n",
       "    }\n",
       "\n",
       "    .dataframe thead th {\n",
       "        text-align: right;\n",
       "    }\n",
       "</style>\n",
       "<table border=\"1\" class=\"dataframe\">\n",
       "  <thead>\n",
       "    <tr style=\"text-align: right;\">\n",
       "      <th></th>\n",
       "      <th>Pregnant</th>\n",
       "      <th>Glucose</th>\n",
       "      <th>Diastolic_BP</th>\n",
       "      <th>Skin_Fold</th>\n",
       "      <th>Serum_Insulin</th>\n",
       "      <th>BMI</th>\n",
       "      <th>Diabetes_Pedigree</th>\n",
       "      <th>Age</th>\n",
       "      <th>Class</th>\n",
       "    </tr>\n",
       "  </thead>\n",
       "  <tbody>\n",
       "    <tr>\n",
       "      <th>0</th>\n",
       "      <td>6</td>\n",
       "      <td>148.0</td>\n",
       "      <td>72.0</td>\n",
       "      <td>35.0</td>\n",
       "      <td>125.0</td>\n",
       "      <td>33.6</td>\n",
       "      <td>0.627</td>\n",
       "      <td>50</td>\n",
       "      <td>1</td>\n",
       "    </tr>\n",
       "    <tr>\n",
       "      <th>1</th>\n",
       "      <td>1</td>\n",
       "      <td>85.0</td>\n",
       "      <td>66.0</td>\n",
       "      <td>29.0</td>\n",
       "      <td>125.0</td>\n",
       "      <td>26.6</td>\n",
       "      <td>0.351</td>\n",
       "      <td>31</td>\n",
       "      <td>0</td>\n",
       "    </tr>\n",
       "    <tr>\n",
       "      <th>2</th>\n",
       "      <td>8</td>\n",
       "      <td>183.0</td>\n",
       "      <td>64.0</td>\n",
       "      <td>29.0</td>\n",
       "      <td>125.0</td>\n",
       "      <td>23.3</td>\n",
       "      <td>0.672</td>\n",
       "      <td>32</td>\n",
       "      <td>1</td>\n",
       "    </tr>\n",
       "    <tr>\n",
       "      <th>3</th>\n",
       "      <td>1</td>\n",
       "      <td>89.0</td>\n",
       "      <td>66.0</td>\n",
       "      <td>23.0</td>\n",
       "      <td>94.0</td>\n",
       "      <td>28.1</td>\n",
       "      <td>0.167</td>\n",
       "      <td>21</td>\n",
       "      <td>0</td>\n",
       "    </tr>\n",
       "    <tr>\n",
       "      <th>4</th>\n",
       "      <td>0</td>\n",
       "      <td>137.0</td>\n",
       "      <td>40.0</td>\n",
       "      <td>35.0</td>\n",
       "      <td>168.0</td>\n",
       "      <td>43.1</td>\n",
       "      <td>2.288</td>\n",
       "      <td>33</td>\n",
       "      <td>1</td>\n",
       "    </tr>\n",
       "  </tbody>\n",
       "</table>\n",
       "</div>"
      ],
      "text/plain": [
       "   Pregnant  Glucose  Diastolic_BP  Skin_Fold  Serum_Insulin   BMI  \\\n",
       "0         6    148.0          72.0       35.0          125.0  33.6   \n",
       "1         1     85.0          66.0       29.0          125.0  26.6   \n",
       "2         8    183.0          64.0       29.0          125.0  23.3   \n",
       "3         1     89.0          66.0       23.0           94.0  28.1   \n",
       "4         0    137.0          40.0       35.0          168.0  43.1   \n",
       "\n",
       "   Diabetes_Pedigree  Age  Class  \n",
       "0              0.627   50      1  \n",
       "1              0.351   31      0  \n",
       "2              0.672   32      1  \n",
       "3              0.167   21      0  \n",
       "4              2.288   33      1  "
      ]
     },
     "execution_count": 26,
     "metadata": {},
     "output_type": "execute_result"
    }
   ],
   "source": [
    "df.head()"
   ]
  },
  {
   "cell_type": "code",
   "execution_count": 27,
   "id": "fd308a70",
   "metadata": {
    "execution": {
     "iopub.execute_input": "2025-04-08T17:01:43.633493Z",
     "iopub.status.busy": "2025-04-08T17:01:43.633155Z",
     "iopub.status.idle": "2025-04-08T17:01:43.646707Z",
     "shell.execute_reply": "2025-04-08T17:01:43.645483Z"
    },
    "papermill": {
     "duration": 0.029378,
     "end_time": "2025-04-08T17:01:43.648388",
     "exception": false,
     "start_time": "2025-04-08T17:01:43.619010",
     "status": "completed"
    },
    "tags": []
   },
   "outputs": [
    {
     "data": {
      "text/html": [
       "<div>\n",
       "<style scoped>\n",
       "    .dataframe tbody tr th:only-of-type {\n",
       "        vertical-align: middle;\n",
       "    }\n",
       "\n",
       "    .dataframe tbody tr th {\n",
       "        vertical-align: top;\n",
       "    }\n",
       "\n",
       "    .dataframe thead th {\n",
       "        text-align: right;\n",
       "    }\n",
       "</style>\n",
       "<table border=\"1\" class=\"dataframe\">\n",
       "  <thead>\n",
       "    <tr style=\"text-align: right;\">\n",
       "      <th></th>\n",
       "      <th>Pregnant</th>\n",
       "      <th>Glucose</th>\n",
       "      <th>Diastolic_BP</th>\n",
       "      <th>Skin_Fold</th>\n",
       "      <th>Serum_Insulin</th>\n",
       "      <th>BMI</th>\n",
       "      <th>Diabetes_Pedigree</th>\n",
       "      <th>Age</th>\n",
       "      <th>Class</th>\n",
       "    </tr>\n",
       "  </thead>\n",
       "  <tbody>\n",
       "    <tr>\n",
       "      <th>763</th>\n",
       "      <td>10</td>\n",
       "      <td>101.0</td>\n",
       "      <td>76.0</td>\n",
       "      <td>48.0</td>\n",
       "      <td>180.0</td>\n",
       "      <td>32.9</td>\n",
       "      <td>0.171</td>\n",
       "      <td>63</td>\n",
       "      <td>0</td>\n",
       "    </tr>\n",
       "    <tr>\n",
       "      <th>764</th>\n",
       "      <td>2</td>\n",
       "      <td>122.0</td>\n",
       "      <td>70.0</td>\n",
       "      <td>27.0</td>\n",
       "      <td>125.0</td>\n",
       "      <td>36.8</td>\n",
       "      <td>0.340</td>\n",
       "      <td>27</td>\n",
       "      <td>0</td>\n",
       "    </tr>\n",
       "    <tr>\n",
       "      <th>765</th>\n",
       "      <td>5</td>\n",
       "      <td>121.0</td>\n",
       "      <td>72.0</td>\n",
       "      <td>23.0</td>\n",
       "      <td>112.0</td>\n",
       "      <td>26.2</td>\n",
       "      <td>0.245</td>\n",
       "      <td>30</td>\n",
       "      <td>0</td>\n",
       "    </tr>\n",
       "    <tr>\n",
       "      <th>766</th>\n",
       "      <td>1</td>\n",
       "      <td>126.0</td>\n",
       "      <td>60.0</td>\n",
       "      <td>29.0</td>\n",
       "      <td>125.0</td>\n",
       "      <td>30.1</td>\n",
       "      <td>0.349</td>\n",
       "      <td>47</td>\n",
       "      <td>1</td>\n",
       "    </tr>\n",
       "    <tr>\n",
       "      <th>767</th>\n",
       "      <td>1</td>\n",
       "      <td>93.0</td>\n",
       "      <td>70.0</td>\n",
       "      <td>31.0</td>\n",
       "      <td>125.0</td>\n",
       "      <td>30.4</td>\n",
       "      <td>0.315</td>\n",
       "      <td>23</td>\n",
       "      <td>0</td>\n",
       "    </tr>\n",
       "  </tbody>\n",
       "</table>\n",
       "</div>"
      ],
      "text/plain": [
       "     Pregnant  Glucose  Diastolic_BP  Skin_Fold  Serum_Insulin   BMI  \\\n",
       "763        10    101.0          76.0       48.0          180.0  32.9   \n",
       "764         2    122.0          70.0       27.0          125.0  36.8   \n",
       "765         5    121.0          72.0       23.0          112.0  26.2   \n",
       "766         1    126.0          60.0       29.0          125.0  30.1   \n",
       "767         1     93.0          70.0       31.0          125.0  30.4   \n",
       "\n",
       "     Diabetes_Pedigree  Age  Class  \n",
       "763              0.171   63      0  \n",
       "764              0.340   27      0  \n",
       "765              0.245   30      0  \n",
       "766              0.349   47      1  \n",
       "767              0.315   23      0  "
      ]
     },
     "execution_count": 27,
     "metadata": {},
     "output_type": "execute_result"
    }
   ],
   "source": [
    "df.tail()"
   ]
  },
  {
   "cell_type": "code",
   "execution_count": 28,
   "id": "03c68fee",
   "metadata": {
    "execution": {
     "iopub.execute_input": "2025-04-08T17:01:43.676415Z",
     "iopub.status.busy": "2025-04-08T17:01:43.676083Z",
     "iopub.status.idle": "2025-04-08T17:01:43.681959Z",
     "shell.execute_reply": "2025-04-08T17:01:43.681083Z"
    },
    "papermill": {
     "duration": 0.021615,
     "end_time": "2025-04-08T17:01:43.683539",
     "exception": false,
     "start_time": "2025-04-08T17:01:43.661924",
     "status": "completed"
    },
    "tags": []
   },
   "outputs": [
    {
     "data": {
      "text/plain": [
       "72.40518417462484"
      ]
     },
     "execution_count": 28,
     "metadata": {},
     "output_type": "execute_result"
    }
   ],
   "source": [
    "df['Diastolic_BP'].mean()"
   ]
  },
  {
   "cell_type": "code",
   "execution_count": 29,
   "id": "f690b60f",
   "metadata": {
    "execution": {
     "iopub.execute_input": "2025-04-08T17:01:43.711882Z",
     "iopub.status.busy": "2025-04-08T17:01:43.711483Z",
     "iopub.status.idle": "2025-04-08T17:01:43.717068Z",
     "shell.execute_reply": "2025-04-08T17:01:43.716229Z"
    },
    "papermill": {
     "duration": 0.021417,
     "end_time": "2025-04-08T17:01:43.718551",
     "exception": false,
     "start_time": "2025-04-08T17:01:43.697134",
     "status": "completed"
    },
    "tags": []
   },
   "outputs": [
    {
     "data": {
      "text/plain": [
       "72.0"
      ]
     },
     "execution_count": 29,
     "metadata": {},
     "output_type": "execute_result"
    }
   ],
   "source": [
    "df['Diastolic_BP'].median()"
   ]
  },
  {
   "cell_type": "code",
   "execution_count": 30,
   "id": "94712530",
   "metadata": {
    "execution": {
     "iopub.execute_input": "2025-04-08T17:01:43.801872Z",
     "iopub.status.busy": "2025-04-08T17:01:43.801439Z",
     "iopub.status.idle": "2025-04-08T17:01:43.806254Z",
     "shell.execute_reply": "2025-04-08T17:01:43.805366Z"
    },
    "papermill": {
     "duration": 0.075706,
     "end_time": "2025-04-08T17:01:43.807973",
     "exception": false,
     "start_time": "2025-04-08T17:01:43.732267",
     "status": "completed"
    },
    "tags": []
   },
   "outputs": [],
   "source": [
    "df['Diastolic_BP'] = df['Diastolic_BP'].fillna(df['Diastolic_BP'].median())"
   ]
  },
  {
   "cell_type": "code",
   "execution_count": 31,
   "id": "9aff1d02",
   "metadata": {
    "execution": {
     "iopub.execute_input": "2025-04-08T17:01:43.836408Z",
     "iopub.status.busy": "2025-04-08T17:01:43.836042Z",
     "iopub.status.idle": "2025-04-08T17:01:43.844528Z",
     "shell.execute_reply": "2025-04-08T17:01:43.843296Z"
    },
    "papermill": {
     "duration": 0.024834,
     "end_time": "2025-04-08T17:01:43.846421",
     "exception": false,
     "start_time": "2025-04-08T17:01:43.821587",
     "status": "completed"
    },
    "tags": []
   },
   "outputs": [
    {
     "data": {
      "text/plain": [
       "Pregnant              0\n",
       "Glucose               0\n",
       "Diastolic_BP          0\n",
       "Skin_Fold             0\n",
       "Serum_Insulin         0\n",
       "BMI                  11\n",
       "Diabetes_Pedigree     0\n",
       "Age                   0\n",
       "Class                 0\n",
       "dtype: int64"
      ]
     },
     "execution_count": 31,
     "metadata": {},
     "output_type": "execute_result"
    }
   ],
   "source": [
    "df.isnull().sum()"
   ]
  },
  {
   "cell_type": "code",
   "execution_count": 32,
   "id": "427228e0",
   "metadata": {
    "execution": {
     "iopub.execute_input": "2025-04-08T17:01:43.875517Z",
     "iopub.status.busy": "2025-04-08T17:01:43.875189Z",
     "iopub.status.idle": "2025-04-08T17:01:43.889372Z",
     "shell.execute_reply": "2025-04-08T17:01:43.888299Z"
    },
    "papermill": {
     "duration": 0.030336,
     "end_time": "2025-04-08T17:01:43.890922",
     "exception": false,
     "start_time": "2025-04-08T17:01:43.860586",
     "status": "completed"
    },
    "tags": []
   },
   "outputs": [
    {
     "data": {
      "text/html": [
       "<div>\n",
       "<style scoped>\n",
       "    .dataframe tbody tr th:only-of-type {\n",
       "        vertical-align: middle;\n",
       "    }\n",
       "\n",
       "    .dataframe tbody tr th {\n",
       "        vertical-align: top;\n",
       "    }\n",
       "\n",
       "    .dataframe thead th {\n",
       "        text-align: right;\n",
       "    }\n",
       "</style>\n",
       "<table border=\"1\" class=\"dataframe\">\n",
       "  <thead>\n",
       "    <tr style=\"text-align: right;\">\n",
       "      <th></th>\n",
       "      <th>Pregnant</th>\n",
       "      <th>Glucose</th>\n",
       "      <th>Diastolic_BP</th>\n",
       "      <th>Skin_Fold</th>\n",
       "      <th>Serum_Insulin</th>\n",
       "      <th>BMI</th>\n",
       "      <th>Diabetes_Pedigree</th>\n",
       "      <th>Age</th>\n",
       "      <th>Class</th>\n",
       "    </tr>\n",
       "  </thead>\n",
       "  <tbody>\n",
       "    <tr>\n",
       "      <th>0</th>\n",
       "      <td>6</td>\n",
       "      <td>148.0</td>\n",
       "      <td>72.0</td>\n",
       "      <td>35.0</td>\n",
       "      <td>125.0</td>\n",
       "      <td>33.6</td>\n",
       "      <td>0.627</td>\n",
       "      <td>50</td>\n",
       "      <td>1</td>\n",
       "    </tr>\n",
       "    <tr>\n",
       "      <th>1</th>\n",
       "      <td>1</td>\n",
       "      <td>85.0</td>\n",
       "      <td>66.0</td>\n",
       "      <td>29.0</td>\n",
       "      <td>125.0</td>\n",
       "      <td>26.6</td>\n",
       "      <td>0.351</td>\n",
       "      <td>31</td>\n",
       "      <td>0</td>\n",
       "    </tr>\n",
       "    <tr>\n",
       "      <th>2</th>\n",
       "      <td>8</td>\n",
       "      <td>183.0</td>\n",
       "      <td>64.0</td>\n",
       "      <td>29.0</td>\n",
       "      <td>125.0</td>\n",
       "      <td>23.3</td>\n",
       "      <td>0.672</td>\n",
       "      <td>32</td>\n",
       "      <td>1</td>\n",
       "    </tr>\n",
       "    <tr>\n",
       "      <th>3</th>\n",
       "      <td>1</td>\n",
       "      <td>89.0</td>\n",
       "      <td>66.0</td>\n",
       "      <td>23.0</td>\n",
       "      <td>94.0</td>\n",
       "      <td>28.1</td>\n",
       "      <td>0.167</td>\n",
       "      <td>21</td>\n",
       "      <td>0</td>\n",
       "    </tr>\n",
       "    <tr>\n",
       "      <th>4</th>\n",
       "      <td>0</td>\n",
       "      <td>137.0</td>\n",
       "      <td>40.0</td>\n",
       "      <td>35.0</td>\n",
       "      <td>168.0</td>\n",
       "      <td>43.1</td>\n",
       "      <td>2.288</td>\n",
       "      <td>33</td>\n",
       "      <td>1</td>\n",
       "    </tr>\n",
       "  </tbody>\n",
       "</table>\n",
       "</div>"
      ],
      "text/plain": [
       "   Pregnant  Glucose  Diastolic_BP  Skin_Fold  Serum_Insulin   BMI  \\\n",
       "0         6    148.0          72.0       35.0          125.0  33.6   \n",
       "1         1     85.0          66.0       29.0          125.0  26.6   \n",
       "2         8    183.0          64.0       29.0          125.0  23.3   \n",
       "3         1     89.0          66.0       23.0           94.0  28.1   \n",
       "4         0    137.0          40.0       35.0          168.0  43.1   \n",
       "\n",
       "   Diabetes_Pedigree  Age  Class  \n",
       "0              0.627   50      1  \n",
       "1              0.351   31      0  \n",
       "2              0.672   32      1  \n",
       "3              0.167   21      0  \n",
       "4              2.288   33      1  "
      ]
     },
     "execution_count": 32,
     "metadata": {},
     "output_type": "execute_result"
    }
   ],
   "source": [
    "df.head()"
   ]
  },
  {
   "cell_type": "code",
   "execution_count": 33,
   "id": "45b6f0cd",
   "metadata": {
    "execution": {
     "iopub.execute_input": "2025-04-08T17:01:43.919943Z",
     "iopub.status.busy": "2025-04-08T17:01:43.919549Z",
     "iopub.status.idle": "2025-04-08T17:01:43.933128Z",
     "shell.execute_reply": "2025-04-08T17:01:43.932177Z"
    },
    "papermill": {
     "duration": 0.029836,
     "end_time": "2025-04-08T17:01:43.934811",
     "exception": false,
     "start_time": "2025-04-08T17:01:43.904975",
     "status": "completed"
    },
    "tags": []
   },
   "outputs": [
    {
     "data": {
      "text/html": [
       "<div>\n",
       "<style scoped>\n",
       "    .dataframe tbody tr th:only-of-type {\n",
       "        vertical-align: middle;\n",
       "    }\n",
       "\n",
       "    .dataframe tbody tr th {\n",
       "        vertical-align: top;\n",
       "    }\n",
       "\n",
       "    .dataframe thead th {\n",
       "        text-align: right;\n",
       "    }\n",
       "</style>\n",
       "<table border=\"1\" class=\"dataframe\">\n",
       "  <thead>\n",
       "    <tr style=\"text-align: right;\">\n",
       "      <th></th>\n",
       "      <th>Pregnant</th>\n",
       "      <th>Glucose</th>\n",
       "      <th>Diastolic_BP</th>\n",
       "      <th>Skin_Fold</th>\n",
       "      <th>Serum_Insulin</th>\n",
       "      <th>BMI</th>\n",
       "      <th>Diabetes_Pedigree</th>\n",
       "      <th>Age</th>\n",
       "      <th>Class</th>\n",
       "    </tr>\n",
       "  </thead>\n",
       "  <tbody>\n",
       "    <tr>\n",
       "      <th>763</th>\n",
       "      <td>10</td>\n",
       "      <td>101.0</td>\n",
       "      <td>76.0</td>\n",
       "      <td>48.0</td>\n",
       "      <td>180.0</td>\n",
       "      <td>32.9</td>\n",
       "      <td>0.171</td>\n",
       "      <td>63</td>\n",
       "      <td>0</td>\n",
       "    </tr>\n",
       "    <tr>\n",
       "      <th>764</th>\n",
       "      <td>2</td>\n",
       "      <td>122.0</td>\n",
       "      <td>70.0</td>\n",
       "      <td>27.0</td>\n",
       "      <td>125.0</td>\n",
       "      <td>36.8</td>\n",
       "      <td>0.340</td>\n",
       "      <td>27</td>\n",
       "      <td>0</td>\n",
       "    </tr>\n",
       "    <tr>\n",
       "      <th>765</th>\n",
       "      <td>5</td>\n",
       "      <td>121.0</td>\n",
       "      <td>72.0</td>\n",
       "      <td>23.0</td>\n",
       "      <td>112.0</td>\n",
       "      <td>26.2</td>\n",
       "      <td>0.245</td>\n",
       "      <td>30</td>\n",
       "      <td>0</td>\n",
       "    </tr>\n",
       "    <tr>\n",
       "      <th>766</th>\n",
       "      <td>1</td>\n",
       "      <td>126.0</td>\n",
       "      <td>60.0</td>\n",
       "      <td>29.0</td>\n",
       "      <td>125.0</td>\n",
       "      <td>30.1</td>\n",
       "      <td>0.349</td>\n",
       "      <td>47</td>\n",
       "      <td>1</td>\n",
       "    </tr>\n",
       "    <tr>\n",
       "      <th>767</th>\n",
       "      <td>1</td>\n",
       "      <td>93.0</td>\n",
       "      <td>70.0</td>\n",
       "      <td>31.0</td>\n",
       "      <td>125.0</td>\n",
       "      <td>30.4</td>\n",
       "      <td>0.315</td>\n",
       "      <td>23</td>\n",
       "      <td>0</td>\n",
       "    </tr>\n",
       "  </tbody>\n",
       "</table>\n",
       "</div>"
      ],
      "text/plain": [
       "     Pregnant  Glucose  Diastolic_BP  Skin_Fold  Serum_Insulin   BMI  \\\n",
       "763        10    101.0          76.0       48.0          180.0  32.9   \n",
       "764         2    122.0          70.0       27.0          125.0  36.8   \n",
       "765         5    121.0          72.0       23.0          112.0  26.2   \n",
       "766         1    126.0          60.0       29.0          125.0  30.1   \n",
       "767         1     93.0          70.0       31.0          125.0  30.4   \n",
       "\n",
       "     Diabetes_Pedigree  Age  Class  \n",
       "763              0.171   63      0  \n",
       "764              0.340   27      0  \n",
       "765              0.245   30      0  \n",
       "766              0.349   47      1  \n",
       "767              0.315   23      0  "
      ]
     },
     "execution_count": 33,
     "metadata": {},
     "output_type": "execute_result"
    }
   ],
   "source": [
    "df.tail()"
   ]
  },
  {
   "cell_type": "code",
   "execution_count": 34,
   "id": "404c8f09",
   "metadata": {
    "execution": {
     "iopub.execute_input": "2025-04-08T17:01:43.965837Z",
     "iopub.status.busy": "2025-04-08T17:01:43.965470Z",
     "iopub.status.idle": "2025-04-08T17:01:43.971187Z",
     "shell.execute_reply": "2025-04-08T17:01:43.970292Z"
    },
    "papermill": {
     "duration": 0.023491,
     "end_time": "2025-04-08T17:01:43.972566",
     "exception": false,
     "start_time": "2025-04-08T17:01:43.949075",
     "status": "completed"
    },
    "tags": []
   },
   "outputs": [
    {
     "data": {
      "text/plain": [
       "32.457463672391015"
      ]
     },
     "execution_count": 34,
     "metadata": {},
     "output_type": "execute_result"
    }
   ],
   "source": [
    "df['BMI'].mean()"
   ]
  },
  {
   "cell_type": "code",
   "execution_count": 35,
   "id": "862e14df",
   "metadata": {
    "execution": {
     "iopub.execute_input": "2025-04-08T17:01:44.002429Z",
     "iopub.status.busy": "2025-04-08T17:01:44.002087Z",
     "iopub.status.idle": "2025-04-08T17:01:44.007617Z",
     "shell.execute_reply": "2025-04-08T17:01:44.006662Z"
    },
    "papermill": {
     "duration": 0.021896,
     "end_time": "2025-04-08T17:01:44.009082",
     "exception": false,
     "start_time": "2025-04-08T17:01:43.987186",
     "status": "completed"
    },
    "tags": []
   },
   "outputs": [
    {
     "data": {
      "text/plain": [
       "32.3"
      ]
     },
     "execution_count": 35,
     "metadata": {},
     "output_type": "execute_result"
    }
   ],
   "source": [
    "df['BMI'].median()"
   ]
  },
  {
   "cell_type": "code",
   "execution_count": 36,
   "id": "d9fe7c4d",
   "metadata": {
    "execution": {
     "iopub.execute_input": "2025-04-08T17:01:44.038497Z",
     "iopub.status.busy": "2025-04-08T17:01:44.038162Z",
     "iopub.status.idle": "2025-04-08T17:01:44.043376Z",
     "shell.execute_reply": "2025-04-08T17:01:44.042410Z"
    },
    "papermill": {
     "duration": 0.02167,
     "end_time": "2025-04-08T17:01:44.044935",
     "exception": false,
     "start_time": "2025-04-08T17:01:44.023265",
     "status": "completed"
    },
    "tags": []
   },
   "outputs": [],
   "source": [
    "df['BMI'] = df['BMI'].fillna(df['BMI'].median())"
   ]
  },
  {
   "cell_type": "code",
   "execution_count": 37,
   "id": "ef254d38",
   "metadata": {
    "execution": {
     "iopub.execute_input": "2025-04-08T17:01:44.074626Z",
     "iopub.status.busy": "2025-04-08T17:01:44.074286Z",
     "iopub.status.idle": "2025-04-08T17:01:44.081475Z",
     "shell.execute_reply": "2025-04-08T17:01:44.080531Z"
    },
    "papermill": {
     "duration": 0.023613,
     "end_time": "2025-04-08T17:01:44.083064",
     "exception": false,
     "start_time": "2025-04-08T17:01:44.059451",
     "status": "completed"
    },
    "tags": []
   },
   "outputs": [
    {
     "data": {
      "text/plain": [
       "Pregnant             0\n",
       "Glucose              0\n",
       "Diastolic_BP         0\n",
       "Skin_Fold            0\n",
       "Serum_Insulin        0\n",
       "BMI                  0\n",
       "Diabetes_Pedigree    0\n",
       "Age                  0\n",
       "Class                0\n",
       "dtype: int64"
      ]
     },
     "execution_count": 37,
     "metadata": {},
     "output_type": "execute_result"
    }
   ],
   "source": [
    "df.isnull().sum()"
   ]
  },
  {
   "cell_type": "code",
   "execution_count": 38,
   "id": "ed62932d",
   "metadata": {
    "execution": {
     "iopub.execute_input": "2025-04-08T17:01:44.112682Z",
     "iopub.status.busy": "2025-04-08T17:01:44.112349Z",
     "iopub.status.idle": "2025-04-08T17:01:44.128239Z",
     "shell.execute_reply": "2025-04-08T17:01:44.127261Z"
    },
    "papermill": {
     "duration": 0.032361,
     "end_time": "2025-04-08T17:01:44.129830",
     "exception": false,
     "start_time": "2025-04-08T17:01:44.097469",
     "status": "completed"
    },
    "tags": []
   },
   "outputs": [
    {
     "data": {
      "text/html": [
       "<div>\n",
       "<style scoped>\n",
       "    .dataframe tbody tr th:only-of-type {\n",
       "        vertical-align: middle;\n",
       "    }\n",
       "\n",
       "    .dataframe tbody tr th {\n",
       "        vertical-align: top;\n",
       "    }\n",
       "\n",
       "    .dataframe thead th {\n",
       "        text-align: right;\n",
       "    }\n",
       "</style>\n",
       "<table border=\"1\" class=\"dataframe\">\n",
       "  <thead>\n",
       "    <tr style=\"text-align: right;\">\n",
       "      <th></th>\n",
       "      <th>Pregnant</th>\n",
       "      <th>Glucose</th>\n",
       "      <th>Diastolic_BP</th>\n",
       "      <th>Skin_Fold</th>\n",
       "      <th>Serum_Insulin</th>\n",
       "      <th>BMI</th>\n",
       "      <th>Diabetes_Pedigree</th>\n",
       "      <th>Age</th>\n",
       "      <th>Class</th>\n",
       "    </tr>\n",
       "  </thead>\n",
       "  <tbody>\n",
       "    <tr>\n",
       "      <th>0</th>\n",
       "      <td>False</td>\n",
       "      <td>False</td>\n",
       "      <td>False</td>\n",
       "      <td>False</td>\n",
       "      <td>False</td>\n",
       "      <td>False</td>\n",
       "      <td>False</td>\n",
       "      <td>False</td>\n",
       "      <td>False</td>\n",
       "    </tr>\n",
       "    <tr>\n",
       "      <th>1</th>\n",
       "      <td>False</td>\n",
       "      <td>False</td>\n",
       "      <td>False</td>\n",
       "      <td>False</td>\n",
       "      <td>False</td>\n",
       "      <td>False</td>\n",
       "      <td>False</td>\n",
       "      <td>False</td>\n",
       "      <td>False</td>\n",
       "    </tr>\n",
       "    <tr>\n",
       "      <th>2</th>\n",
       "      <td>False</td>\n",
       "      <td>False</td>\n",
       "      <td>False</td>\n",
       "      <td>False</td>\n",
       "      <td>False</td>\n",
       "      <td>False</td>\n",
       "      <td>False</td>\n",
       "      <td>False</td>\n",
       "      <td>False</td>\n",
       "    </tr>\n",
       "    <tr>\n",
       "      <th>3</th>\n",
       "      <td>False</td>\n",
       "      <td>False</td>\n",
       "      <td>False</td>\n",
       "      <td>False</td>\n",
       "      <td>False</td>\n",
       "      <td>False</td>\n",
       "      <td>False</td>\n",
       "      <td>False</td>\n",
       "      <td>False</td>\n",
       "    </tr>\n",
       "    <tr>\n",
       "      <th>4</th>\n",
       "      <td>False</td>\n",
       "      <td>False</td>\n",
       "      <td>False</td>\n",
       "      <td>False</td>\n",
       "      <td>False</td>\n",
       "      <td>False</td>\n",
       "      <td>False</td>\n",
       "      <td>False</td>\n",
       "      <td>False</td>\n",
       "    </tr>\n",
       "    <tr>\n",
       "      <th>...</th>\n",
       "      <td>...</td>\n",
       "      <td>...</td>\n",
       "      <td>...</td>\n",
       "      <td>...</td>\n",
       "      <td>...</td>\n",
       "      <td>...</td>\n",
       "      <td>...</td>\n",
       "      <td>...</td>\n",
       "      <td>...</td>\n",
       "    </tr>\n",
       "    <tr>\n",
       "      <th>763</th>\n",
       "      <td>False</td>\n",
       "      <td>False</td>\n",
       "      <td>False</td>\n",
       "      <td>False</td>\n",
       "      <td>False</td>\n",
       "      <td>False</td>\n",
       "      <td>False</td>\n",
       "      <td>False</td>\n",
       "      <td>False</td>\n",
       "    </tr>\n",
       "    <tr>\n",
       "      <th>764</th>\n",
       "      <td>False</td>\n",
       "      <td>False</td>\n",
       "      <td>False</td>\n",
       "      <td>False</td>\n",
       "      <td>False</td>\n",
       "      <td>False</td>\n",
       "      <td>False</td>\n",
       "      <td>False</td>\n",
       "      <td>False</td>\n",
       "    </tr>\n",
       "    <tr>\n",
       "      <th>765</th>\n",
       "      <td>False</td>\n",
       "      <td>False</td>\n",
       "      <td>False</td>\n",
       "      <td>False</td>\n",
       "      <td>False</td>\n",
       "      <td>False</td>\n",
       "      <td>False</td>\n",
       "      <td>False</td>\n",
       "      <td>False</td>\n",
       "    </tr>\n",
       "    <tr>\n",
       "      <th>766</th>\n",
       "      <td>False</td>\n",
       "      <td>False</td>\n",
       "      <td>False</td>\n",
       "      <td>False</td>\n",
       "      <td>False</td>\n",
       "      <td>False</td>\n",
       "      <td>False</td>\n",
       "      <td>False</td>\n",
       "      <td>False</td>\n",
       "    </tr>\n",
       "    <tr>\n",
       "      <th>767</th>\n",
       "      <td>False</td>\n",
       "      <td>False</td>\n",
       "      <td>False</td>\n",
       "      <td>False</td>\n",
       "      <td>False</td>\n",
       "      <td>False</td>\n",
       "      <td>False</td>\n",
       "      <td>False</td>\n",
       "      <td>False</td>\n",
       "    </tr>\n",
       "  </tbody>\n",
       "</table>\n",
       "<p>768 rows × 9 columns</p>\n",
       "</div>"
      ],
      "text/plain": [
       "     Pregnant  Glucose  Diastolic_BP  Skin_Fold  Serum_Insulin    BMI  \\\n",
       "0       False    False         False      False          False  False   \n",
       "1       False    False         False      False          False  False   \n",
       "2       False    False         False      False          False  False   \n",
       "3       False    False         False      False          False  False   \n",
       "4       False    False         False      False          False  False   \n",
       "..        ...      ...           ...        ...            ...    ...   \n",
       "763     False    False         False      False          False  False   \n",
       "764     False    False         False      False          False  False   \n",
       "765     False    False         False      False          False  False   \n",
       "766     False    False         False      False          False  False   \n",
       "767     False    False         False      False          False  False   \n",
       "\n",
       "     Diabetes_Pedigree    Age  Class  \n",
       "0                False  False  False  \n",
       "1                False  False  False  \n",
       "2                False  False  False  \n",
       "3                False  False  False  \n",
       "4                False  False  False  \n",
       "..                 ...    ...    ...  \n",
       "763              False  False  False  \n",
       "764              False  False  False  \n",
       "765              False  False  False  \n",
       "766              False  False  False  \n",
       "767              False  False  False  \n",
       "\n",
       "[768 rows x 9 columns]"
      ]
     },
     "execution_count": 38,
     "metadata": {},
     "output_type": "execute_result"
    }
   ],
   "source": [
    "df.isnull()"
   ]
  },
  {
   "cell_type": "code",
   "execution_count": 39,
   "id": "df31b1b0",
   "metadata": {
    "execution": {
     "iopub.execute_input": "2025-04-08T17:01:44.160382Z",
     "iopub.status.busy": "2025-04-08T17:01:44.160039Z",
     "iopub.status.idle": "2025-04-08T17:01:44.169980Z",
     "shell.execute_reply": "2025-04-08T17:01:44.168867Z"
    },
    "papermill": {
     "duration": 0.027321,
     "end_time": "2025-04-08T17:01:44.171694",
     "exception": false,
     "start_time": "2025-04-08T17:01:44.144373",
     "status": "completed"
    },
    "tags": []
   },
   "outputs": [
    {
     "name": "stdout",
     "output_type": "stream",
     "text": [
      "<class 'pandas.core.frame.DataFrame'>\n",
      "RangeIndex: 768 entries, 0 to 767\n",
      "Data columns (total 9 columns):\n",
      " #   Column             Non-Null Count  Dtype  \n",
      "---  ------             --------------  -----  \n",
      " 0   Pregnant           768 non-null    int64  \n",
      " 1   Glucose            768 non-null    float64\n",
      " 2   Diastolic_BP       768 non-null    float64\n",
      " 3   Skin_Fold          768 non-null    float64\n",
      " 4   Serum_Insulin      768 non-null    float64\n",
      " 5   BMI                768 non-null    float64\n",
      " 6   Diabetes_Pedigree  768 non-null    float64\n",
      " 7   Age                768 non-null    int64  \n",
      " 8   Class              768 non-null    int64  \n",
      "dtypes: float64(6), int64(3)\n",
      "memory usage: 54.1 KB\n"
     ]
    }
   ],
   "source": [
    "df.info()"
   ]
  },
  {
   "cell_type": "code",
   "execution_count": 40,
   "id": "5e49b4ad",
   "metadata": {
    "execution": {
     "iopub.execute_input": "2025-04-08T17:01:44.202148Z",
     "iopub.status.busy": "2025-04-08T17:01:44.201761Z",
     "iopub.status.idle": "2025-04-08T17:01:44.233476Z",
     "shell.execute_reply": "2025-04-08T17:01:44.232386Z"
    },
    "papermill": {
     "duration": 0.049008,
     "end_time": "2025-04-08T17:01:44.235348",
     "exception": false,
     "start_time": "2025-04-08T17:01:44.186340",
     "status": "completed"
    },
    "tags": []
   },
   "outputs": [
    {
     "data": {
      "text/html": [
       "<div>\n",
       "<style scoped>\n",
       "    .dataframe tbody tr th:only-of-type {\n",
       "        vertical-align: middle;\n",
       "    }\n",
       "\n",
       "    .dataframe tbody tr th {\n",
       "        vertical-align: top;\n",
       "    }\n",
       "\n",
       "    .dataframe thead th {\n",
       "        text-align: right;\n",
       "    }\n",
       "</style>\n",
       "<table border=\"1\" class=\"dataframe\">\n",
       "  <thead>\n",
       "    <tr style=\"text-align: right;\">\n",
       "      <th></th>\n",
       "      <th>Pregnant</th>\n",
       "      <th>Glucose</th>\n",
       "      <th>Diastolic_BP</th>\n",
       "      <th>Skin_Fold</th>\n",
       "      <th>Serum_Insulin</th>\n",
       "      <th>BMI</th>\n",
       "      <th>Diabetes_Pedigree</th>\n",
       "      <th>Age</th>\n",
       "      <th>Class</th>\n",
       "    </tr>\n",
       "  </thead>\n",
       "  <tbody>\n",
       "    <tr>\n",
       "      <th>count</th>\n",
       "      <td>768.000000</td>\n",
       "      <td>768.000000</td>\n",
       "      <td>768.000000</td>\n",
       "      <td>768.000000</td>\n",
       "      <td>768.000000</td>\n",
       "      <td>768.000000</td>\n",
       "      <td>768.000000</td>\n",
       "      <td>768.000000</td>\n",
       "      <td>768.000000</td>\n",
       "    </tr>\n",
       "    <tr>\n",
       "      <th>mean</th>\n",
       "      <td>3.845052</td>\n",
       "      <td>121.514323</td>\n",
       "      <td>72.386719</td>\n",
       "      <td>29.108073</td>\n",
       "      <td>140.671875</td>\n",
       "      <td>32.455208</td>\n",
       "      <td>0.471876</td>\n",
       "      <td>33.240885</td>\n",
       "      <td>0.348958</td>\n",
       "    </tr>\n",
       "    <tr>\n",
       "      <th>std</th>\n",
       "      <td>3.369578</td>\n",
       "      <td>30.531191</td>\n",
       "      <td>12.096642</td>\n",
       "      <td>8.791221</td>\n",
       "      <td>86.383060</td>\n",
       "      <td>6.875177</td>\n",
       "      <td>0.331329</td>\n",
       "      <td>11.760232</td>\n",
       "      <td>0.476951</td>\n",
       "    </tr>\n",
       "    <tr>\n",
       "      <th>min</th>\n",
       "      <td>0.000000</td>\n",
       "      <td>44.000000</td>\n",
       "      <td>24.000000</td>\n",
       "      <td>7.000000</td>\n",
       "      <td>14.000000</td>\n",
       "      <td>18.200000</td>\n",
       "      <td>0.078000</td>\n",
       "      <td>21.000000</td>\n",
       "      <td>0.000000</td>\n",
       "    </tr>\n",
       "    <tr>\n",
       "      <th>25%</th>\n",
       "      <td>1.000000</td>\n",
       "      <td>99.000000</td>\n",
       "      <td>64.000000</td>\n",
       "      <td>25.000000</td>\n",
       "      <td>121.500000</td>\n",
       "      <td>27.500000</td>\n",
       "      <td>0.243750</td>\n",
       "      <td>24.000000</td>\n",
       "      <td>0.000000</td>\n",
       "    </tr>\n",
       "    <tr>\n",
       "      <th>50%</th>\n",
       "      <td>3.000000</td>\n",
       "      <td>117.000000</td>\n",
       "      <td>72.000000</td>\n",
       "      <td>29.000000</td>\n",
       "      <td>125.000000</td>\n",
       "      <td>32.300000</td>\n",
       "      <td>0.372500</td>\n",
       "      <td>29.000000</td>\n",
       "      <td>0.000000</td>\n",
       "    </tr>\n",
       "    <tr>\n",
       "      <th>75%</th>\n",
       "      <td>6.000000</td>\n",
       "      <td>140.250000</td>\n",
       "      <td>80.000000</td>\n",
       "      <td>32.000000</td>\n",
       "      <td>127.250000</td>\n",
       "      <td>36.600000</td>\n",
       "      <td>0.626250</td>\n",
       "      <td>41.000000</td>\n",
       "      <td>1.000000</td>\n",
       "    </tr>\n",
       "    <tr>\n",
       "      <th>max</th>\n",
       "      <td>17.000000</td>\n",
       "      <td>199.000000</td>\n",
       "      <td>122.000000</td>\n",
       "      <td>99.000000</td>\n",
       "      <td>846.000000</td>\n",
       "      <td>67.100000</td>\n",
       "      <td>2.420000</td>\n",
       "      <td>81.000000</td>\n",
       "      <td>1.000000</td>\n",
       "    </tr>\n",
       "  </tbody>\n",
       "</table>\n",
       "</div>"
      ],
      "text/plain": [
       "         Pregnant     Glucose  Diastolic_BP   Skin_Fold  Serum_Insulin  \\\n",
       "count  768.000000  768.000000    768.000000  768.000000     768.000000   \n",
       "mean     3.845052  121.514323     72.386719   29.108073     140.671875   \n",
       "std      3.369578   30.531191     12.096642    8.791221      86.383060   \n",
       "min      0.000000   44.000000     24.000000    7.000000      14.000000   \n",
       "25%      1.000000   99.000000     64.000000   25.000000     121.500000   \n",
       "50%      3.000000  117.000000     72.000000   29.000000     125.000000   \n",
       "75%      6.000000  140.250000     80.000000   32.000000     127.250000   \n",
       "max     17.000000  199.000000    122.000000   99.000000     846.000000   \n",
       "\n",
       "              BMI  Diabetes_Pedigree         Age       Class  \n",
       "count  768.000000         768.000000  768.000000  768.000000  \n",
       "mean    32.455208           0.471876   33.240885    0.348958  \n",
       "std      6.875177           0.331329   11.760232    0.476951  \n",
       "min     18.200000           0.078000   21.000000    0.000000  \n",
       "25%     27.500000           0.243750   24.000000    0.000000  \n",
       "50%     32.300000           0.372500   29.000000    0.000000  \n",
       "75%     36.600000           0.626250   41.000000    1.000000  \n",
       "max     67.100000           2.420000   81.000000    1.000000  "
      ]
     },
     "execution_count": 40,
     "metadata": {},
     "output_type": "execute_result"
    }
   ],
   "source": [
    "df.describe()"
   ]
  },
  {
   "cell_type": "markdown",
   "id": "ef0745ae",
   "metadata": {
    "papermill": {
     "duration": 0.014535,
     "end_time": "2025-04-08T17:01:44.265083",
     "exception": false,
     "start_time": "2025-04-08T17:01:44.250548",
     "status": "completed"
    },
    "tags": []
   },
   "source": [
    "# Task1 Normalization"
   ]
  },
  {
   "cell_type": "code",
   "execution_count": 41,
   "id": "0fe800e2",
   "metadata": {
    "execution": {
     "iopub.execute_input": "2025-04-08T17:01:44.295909Z",
     "iopub.status.busy": "2025-04-08T17:01:44.295522Z",
     "iopub.status.idle": "2025-04-08T17:01:44.301907Z",
     "shell.execute_reply": "2025-04-08T17:01:44.300851Z"
    },
    "papermill": {
     "duration": 0.023669,
     "end_time": "2025-04-08T17:01:44.303615",
     "exception": false,
     "start_time": "2025-04-08T17:01:44.279946",
     "status": "completed"
    },
    "tags": []
   },
   "outputs": [],
   "source": [
    "new_df = pd.DataFrame(df, columns = ['Age', 'BMI'])"
   ]
  },
  {
   "cell_type": "code",
   "execution_count": 42,
   "id": "b4e8c98e",
   "metadata": {
    "execution": {
     "iopub.execute_input": "2025-04-08T17:01:44.336401Z",
     "iopub.status.busy": "2025-04-08T17:01:44.336024Z",
     "iopub.status.idle": "2025-04-08T17:01:44.345029Z",
     "shell.execute_reply": "2025-04-08T17:01:44.343941Z"
    },
    "papermill": {
     "duration": 0.028209,
     "end_time": "2025-04-08T17:01:44.346806",
     "exception": false,
     "start_time": "2025-04-08T17:01:44.318597",
     "status": "completed"
    },
    "tags": []
   },
   "outputs": [
    {
     "data": {
      "text/html": [
       "<div>\n",
       "<style scoped>\n",
       "    .dataframe tbody tr th:only-of-type {\n",
       "        vertical-align: middle;\n",
       "    }\n",
       "\n",
       "    .dataframe tbody tr th {\n",
       "        vertical-align: top;\n",
       "    }\n",
       "\n",
       "    .dataframe thead th {\n",
       "        text-align: right;\n",
       "    }\n",
       "</style>\n",
       "<table border=\"1\" class=\"dataframe\">\n",
       "  <thead>\n",
       "    <tr style=\"text-align: right;\">\n",
       "      <th></th>\n",
       "      <th>Age</th>\n",
       "      <th>BMI</th>\n",
       "    </tr>\n",
       "  </thead>\n",
       "  <tbody>\n",
       "    <tr>\n",
       "      <th>0</th>\n",
       "      <td>50</td>\n",
       "      <td>33.6</td>\n",
       "    </tr>\n",
       "    <tr>\n",
       "      <th>1</th>\n",
       "      <td>31</td>\n",
       "      <td>26.6</td>\n",
       "    </tr>\n",
       "    <tr>\n",
       "      <th>2</th>\n",
       "      <td>32</td>\n",
       "      <td>23.3</td>\n",
       "    </tr>\n",
       "    <tr>\n",
       "      <th>3</th>\n",
       "      <td>21</td>\n",
       "      <td>28.1</td>\n",
       "    </tr>\n",
       "    <tr>\n",
       "      <th>4</th>\n",
       "      <td>33</td>\n",
       "      <td>43.1</td>\n",
       "    </tr>\n",
       "  </tbody>\n",
       "</table>\n",
       "</div>"
      ],
      "text/plain": [
       "   Age   BMI\n",
       "0   50  33.6\n",
       "1   31  26.6\n",
       "2   32  23.3\n",
       "3   21  28.1\n",
       "4   33  43.1"
      ]
     },
     "execution_count": 42,
     "metadata": {},
     "output_type": "execute_result"
    }
   ],
   "source": [
    "new_df.head()"
   ]
  },
  {
   "cell_type": "code",
   "execution_count": 43,
   "id": "50f0e04f",
   "metadata": {
    "execution": {
     "iopub.execute_input": "2025-04-08T17:01:44.378900Z",
     "iopub.status.busy": "2025-04-08T17:01:44.378506Z",
     "iopub.status.idle": "2025-04-08T17:01:44.388874Z",
     "shell.execute_reply": "2025-04-08T17:01:44.387769Z"
    },
    "papermill": {
     "duration": 0.028288,
     "end_time": "2025-04-08T17:01:44.390514",
     "exception": false,
     "start_time": "2025-04-08T17:01:44.362226",
     "status": "completed"
    },
    "tags": []
   },
   "outputs": [
    {
     "name": "stdout",
     "output_type": "stream",
     "text": [
      "<class 'pandas.core.frame.DataFrame'>\n",
      "RangeIndex: 768 entries, 0 to 767\n",
      "Data columns (total 2 columns):\n",
      " #   Column  Non-Null Count  Dtype  \n",
      "---  ------  --------------  -----  \n",
      " 0   Age     768 non-null    int64  \n",
      " 1   BMI     768 non-null    float64\n",
      "dtypes: float64(1), int64(1)\n",
      "memory usage: 12.1 KB\n"
     ]
    }
   ],
   "source": [
    "new_df.info()"
   ]
  },
  {
   "cell_type": "code",
   "execution_count": 44,
   "id": "a5a8bc0e",
   "metadata": {
    "execution": {
     "iopub.execute_input": "2025-04-08T17:01:44.422011Z",
     "iopub.status.busy": "2025-04-08T17:01:44.421588Z",
     "iopub.status.idle": "2025-04-08T17:01:44.430876Z",
     "shell.execute_reply": "2025-04-08T17:01:44.429740Z"
    },
    "papermill": {
     "duration": 0.026713,
     "end_time": "2025-04-08T17:01:44.432480",
     "exception": false,
     "start_time": "2025-04-08T17:01:44.405767",
     "status": "completed"
    },
    "tags": []
   },
   "outputs": [
    {
     "name": "stdout",
     "output_type": "stream",
     "text": [
      "[[0.48333333 0.31492843]\n",
      " [0.16666667 0.17177914]\n",
      " [0.18333333 0.10429448]\n",
      " ...\n",
      " [0.15       0.16359918]\n",
      " [0.43333333 0.24335378]\n",
      " [0.03333333 0.24948875]]\n"
     ]
    }
   ],
   "source": [
    "scaler = MinMaxScaler() # Instantiating the MinMaxScaler() function\n",
    "normalized_df = scaler.fit_transform(new_df)\n",
    "print(normalized_df)"
   ]
  },
  {
   "cell_type": "markdown",
   "id": "2ea00763",
   "metadata": {
    "papermill": {
     "duration": 0.014638,
     "end_time": "2025-04-08T17:01:44.462425",
     "exception": false,
     "start_time": "2025-04-08T17:01:44.447787",
     "status": "completed"
    },
    "tags": []
   },
   "source": [
    "# Example Normalization - (MinMaxScaler)"
   ]
  },
  {
   "cell_type": "code",
   "execution_count": 45,
   "id": "2b7e1d87",
   "metadata": {
    "execution": {
     "iopub.execute_input": "2025-04-08T17:01:44.493461Z",
     "iopub.status.busy": "2025-04-08T17:01:44.493108Z",
     "iopub.status.idle": "2025-04-08T17:01:44.499893Z",
     "shell.execute_reply": "2025-04-08T17:01:44.498590Z"
    },
    "papermill": {
     "duration": 0.024325,
     "end_time": "2025-04-08T17:01:44.501575",
     "exception": false,
     "start_time": "2025-04-08T17:01:44.477250",
     "status": "completed"
    },
    "tags": []
   },
   "outputs": [
    {
     "name": "stdout",
     "output_type": "stream",
     "text": [
      "[[0.  ]\n",
      " [0.25]\n",
      " [0.75]\n",
      " [1.  ]\n",
      " [1.  ]]\n"
     ]
    }
   ],
   "source": [
    "x_array = np.array([[2], [3], [5], [6], [6]])\n",
    "scaler = MinMaxScaler()\n",
    "normalizeddf = scaler.fit_transform(x_array)\n",
    "print(normalizeddf)"
   ]
  },
  {
   "cell_type": "markdown",
   "id": "3bf62a92",
   "metadata": {
    "papermill": {
     "duration": 0.015006,
     "end_time": "2025-04-08T17:01:44.531973",
     "exception": false,
     "start_time": "2025-04-08T17:01:44.516967",
     "status": "completed"
    },
    "tags": []
   },
   "source": [
    "# Task2 Standardization"
   ]
  },
  {
   "cell_type": "code",
   "execution_count": 46,
   "id": "2e3c0159",
   "metadata": {
    "execution": {
     "iopub.execute_input": "2025-04-08T17:01:44.563779Z",
     "iopub.status.busy": "2025-04-08T17:01:44.563397Z",
     "iopub.status.idle": "2025-04-08T17:01:44.572378Z",
     "shell.execute_reply": "2025-04-08T17:01:44.571319Z"
    },
    "papermill": {
     "duration": 0.026592,
     "end_time": "2025-04-08T17:01:44.573923",
     "exception": false,
     "start_time": "2025-04-08T17:01:44.547331",
     "status": "completed"
    },
    "tags": []
   },
   "outputs": [
    {
     "name": "stdout",
     "output_type": "stream",
     "text": [
      "[[ 1.4259954   0.16661938]\n",
      " [-0.19067191 -0.85219976]\n",
      " [-0.10558415 -1.33250021]\n",
      " ...\n",
      " [-0.27575966 -0.910418  ]\n",
      " [ 1.17073215 -0.34279019]\n",
      " [-0.87137393 -0.29912651]]\n"
     ]
    }
   ],
   "source": [
    "scaler = StandardScaler()\n",
    "standardized_df = scaler.fit_transform(new_df)\n",
    "print(standardized_df)"
   ]
  },
  {
   "cell_type": "markdown",
   "id": "f8df82c7",
   "metadata": {
    "papermill": {
     "duration": 0.014923,
     "end_time": "2025-04-08T17:01:44.604290",
     "exception": false,
     "start_time": "2025-04-08T17:01:44.589367",
     "status": "completed"
    },
    "tags": []
   },
   "source": [
    "# Example Standardization - (StandardScaler)"
   ]
  },
  {
   "cell_type": "code",
   "execution_count": 47,
   "id": "34b36540",
   "metadata": {
    "execution": {
     "iopub.execute_input": "2025-04-08T17:01:44.636101Z",
     "iopub.status.busy": "2025-04-08T17:01:44.635658Z",
     "iopub.status.idle": "2025-04-08T17:01:44.642480Z",
     "shell.execute_reply": "2025-04-08T17:01:44.641349Z"
    },
    "papermill": {
     "duration": 0.024773,
     "end_time": "2025-04-08T17:01:44.644182",
     "exception": false,
     "start_time": "2025-04-08T17:01:44.619409",
     "status": "completed"
    },
    "tags": []
   },
   "outputs": [
    {
     "name": "stdout",
     "output_type": "stream",
     "text": [
      "[[-1.47709789]\n",
      " [-0.86164044]\n",
      " [ 0.36927447]\n",
      " [ 0.98473193]\n",
      " [ 0.98473193]]\n"
     ]
    }
   ],
   "source": [
    "x_array = np.array([[2], [3], [5], [6], [6]])\n",
    "scaler = StandardScaler()\n",
    "standardized_df = scaler.fit_transform(x_array)\n",
    "print(standardized_df)"
   ]
  },
  {
   "cell_type": "code",
   "execution_count": null,
   "id": "767251ac",
   "metadata": {
    "papermill": {
     "duration": 0.015608,
     "end_time": "2025-04-08T17:01:44.675235",
     "exception": false,
     "start_time": "2025-04-08T17:01:44.659627",
     "status": "completed"
    },
    "tags": []
   },
   "outputs": [],
   "source": []
  }
 ],
 "metadata": {
  "kaggle": {
   "accelerator": "none",
   "dataSources": [
    {
     "datasetId": 230350,
     "sourceId": 3284663,
     "sourceType": "datasetVersion"
    },
    {
     "datasetId": 2437124,
     "sourceId": 4123716,
     "sourceType": "datasetVersion"
    },
    {
     "datasetId": 3051697,
     "sourceId": 5244696,
     "sourceType": "datasetVersion"
    },
    {
     "datasetId": 7008896,
     "sourceId": 11222734,
     "sourceType": "datasetVersion"
    },
    {
     "datasetId": 7086307,
     "sourceId": 11328374,
     "sourceType": "datasetVersion"
    }
   ],
   "dockerImageVersionId": 30918,
   "isGpuEnabled": false,
   "isInternetEnabled": true,
   "language": "python",
   "sourceType": "notebook"
  },
  "kernelspec": {
   "display_name": "Python 3",
   "language": "python",
   "name": "python3"
  },
  "language_info": {
   "codemirror_mode": {
    "name": "ipython",
    "version": 3
   },
   "file_extension": ".py",
   "mimetype": "text/x-python",
   "name": "python",
   "nbconvert_exporter": "python",
   "pygments_lexer": "ipython3",
   "version": "3.10.12"
  },
  "papermill": {
   "default_parameters": {},
   "duration": 17.882217,
   "end_time": "2025-04-08T17:01:45.411065",
   "environment_variables": {},
   "exception": null,
   "input_path": "__notebook__.ipynb",
   "output_path": "__notebook__.ipynb",
   "parameters": {},
   "start_time": "2025-04-08T17:01:27.528848",
   "version": "2.6.0"
  }
 },
 "nbformat": 4,
 "nbformat_minor": 5
}
